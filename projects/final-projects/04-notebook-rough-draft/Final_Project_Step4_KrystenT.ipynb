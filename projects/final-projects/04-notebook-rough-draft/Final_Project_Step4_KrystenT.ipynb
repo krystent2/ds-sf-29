{
 "cells": [
  {
   "cell_type": "code",
   "execution_count": 1,
   "metadata": {
    "collapsed": true
   },
   "outputs": [],
   "source": [
    "import pandas as pd\n",
    "import matplotlib.pyplot as plt\n",
    "import numpy as np"
   ]
  },
  {
   "cell_type": "code",
   "execution_count": 2,
   "metadata": {
    "collapsed": false
   },
   "outputs": [
    {
     "name": "stderr",
     "output_type": "stream",
     "text": [
      "/Users/krys/anaconda2/lib/python2.7/site-packages/IPython/core/interactiveshell.py:2717: DtypeWarning: Columns (5,11) have mixed types. Specify dtype option on import or set low_memory=False.\n",
      "  interactivity=interactivity, compiler=compiler, result=result)\n"
     ]
    }
   ],
   "source": [
    "df = pd.read_csv('Consumer_Complaints1.csv')"
   ]
  },
  {
   "cell_type": "code",
   "execution_count": 3,
   "metadata": {
    "collapsed": false
   },
   "outputs": [
    {
     "data": {
      "text/html": [
       "<div>\n",
       "<table border=\"1\" class=\"dataframe\">\n",
       "  <thead>\n",
       "    <tr style=\"text-align: right;\">\n",
       "      <th></th>\n",
       "      <th>Date received</th>\n",
       "      <th>Product</th>\n",
       "      <th>Sub-product</th>\n",
       "      <th>Issue</th>\n",
       "      <th>Sub-issue</th>\n",
       "      <th>Consumer complaint narrative</th>\n",
       "      <th>Company public response</th>\n",
       "      <th>Company</th>\n",
       "      <th>State</th>\n",
       "      <th>ZIP code</th>\n",
       "      <th>Tags</th>\n",
       "      <th>Consumer consent provided?</th>\n",
       "      <th>Submitted via</th>\n",
       "      <th>Date sent to company</th>\n",
       "      <th>Company response to consumer</th>\n",
       "      <th>Timely response?</th>\n",
       "      <th>Consumer disputed?</th>\n",
       "      <th>Complaint ID</th>\n",
       "    </tr>\n",
       "  </thead>\n",
       "  <tbody>\n",
       "    <tr>\n",
       "      <th>0</th>\n",
       "      <td>07/29/2013</td>\n",
       "      <td>Consumer Loan</td>\n",
       "      <td>Vehicle loan</td>\n",
       "      <td>Managing the loan or lease</td>\n",
       "      <td>NaN</td>\n",
       "      <td>NaN</td>\n",
       "      <td>NaN</td>\n",
       "      <td>Wells Fargo &amp; Company</td>\n",
       "      <td>VA</td>\n",
       "      <td>24540</td>\n",
       "      <td>NaN</td>\n",
       "      <td>NaN</td>\n",
       "      <td>Phone</td>\n",
       "      <td>07/30/2013</td>\n",
       "      <td>Closed with explanation</td>\n",
       "      <td>Yes</td>\n",
       "      <td>No</td>\n",
       "      <td>468882</td>\n",
       "    </tr>\n",
       "    <tr>\n",
       "      <th>1</th>\n",
       "      <td>07/29/2013</td>\n",
       "      <td>Bank account or service</td>\n",
       "      <td>Checking account</td>\n",
       "      <td>Using a debit or ATM card</td>\n",
       "      <td>NaN</td>\n",
       "      <td>NaN</td>\n",
       "      <td>NaN</td>\n",
       "      <td>Wells Fargo &amp; Company</td>\n",
       "      <td>CA</td>\n",
       "      <td>95992</td>\n",
       "      <td>Older American</td>\n",
       "      <td>NaN</td>\n",
       "      <td>Web</td>\n",
       "      <td>07/31/2013</td>\n",
       "      <td>Closed with explanation</td>\n",
       "      <td>Yes</td>\n",
       "      <td>No</td>\n",
       "      <td>468889</td>\n",
       "    </tr>\n",
       "    <tr>\n",
       "      <th>2</th>\n",
       "      <td>07/29/2013</td>\n",
       "      <td>Bank account or service</td>\n",
       "      <td>Checking account</td>\n",
       "      <td>Account opening, closing, or management</td>\n",
       "      <td>NaN</td>\n",
       "      <td>NaN</td>\n",
       "      <td>NaN</td>\n",
       "      <td>Santander Bank US</td>\n",
       "      <td>NY</td>\n",
       "      <td>10065</td>\n",
       "      <td>NaN</td>\n",
       "      <td>NaN</td>\n",
       "      <td>Fax</td>\n",
       "      <td>07/31/2013</td>\n",
       "      <td>Closed</td>\n",
       "      <td>Yes</td>\n",
       "      <td>No</td>\n",
       "      <td>468879</td>\n",
       "    </tr>\n",
       "  </tbody>\n",
       "</table>\n",
       "</div>"
      ],
      "text/plain": [
       "  Date received                  Product       Sub-product  \\\n",
       "0    07/29/2013            Consumer Loan      Vehicle loan   \n",
       "1    07/29/2013  Bank account or service  Checking account   \n",
       "2    07/29/2013  Bank account or service  Checking account   \n",
       "\n",
       "                                     Issue Sub-issue  \\\n",
       "0               Managing the loan or lease       NaN   \n",
       "1                Using a debit or ATM card       NaN   \n",
       "2  Account opening, closing, or management       NaN   \n",
       "\n",
       "  Consumer complaint narrative Company public response                Company  \\\n",
       "0                          NaN                     NaN  Wells Fargo & Company   \n",
       "1                          NaN                     NaN  Wells Fargo & Company   \n",
       "2                          NaN                     NaN      Santander Bank US   \n",
       "\n",
       "  State ZIP code            Tags Consumer consent provided? Submitted via  \\\n",
       "0    VA    24540             NaN                        NaN         Phone   \n",
       "1    CA    95992  Older American                        NaN           Web   \n",
       "2    NY    10065             NaN                        NaN           Fax   \n",
       "\n",
       "  Date sent to company Company response to consumer Timely response?  \\\n",
       "0           07/30/2013      Closed with explanation              Yes   \n",
       "1           07/31/2013      Closed with explanation              Yes   \n",
       "2           07/31/2013                       Closed              Yes   \n",
       "\n",
       "  Consumer disputed?  Complaint ID  \n",
       "0                 No        468882  \n",
       "1                 No        468889  \n",
       "2                 No        468879  "
      ]
     },
     "execution_count": 3,
     "metadata": {},
     "output_type": "execute_result"
    }
   ],
   "source": [
    "df.head(3)"
   ]
  },
  {
   "cell_type": "code",
   "execution_count": 4,
   "metadata": {
    "collapsed": false
   },
   "outputs": [
    {
     "name": "stdout",
     "output_type": "stream",
     "text": [
      "<class 'pandas.core.frame.DataFrame'>\n",
      "RangeIndex: 679879 entries, 0 to 679878\n",
      "Data columns (total 18 columns):\n",
      "Date received                   679879 non-null object\n",
      "Product                         679879 non-null object\n",
      "Sub-product                     478762 non-null object\n",
      "Issue                           679878 non-null object\n",
      "Sub-issue                       274342 non-null object\n",
      "Consumer complaint narrative    118315 non-null object\n",
      "Company public response         150445 non-null object\n",
      "Company                         679879 non-null object\n",
      "State                           674511 non-null object\n",
      "ZIP code                        674498 non-null object\n",
      "Tags                            96164 non-null object\n",
      "Consumer consent provided?      215359 non-null object\n",
      "Submitted via                   679878 non-null object\n",
      "Date sent to company            679879 non-null object\n",
      "Company response to consumer    679879 non-null object\n",
      "Timely response?                679879 non-null object\n",
      "Consumer disputed?              639285 non-null object\n",
      "Complaint ID                    679879 non-null int64\n",
      "dtypes: int64(1), object(17)\n",
      "memory usage: 93.4+ MB\n"
     ]
    }
   ],
   "source": [
    "df.info()"
   ]
  },
  {
   "cell_type": "code",
   "execution_count": 5,
   "metadata": {
    "collapsed": true
   },
   "outputs": [],
   "source": [
    "# Remove these columns: Sub-issue (4), Consumer Complaint Narrative (5), \n",
    "#Company Public Response (6), Zip Code (8), Tags (9), Consumer consent provided? (10), \n",
    "#Date sent to company (12), Complaint ID (17)"
   ]
  },
  {
   "cell_type": "code",
   "execution_count": 6,
   "metadata": {
    "collapsed": false
   },
   "outputs": [],
   "source": [
    "df.drop(df.columns[[4,5,6]], axis=1, inplace=True)"
   ]
  },
  {
   "cell_type": "code",
   "execution_count": 7,
   "metadata": {
    "collapsed": false
   },
   "outputs": [
    {
     "name": "stdout",
     "output_type": "stream",
     "text": [
      "<class 'pandas.core.frame.DataFrame'>\n",
      "RangeIndex: 679879 entries, 0 to 679878\n",
      "Data columns (total 15 columns):\n",
      "Date received                   679879 non-null object\n",
      "Product                         679879 non-null object\n",
      "Sub-product                     478762 non-null object\n",
      "Issue                           679878 non-null object\n",
      "Company                         679879 non-null object\n",
      "State                           674511 non-null object\n",
      "ZIP code                        674498 non-null object\n",
      "Tags                            96164 non-null object\n",
      "Consumer consent provided?      215359 non-null object\n",
      "Submitted via                   679878 non-null object\n",
      "Date sent to company            679879 non-null object\n",
      "Company response to consumer    679879 non-null object\n",
      "Timely response?                679879 non-null object\n",
      "Consumer disputed?              639285 non-null object\n",
      "Complaint ID                    679879 non-null int64\n",
      "dtypes: int64(1), object(14)\n",
      "memory usage: 77.8+ MB\n"
     ]
    }
   ],
   "source": [
    "df.info()"
   ]
  },
  {
   "cell_type": "code",
   "execution_count": 8,
   "metadata": {
    "collapsed": false
   },
   "outputs": [],
   "source": [
    "df.drop(df.columns[[6,7,8,10,12,14]], axis=1, inplace=True)"
   ]
  },
  {
   "cell_type": "code",
   "execution_count": 9,
   "metadata": {
    "collapsed": false
   },
   "outputs": [
    {
     "name": "stdout",
     "output_type": "stream",
     "text": [
      "<class 'pandas.core.frame.DataFrame'>\n",
      "RangeIndex: 679879 entries, 0 to 679878\n",
      "Data columns (total 9 columns):\n",
      "Date received                   679879 non-null object\n",
      "Product                         679879 non-null object\n",
      "Sub-product                     478762 non-null object\n",
      "Issue                           679878 non-null object\n",
      "Company                         679879 non-null object\n",
      "State                           674511 non-null object\n",
      "Submitted via                   679878 non-null object\n",
      "Company response to consumer    679879 non-null object\n",
      "Consumer disputed?              639285 non-null object\n",
      "dtypes: object(9)\n",
      "memory usage: 46.7+ MB\n"
     ]
    }
   ],
   "source": [
    "df.info()"
   ]
  },
  {
   "cell_type": "code",
   "execution_count": 37,
   "metadata": {
    "collapsed": false
   },
   "outputs": [
    {
     "data": {
      "text/plain": [
       "Mortgage                   212178\n",
       "Debt collection            126369\n",
       "Credit reporting           120998\n",
       "Credit card                 80119\n",
       "Bank account or service     77253\n",
       "Consumer Loan               27101\n",
       "Student loan                22083\n",
       "Payday loan                  4893\n",
       "Money transfers              4792\n",
       "Prepaid card                 3242\n",
       "Name: Product, dtype: int64"
      ]
     },
     "execution_count": 37,
     "metadata": {},
     "output_type": "execute_result"
    }
   ],
   "source": [
    "df['Product'].value_counts()"
   ]
  },
  {
   "cell_type": "code",
   "execution_count": 40,
   "metadata": {
    "collapsed": false
   },
   "outputs": [
    {
     "name": "stdout",
     "output_type": "stream",
     "text": [
      "Mortgage                   212358\n",
      "Debt collection            126586\n",
      "Credit reporting           121152\n",
      "Credit card                 80223\n",
      "Bank account or service     77350\n",
      "Consumer Loan               27143\n",
      "Student loan                22117\n",
      "Payday loan                  4897\n",
      "Money transfers              4802\n",
      "Prepaid card                 3251\n",
      "Name: Product, dtype: int64\n"
     ]
    }
   ],
   "source": [
    "threshold = 1000\n",
    "for col in df.columns:\n",
    "    value_counts = df['Product'].value_counts()\n",
    "    to_remove = value_counts[value_counts <= threshold].index\n",
    "    df['Product'].replace(to_remove, inplace=True)\n",
    "print df['Product'].value_counts()    "
   ]
  },
  {
   "cell_type": "code",
   "execution_count": 34,
   "metadata": {
    "collapsed": false
   },
   "outputs": [
    {
     "data": {
      "text/plain": [
       "Other mortgage                            82264\n",
       "Conventional fixed mortgage               65690\n",
       "Checking account                          53724\n",
       "Other (i.e. phone, health club, etc.)     37853\n",
       "I do not know                             26429\n",
       "Credit card                               25464\n",
       "Conventional adjustable mortgage (ARM)    23806\n",
       "FHA mortgage                              22582\n",
       "Non-federal student loan                  20938\n",
       "Medical                                   17504\n",
       "Vehicle loan                              15386\n",
       "Other bank product/service                15016\n",
       "Payday loan                               11721\n",
       "Home equity loan or line of credit        10674\n",
       "Installment loan                           7241\n",
       "Savings account                            4750\n",
       "VA mortgage                                4608\n",
       "Mortgage                                   4359\n",
       "Federal student loan servicing             3716\n",
       "Auto                                       3193\n",
       "(CD) Certificate of deposit                3191\n",
       "International money transfer               2508\n",
       "Domestic (US) money transfer               2299\n",
       "Vehicle lease                              2221\n",
       "Federal student loan                       2168\n",
       "Reverse mortgage                           1892\n",
       "Personal line of credit                    1717\n",
       "General purpose card                       1489\n",
       "Second mortgage                             662\n",
       "Cashing a check without an account          572\n",
       "Title loan                                  454\n",
       "Payroll card                                374\n",
       "Mobile wallet                               345\n",
       "Gift or merchant card                       331\n",
       "Government benefit payment card             313\n",
       "Debt settlement                             238\n",
       "Check cashing                               212\n",
       "ID prepaid card                             188\n",
       "Other special purpose card                  163\n",
       "Money order                                 118\n",
       "Pawn loan                                    82\n",
       "Credit repair                                81\n",
       "Traveler’s/Cashier’s checks                  72\n",
       "Refund anticipation check                    60\n",
       "Foreign currency exchange                    55\n",
       "Transit card                                 33\n",
       "Electronic Benefit Transfer / EBT card        6\n",
       "Name: Sub-product, dtype: int64"
      ]
     },
     "execution_count": 34,
     "metadata": {},
     "output_type": "execute_result"
    }
   ],
   "source": [
    "df['Sub-product'].value_counts()"
   ]
  },
  {
   "cell_type": "code",
   "execution_count": 41,
   "metadata": {
    "collapsed": false
   },
   "outputs": [
    {
     "name": "stdout",
     "output_type": "stream",
     "text": [
      "Other mortgage                            119633\n",
      "Conventional fixed mortgage                99733\n",
      "Checking account                           80711\n",
      "Other (i.e. phone, health club, etc.)      60339\n",
      "I do not know                              41208\n",
      "Credit card                                39579\n",
      "Conventional adjustable mortgage (ARM)     36262\n",
      "FHA mortgage                               34552\n",
      "Non-federal student loan                   31949\n",
      "Medical                                    28453\n",
      "Vehicle loan                               23804\n",
      "Other bank product/service                 23387\n",
      "Payday loan                                18079\n",
      "Home equity loan or line of credit         16298\n",
      "Installment loan                           11539\n",
      "VA mortgage                                 7212\n",
      "Savings account                             7141\n",
      "Name: Sub-product, dtype: int64\n"
     ]
    }
   ],
   "source": [
    "threshold = 4500\n",
    "for col in df.columns:\n",
    "    value_counts = df['Sub-product'].value_counts()\n",
    "    to_remove = value_counts[value_counts <= threshold].index\n",
    "    df['Sub-product'].replace(to_remove, inplace=True)\n",
    "print df['Sub-product'].value_counts() "
   ]
  },
  {
   "cell_type": "code",
   "execution_count": 35,
   "metadata": {
    "collapsed": false
   },
   "outputs": [
    {
     "data": {
      "text/plain": [
       "Loan modification,collection,foreclosure    107093\n",
       "Incorrect information on credit report       88243\n",
       "Loan servicing, payments, escrow account     70979\n",
       "Cont'd attempts collect debt not owed        52502\n",
       "Account opening, closing, or management      33832\n",
       "Disclosure verification of debt              25173\n",
       "Communication tactics                        21621\n",
       "Deposits and withdrawals                     20618\n",
       "Application, originator, mortgage broker     15702\n",
       "Credit reporting company's investigation     14178\n",
       "Billing disputes                             13374\n",
       "Other                                        13262\n",
       "Managing the loan or lease                   12973\n",
       "Problems caused by my funds being low        10785\n",
       "Dealing with my lender or servicer           10546\n",
       "False statements or representation           10174\n",
       "Unable to get credit report/credit score      9870\n",
       "Improper contact or sharing of info           8938\n",
       "Problems when you are unable to pay           8281\n",
       "Settlement process and costs                  8182\n",
       "Taking/threatening an illegal action          7961\n",
       "Identity theft / Fraud / Embezzlement         7493\n",
       "Making/receiving payments, sending money      6580\n",
       "Closing/Cancelling account                    5730\n",
       "Using a debit or ATM card                     5438\n",
       "Can't repay my loan                           5418\n",
       "Credit decision / Underwriting                5188\n",
       "APR or interest rate                          5183\n",
       "Improper use of my credit report              4799\n",
       "Credit monitoring or identity protection      3908\n",
       "                                             ...  \n",
       "Privacy                                        443\n",
       "Bankruptcy                                     426\n",
       "Payment to acct not credited                   390\n",
       "Applied for loan/did not receive money         321\n",
       "Arbitration                                    311\n",
       "Sale of account                                311\n",
       "Shopping for a line of credit                  287\n",
       "Charged bank acct wrong day or amt             260\n",
       "Wrong amount charged or received               244\n",
       "Cash advance                                   232\n",
       "Customer service/Customer relations            231\n",
       "Fees                                           205\n",
       "Overlimit fee                                  202\n",
       "Balance transfer fee                           196\n",
       "Adding money                                   185\n",
       "Cash advance fee                               184\n",
       "Incorrect/missing disclosures or info          181\n",
       "Convenience checks                             132\n",
       "Excessive fees                                  85\n",
       "Unexpected/Other fees                           84\n",
       "Lender repossessed or sold the vehicle          68\n",
       "Advertising, marketing or disclosures           66\n",
       "Overdraft, savings or rewards features          46\n",
       "Lost or stolen check                            37\n",
       "Lost or stolen money order                      36\n",
       "Disclosures                                     35\n",
       "Incorrect exchange rate                         22\n",
       "Lender sold the property                         7\n",
       "Lender damaged or destroyed vehicle              6\n",
       "Lender damaged or destroyed property             1\n",
       "Name: Issue, dtype: int64"
      ]
     },
     "execution_count": 35,
     "metadata": {},
     "output_type": "execute_result"
    }
   ],
   "source": [
    "df['Issue'].value_counts()"
   ]
  },
  {
   "cell_type": "code",
   "execution_count": 43,
   "metadata": {
    "collapsed": false
   },
   "outputs": [
    {
     "name": "stdout",
     "output_type": "stream",
     "text": [
      "Loan modification,collection,foreclosure    139974\n",
      "Incorrect information on credit report      114181\n",
      "Loan servicing, payments, escrow account     93172\n",
      "Cont'd attempts collect debt not owed        68129\n",
      "Account opening, closing, or management      44140\n",
      "Disclosure verification of debt              32598\n",
      "Communication tactics                        28170\n",
      "Deposits and withdrawals                     27000\n",
      "Application, originator, mortgage broker     20801\n",
      "Credit reporting company's investigation     18529\n",
      "Billing disputes                             17587\n",
      "Other                                        17476\n",
      "Managing the loan or lease                   17107\n",
      "Problems caused by my funds being low        14067\n",
      "Dealing with my lender or servicer           13682\n",
      "False statements or representation           13266\n",
      "Name: Issue, dtype: int64\n"
     ]
    }
   ],
   "source": [
    "threshold = 5000\n",
    "for col in df.columns:\n",
    "    value_counts = df['Issue'].value_counts()\n",
    "    to_remove = value_counts[value_counts <= threshold].index\n",
    "    df['Issue'].replace(to_remove, inplace=True)\n",
    "print df['Issue'].value_counts() "
   ]
  },
  {
   "cell_type": "code",
   "execution_count": 11,
   "metadata": {
    "collapsed": false
   },
   "outputs": [],
   "source": [
    "#df1 = df.dropna(subset=[['Sub-product']])"
   ]
  },
  {
   "cell_type": "code",
   "execution_count": 12,
   "metadata": {
    "collapsed": false
   },
   "outputs": [],
   "source": [
    "df2 = df1.dropna(subset=[['Consumer disputed?']])"
   ]
  },
  {
   "cell_type": "code",
   "execution_count": 13,
   "metadata": {
    "collapsed": false
   },
   "outputs": [
    {
     "name": "stdout",
     "output_type": "stream",
     "text": [
      "<class 'pandas.core.frame.DataFrame'>\n",
      "Int64Index: 451462 entries, 0 to 679876\n",
      "Data columns (total 9 columns):\n",
      "Date received                   451462 non-null object\n",
      "Product                         451462 non-null object\n",
      "Sub-product                     451462 non-null object\n",
      "Issue                           451461 non-null object\n",
      "Company                         451462 non-null object\n",
      "State                           447558 non-null object\n",
      "Submitted via                   451462 non-null object\n",
      "Company response to consumer    451462 non-null object\n",
      "Consumer disputed?              451462 non-null object\n",
      "dtypes: object(9)\n",
      "memory usage: 34.4+ MB\n"
     ]
    }
   ],
   "source": [
    "df2.info()"
   ]
  },
  {
   "cell_type": "code",
   "execution_count": 14,
   "metadata": {
    "collapsed": false
   },
   "outputs": [
    {
     "data": {
      "text/plain": [
       "No     353127\n",
       "Yes     98335\n",
       "Name: Consumer disputed?, dtype: int64"
      ]
     },
     "execution_count": 14,
     "metadata": {},
     "output_type": "execute_result"
    }
   ],
   "source": [
    "df2['Consumer disputed?'].value_counts()"
   ]
  },
  {
   "cell_type": "code",
   "execution_count": 15,
   "metadata": {
    "collapsed": false
   },
   "outputs": [
    {
     "name": "stdout",
     "output_type": "stream",
     "text": [
      "   Consumer_dispute_No  Consumer_dispute_Yes\n",
      "0                  1.0                   0.0\n",
      "1                  1.0                   0.0\n",
      "2                  1.0                   0.0\n",
      "3                  1.0                   0.0\n",
      "4                  1.0                   0.0\n"
     ]
    }
   ],
   "source": [
    "dummy_consumerdisp = pd.get_dummies(df2[['Consumer disputed?']], prefix='Consumer_dispute')\n",
    "print dummy_consumerdisp.head()"
   ]
  },
  {
   "cell_type": "code",
   "execution_count": 17,
   "metadata": {
    "collapsed": false
   },
   "outputs": [
    {
     "name": "stdout",
     "output_type": "stream",
     "text": [
      "<class 'pandas.core.frame.DataFrame'>\n",
      "Int64Index: 451462 entries, 0 to 679876\n",
      "Data columns (total 10 columns):\n",
      "Product_Bank account or service    451462 non-null float64\n",
      "Product_Consumer Loan              451462 non-null float64\n",
      "Product_Debt collection            451462 non-null float64\n",
      "Product_Money transfers            451462 non-null float64\n",
      "Product_Mortgage                   451462 non-null float64\n",
      "Product_Other financial service    451462 non-null float64\n",
      "Product_Payday loan                451462 non-null float64\n",
      "Product_Prepaid card               451462 non-null float64\n",
      "Product_Student loan               451462 non-null float64\n",
      "Product_Virtual currency           451462 non-null float64\n",
      "dtypes: float64(10)\n",
      "memory usage: 37.9 MB\n",
      "None\n"
     ]
    }
   ],
   "source": [
    "dummy_product = pd.get_dummies(df2[['Product']], prefix='Product')\n",
    "print dummy_product.info()"
   ]
  },
  {
   "cell_type": "code",
   "execution_count": 18,
   "metadata": {
    "collapsed": false
   },
   "outputs": [
    {
     "name": "stdout",
     "output_type": "stream",
     "text": [
      "   Sub-prod_(CD) Certificate of deposit  Sub-prod_Auto  \\\n",
      "0                                   0.0            0.0   \n",
      "1                                   0.0            0.0   \n",
      "2                                   0.0            0.0   \n",
      "3                                   0.0            0.0   \n",
      "4                                   0.0            0.0   \n",
      "\n",
      "   Sub-prod_Cashing a check without an account  Sub-prod_Check cashing  \\\n",
      "0                                          0.0                     0.0   \n",
      "1                                          0.0                     0.0   \n",
      "2                                          0.0                     0.0   \n",
      "3                                          0.0                     0.0   \n",
      "4                                          0.0                     0.0   \n",
      "\n",
      "   Sub-prod_Checking account  Sub-prod_Conventional adjustable mortgage (ARM)  \\\n",
      "0                        0.0                                              0.0   \n",
      "1                        1.0                                              0.0   \n",
      "2                        1.0                                              0.0   \n",
      "3                        1.0                                              0.0   \n",
      "4                        0.0                                              0.0   \n",
      "\n",
      "   Sub-prod_Conventional fixed mortgage  Sub-prod_Credit card  \\\n",
      "0                                   0.0                   0.0   \n",
      "1                                   0.0                   0.0   \n",
      "2                                   0.0                   0.0   \n",
      "3                                   0.0                   0.0   \n",
      "4                                   1.0                   0.0   \n",
      "\n",
      "   Sub-prod_Credit repair  Sub-prod_Debt settlement          ...            \\\n",
      "0                     0.0                       0.0          ...             \n",
      "1                     0.0                       0.0          ...             \n",
      "2                     0.0                       0.0          ...             \n",
      "3                     0.0                       0.0          ...             \n",
      "4                     0.0                       0.0          ...             \n",
      "\n",
      "   Sub-prod_Refund anticipation check  Sub-prod_Reverse mortgage  \\\n",
      "0                                 0.0                        0.0   \n",
      "1                                 0.0                        0.0   \n",
      "2                                 0.0                        0.0   \n",
      "3                                 0.0                        0.0   \n",
      "4                                 0.0                        0.0   \n",
      "\n",
      "   Sub-prod_Savings account  Sub-prod_Second mortgage  Sub-prod_Title loan  \\\n",
      "0                       0.0                       0.0                  0.0   \n",
      "1                       0.0                       0.0                  0.0   \n",
      "2                       0.0                       0.0                  0.0   \n",
      "3                       0.0                       0.0                  0.0   \n",
      "4                       0.0                       0.0                  0.0   \n",
      "\n",
      "   Sub-prod_Transit card  Sub-prod_Traveler’s/Cashier’s checks  \\\n",
      "0                    0.0                                   0.0   \n",
      "1                    0.0                                   0.0   \n",
      "2                    0.0                                   0.0   \n",
      "3                    0.0                                   0.0   \n",
      "4                    0.0                                   0.0   \n",
      "\n",
      "   Sub-prod_VA mortgage  Sub-prod_Vehicle lease  Sub-prod_Vehicle loan  \n",
      "0                   0.0                     0.0                    1.0  \n",
      "1                   0.0                     0.0                    0.0  \n",
      "2                   0.0                     0.0                    0.0  \n",
      "3                   0.0                     0.0                    0.0  \n",
      "4                   0.0                     0.0                    0.0  \n",
      "\n",
      "[5 rows x 47 columns]\n"
     ]
    }
   ],
   "source": [
    "dummy_subproduct = pd.get_dummies(df2[['Sub-product']], prefix='Sub-prod')\n",
    "print dummy_subproduct.head()"
   ]
  },
  {
   "cell_type": "code",
   "execution_count": 19,
   "metadata": {
    "collapsed": false
   },
   "outputs": [
    {
     "name": "stdout",
     "output_type": "stream",
     "text": [
      "   Issue_Account opening, closing, or management  \\\n",
      "0                                            0.0   \n",
      "1                                            0.0   \n",
      "2                                            1.0   \n",
      "3                                            0.0   \n",
      "4                                            0.0   \n",
      "\n",
      "   Issue_Account terms and changes  Issue_Adding money  \\\n",
      "0                              0.0                 0.0   \n",
      "1                              0.0                 0.0   \n",
      "2                              0.0                 0.0   \n",
      "3                              0.0                 0.0   \n",
      "4                              0.0                 0.0   \n",
      "\n",
      "   Issue_Advertising and marketing  \\\n",
      "0                              0.0   \n",
      "1                              0.0   \n",
      "2                              0.0   \n",
      "3                              0.0   \n",
      "4                              0.0   \n",
      "\n",
      "   Issue_Advertising, marketing or disclosures  \\\n",
      "0                                          0.0   \n",
      "1                                          0.0   \n",
      "2                                          0.0   \n",
      "3                                          0.0   \n",
      "4                                          0.0   \n",
      "\n",
      "   Issue_Application, originator, mortgage broker  \\\n",
      "0                                             0.0   \n",
      "1                                             0.0   \n",
      "2                                             0.0   \n",
      "3                                             0.0   \n",
      "4                                             0.0   \n",
      "\n",
      "   Issue_Applied for loan/did not receive money  Issue_Can't contact lender  \\\n",
      "0                                           0.0                         0.0   \n",
      "1                                           0.0                         0.0   \n",
      "2                                           0.0                         0.0   \n",
      "3                                           0.0                         0.0   \n",
      "4                                           0.0                         0.0   \n",
      "\n",
      "   Issue_Can't repay my loan  Issue_Can't stop charges to bank account  \\\n",
      "0                        0.0                                       0.0   \n",
      "1                        0.0                                       0.0   \n",
      "2                        0.0                                       0.0   \n",
      "3                        0.0                                       0.0   \n",
      "4                        0.0                                       0.0   \n",
      "\n",
      "                    ...                    Issue_Repaying your loan  \\\n",
      "0                   ...                                         0.0   \n",
      "1                   ...                                         0.0   \n",
      "2                   ...                                         0.0   \n",
      "3                   ...                                         0.0   \n",
      "4                   ...                                         0.0   \n",
      "\n",
      "   Issue_Settlement process and costs  Issue_Shopping for a line of credit  \\\n",
      "0                                 0.0                                  0.0   \n",
      "1                                 0.0                                  0.0   \n",
      "2                                 0.0                                  0.0   \n",
      "3                                 0.0                                  0.0   \n",
      "4                                 0.0                                  0.0   \n",
      "\n",
      "   Issue_Shopping for a loan or lease  Issue_Taking out the loan or lease  \\\n",
      "0                                 0.0                                 0.0   \n",
      "1                                 0.0                                 0.0   \n",
      "2                                 0.0                                 0.0   \n",
      "3                                 0.0                                 0.0   \n",
      "4                                 0.0                                 0.0   \n",
      "\n",
      "   Issue_Taking/threatening an illegal action  \\\n",
      "0                                         0.0   \n",
      "1                                         0.0   \n",
      "2                                         0.0   \n",
      "3                                         0.0   \n",
      "4                                         0.0   \n",
      "\n",
      "   Issue_Unauthorized transactions/trans. issues  Issue_Unexpected/Other fees  \\\n",
      "0                                            0.0                          0.0   \n",
      "1                                            0.0                          0.0   \n",
      "2                                            0.0                          0.0   \n",
      "3                                            0.0                          0.0   \n",
      "4                                            0.0                          0.0   \n",
      "\n",
      "   Issue_Using a debit or ATM card  Issue_Wrong amount charged or received  \n",
      "0                              0.0                                     0.0  \n",
      "1                              1.0                                     0.0  \n",
      "2                              0.0                                     0.0  \n",
      "3                              0.0                                     0.0  \n",
      "4                              0.0                                     0.0  \n",
      "\n",
      "[5 rows x 59 columns]\n"
     ]
    }
   ],
   "source": [
    "dummy_issue = pd.get_dummies(df2[['Issue']], prefix='Issue')\n",
    "print dummy_issue.head()"
   ]
  },
  {
   "cell_type": "code",
   "execution_count": 20,
   "metadata": {
    "collapsed": false
   },
   "outputs": [
    {
     "name": "stdout",
     "output_type": "stream",
     "text": [
      "   Company_respone_Closed  Company_respone_Closed with explanation  \\\n",
      "0                     0.0                                      1.0   \n",
      "1                     0.0                                      1.0   \n",
      "2                     1.0                                      0.0   \n",
      "3                     0.0                                      1.0   \n",
      "4                     0.0                                      1.0   \n",
      "\n",
      "   Company_respone_Closed with monetary relief  \\\n",
      "0                                          0.0   \n",
      "1                                          0.0   \n",
      "2                                          0.0   \n",
      "3                                          0.0   \n",
      "4                                          0.0   \n",
      "\n",
      "   Company_respone_Closed with non-monetary relief  \\\n",
      "0                                              0.0   \n",
      "1                                              0.0   \n",
      "2                                              0.0   \n",
      "3                                              0.0   \n",
      "4                                              0.0   \n",
      "\n",
      "   Company_respone_Closed with relief  Company_respone_Closed without relief  \\\n",
      "0                                 0.0                                    0.0   \n",
      "1                                 0.0                                    0.0   \n",
      "2                                 0.0                                    0.0   \n",
      "3                                 0.0                                    0.0   \n",
      "4                                 0.0                                    0.0   \n",
      "\n",
      "   Company_respone_Untimely response  \n",
      "0                                0.0  \n",
      "1                                0.0  \n",
      "2                                0.0  \n",
      "3                                0.0  \n",
      "4                                0.0  \n"
     ]
    }
   ],
   "source": [
    "dummy_comp_response = pd.get_dummies(df2[['Company response to consumer']], \n",
    "                                     prefix='Company_respone')\n",
    "print dummy_comp_response.head()"
   ]
  },
  {
   "cell_type": "code",
   "execution_count": 21,
   "metadata": {
    "collapsed": false
   },
   "outputs": [
    {
     "name": "stdout",
     "output_type": "stream",
     "text": [
      "   SubmitVia_Email  SubmitVia_Fax  SubmitVia_Phone  SubmitVia_Postal mail  \\\n",
      "0              0.0            0.0              1.0                    0.0   \n",
      "1              0.0            0.0              0.0                    0.0   \n",
      "2              0.0            1.0              0.0                    0.0   \n",
      "3              0.0            0.0              0.0                    0.0   \n",
      "4              0.0            0.0              0.0                    0.0   \n",
      "\n",
      "   SubmitVia_Referral  SubmitVia_Web  \n",
      "0                 0.0            0.0  \n",
      "1                 0.0            1.0  \n",
      "2                 0.0            0.0  \n",
      "3                 0.0            1.0  \n",
      "4                 0.0            1.0  \n"
     ]
    }
   ],
   "source": [
    "dummy_submittedvia = pd.get_dummies(df2[['Submitted via']], prefix='SubmitVia')\n",
    "print dummy_submittedvia.head()"
   ]
  },
  {
   "cell_type": "code",
   "execution_count": 22,
   "metadata": {
    "collapsed": false
   },
   "outputs": [
    {
     "name": "stdout",
     "output_type": "stream",
     "text": [
      "   State_AA  State_AE  State_AK  State_AL  State_AP  State_AR  State_AS  \\\n",
      "0       0.0       0.0       0.0       0.0       0.0       0.0       0.0   \n",
      "1       0.0       0.0       0.0       0.0       0.0       0.0       0.0   \n",
      "2       0.0       0.0       0.0       0.0       0.0       0.0       0.0   \n",
      "3       0.0       0.0       0.0       0.0       0.0       0.0       0.0   \n",
      "4       0.0       0.0       0.0       0.0       0.0       0.0       0.0   \n",
      "\n",
      "   State_AZ  State_CA  State_CO    ...     State_TN  State_TX  State_UT  \\\n",
      "0       0.0       0.0       0.0    ...          0.0       0.0       0.0   \n",
      "1       0.0       1.0       0.0    ...          0.0       0.0       0.0   \n",
      "2       0.0       0.0       0.0    ...          0.0       0.0       0.0   \n",
      "3       0.0       0.0       0.0    ...          0.0       0.0       0.0   \n",
      "4       0.0       0.0       0.0    ...          0.0       0.0       0.0   \n",
      "\n",
      "   State_VA  State_VI  State_VT  State_WA  State_WI  State_WV  State_WY  \n",
      "0       1.0       0.0       0.0       0.0       0.0       0.0       0.0  \n",
      "1       0.0       0.0       0.0       0.0       0.0       0.0       0.0  \n",
      "2       0.0       0.0       0.0       0.0       0.0       0.0       0.0  \n",
      "3       0.0       0.0       0.0       0.0       0.0       0.0       0.0  \n",
      "4       0.0       0.0       0.0       0.0       0.0       0.0       0.0  \n",
      "\n",
      "[5 rows x 62 columns]\n"
     ]
    }
   ],
   "source": [
    "dummy_state = pd.get_dummies(df2[['State']], prefix='State')\n",
    "print dummy_state.head()"
   ]
  },
  {
   "cell_type": "code",
   "execution_count": 29,
   "metadata": {
    "collapsed": false
   },
   "outputs": [
    {
     "name": "stderr",
     "output_type": "stream",
     "text": [
      "/Users/krys/anaconda2/lib/python2.7/site-packages/ipykernel/__main__.py:1: SettingWithCopyWarning: \n",
      "A value is trying to be set on a copy of a slice from a DataFrame.\n",
      "Try using .loc[row_indexer,col_indexer] = value instead\n",
      "\n",
      "See the caveats in the documentation: http://pandas.pydata.org/pandas-docs/stable/indexing.html#indexing-view-versus-copy\n",
      "  if __name__ == '__main__':\n"
     ]
    }
   ],
   "source": [
    "#df2['Date received'] = pd.to_datetime(df2['Date received'], format='%m')"
   ]
  },
  {
   "cell_type": "code",
   "execution_count": 30,
   "metadata": {
    "collapsed": false
   },
   "outputs": [
    {
     "data": {
      "text/html": [
       "<div>\n",
       "<table border=\"1\" class=\"dataframe\">\n",
       "  <thead>\n",
       "    <tr style=\"text-align: right;\">\n",
       "      <th></th>\n",
       "      <th>Date received</th>\n",
       "    </tr>\n",
       "  </thead>\n",
       "  <tbody>\n",
       "    <tr>\n",
       "      <th>0</th>\n",
       "      <td>2013-07-29</td>\n",
       "    </tr>\n",
       "    <tr>\n",
       "      <th>1</th>\n",
       "      <td>2013-07-29</td>\n",
       "    </tr>\n",
       "    <tr>\n",
       "      <th>2</th>\n",
       "      <td>2013-07-29</td>\n",
       "    </tr>\n",
       "  </tbody>\n",
       "</table>\n",
       "</div>"
      ],
      "text/plain": [
       "  Date received\n",
       "0    2013-07-29\n",
       "1    2013-07-29\n",
       "2    2013-07-29"
      ]
     },
     "execution_count": 30,
     "metadata": {},
     "output_type": "execute_result"
    }
   ],
   "source": [
    "#df2[['Date received']].head(3)"
   ]
  },
  {
   "cell_type": "code",
   "execution_count": null,
   "metadata": {
    "collapsed": true
   },
   "outputs": [],
   "source": [
    "df2[]"
   ]
  },
  {
   "cell_type": "code",
   "execution_count": null,
   "metadata": {
    "collapsed": true
   },
   "outputs": [],
   "source": []
  },
  {
   "cell_type": "code",
   "execution_count": null,
   "metadata": {
    "collapsed": false
   },
   "outputs": [],
   "source": [
    "df2['Company'].value_counts().shape"
   ]
  },
  {
   "cell_type": "code",
   "execution_count": null,
   "metadata": {
    "collapsed": false
   },
   "outputs": [],
   "source": [
    "df2['Company'].value_counts().head(12)"
   ]
  },
  {
   "cell_type": "code",
   "execution_count": null,
   "metadata": {
    "collapsed": false
   },
   "outputs": [],
   "source": [
    "banks = ['Bank of America',\n",
    "           'Wells Fargo & Company',\n",
    "           'JPMorgan Chase & Co.',\n",
    "           'Ocwen',\n",
    "           'Citibank',\n",
    "           'Nationstar Mortgage',\n",
    "           'Ditech Financial LLC',\n",
    "           'Navient Solutions, Inc.',\n",
    "           'U.S. Bancorp',\n",
    "           'PNC Bank N.A.',\n",
    "           'Encore Capital Group',\n",
    "           'Capital One']\n",
    "           \n",
    "df2[df2.Company.isin(banks)]\n",
    "       "
   ]
  },
  {
   "cell_type": "code",
   "execution_count": null,
   "metadata": {
    "collapsed": false
   },
   "outputs": [],
   "source": []
  },
  {
   "cell_type": "code",
   "execution_count": null,
   "metadata": {
    "collapsed": true
   },
   "outputs": [],
   "source": []
  },
  {
   "cell_type": "code",
   "execution_count": 10,
   "metadata": {
    "collapsed": false
   },
   "outputs": [
    {
     "data": {
      "text/plain": [
       "Sub-product    201117\n",
       "dtype: int64"
      ]
     },
     "execution_count": 10,
     "metadata": {},
     "output_type": "execute_result"
    }
   ],
   "source": [
    "#df[['Sub-product']].isnull().sum()"
   ]
  }
 ],
 "metadata": {
  "anaconda-cloud": {},
  "kernelspec": {
   "display_name": "Python [conda root]",
   "language": "python",
   "name": "conda-root-py"
  },
  "language_info": {
   "codemirror_mode": {
    "name": "ipython",
    "version": 2
   },
   "file_extension": ".py",
   "mimetype": "text/x-python",
   "name": "python",
   "nbconvert_exporter": "python",
   "pygments_lexer": "ipython2",
   "version": "2.7.12"
  }
 },
 "nbformat": 4,
 "nbformat_minor": 1
}
