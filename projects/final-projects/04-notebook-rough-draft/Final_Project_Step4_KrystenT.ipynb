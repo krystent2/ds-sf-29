{
 "cells": [
  {
   "cell_type": "code",
   "execution_count": 16,
   "metadata": {
    "collapsed": true
   },
   "outputs": [],
   "source": [
    "import pandas as pd\n",
    "import matplotlib.pyplot as plt\n",
    "import numpy as np\n",
    "%matplotlib inline\n"
   ]
  },
  {
   "cell_type": "code",
   "execution_count": 24,
   "metadata": {
    "collapsed": false
   },
   "outputs": [],
   "source": [
    "df = pd.read_csv('Consumer_Complaints1.csv')"
   ]
  },
  {
   "cell_type": "code",
   "execution_count": 29,
   "metadata": {
    "collapsed": false
   },
   "outputs": [
    {
     "data": {
      "text/html": [
       "<div>\n",
       "<table border=\"1\" class=\"dataframe\">\n",
       "  <thead>\n",
       "    <tr style=\"text-align: right;\">\n",
       "      <th></th>\n",
       "      <th>Date received</th>\n",
       "      <th>Product</th>\n",
       "      <th>Sub-product</th>\n",
       "      <th>Issue</th>\n",
       "      <th>Sub-issue</th>\n",
       "      <th>Consumer complaint narrative</th>\n",
       "      <th>Company public response</th>\n",
       "      <th>Company</th>\n",
       "      <th>State</th>\n",
       "      <th>ZIP code</th>\n",
       "      <th>Tags</th>\n",
       "      <th>Consumer consent provided?</th>\n",
       "      <th>Submitted via</th>\n",
       "      <th>Date sent to company</th>\n",
       "      <th>Company response to consumer</th>\n",
       "      <th>Timely response?</th>\n",
       "      <th>Consumer disputed?</th>\n",
       "      <th>Complaint ID</th>\n",
       "    </tr>\n",
       "  </thead>\n",
       "  <tbody>\n",
       "    <tr>\n",
       "      <th>0</th>\n",
       "      <td>07/29/2013</td>\n",
       "      <td>Consumer Loan</td>\n",
       "      <td>Vehicle loan</td>\n",
       "      <td>Managing the loan or lease</td>\n",
       "      <td>NaN</td>\n",
       "      <td>NaN</td>\n",
       "      <td>NaN</td>\n",
       "      <td>Wells Fargo &amp; Company</td>\n",
       "      <td>VA</td>\n",
       "      <td>24540</td>\n",
       "      <td>NaN</td>\n",
       "      <td>NaN</td>\n",
       "      <td>Phone</td>\n",
       "      <td>07/30/2013</td>\n",
       "      <td>Closed with explanation</td>\n",
       "      <td>Yes</td>\n",
       "      <td>No</td>\n",
       "      <td>468882</td>\n",
       "    </tr>\n",
       "    <tr>\n",
       "      <th>1</th>\n",
       "      <td>07/29/2013</td>\n",
       "      <td>Bank account or service</td>\n",
       "      <td>Checking account</td>\n",
       "      <td>Using a debit or ATM card</td>\n",
       "      <td>NaN</td>\n",
       "      <td>NaN</td>\n",
       "      <td>NaN</td>\n",
       "      <td>Wells Fargo &amp; Company</td>\n",
       "      <td>CA</td>\n",
       "      <td>95992</td>\n",
       "      <td>Older American</td>\n",
       "      <td>NaN</td>\n",
       "      <td>Web</td>\n",
       "      <td>07/31/2013</td>\n",
       "      <td>Closed with explanation</td>\n",
       "      <td>Yes</td>\n",
       "      <td>No</td>\n",
       "      <td>468889</td>\n",
       "    </tr>\n",
       "    <tr>\n",
       "      <th>2</th>\n",
       "      <td>07/29/2013</td>\n",
       "      <td>Bank account or service</td>\n",
       "      <td>Checking account</td>\n",
       "      <td>Account opening, closing, or management</td>\n",
       "      <td>NaN</td>\n",
       "      <td>NaN</td>\n",
       "      <td>NaN</td>\n",
       "      <td>Santander Bank US</td>\n",
       "      <td>NY</td>\n",
       "      <td>10065</td>\n",
       "      <td>NaN</td>\n",
       "      <td>NaN</td>\n",
       "      <td>Fax</td>\n",
       "      <td>07/31/2013</td>\n",
       "      <td>Closed</td>\n",
       "      <td>Yes</td>\n",
       "      <td>No</td>\n",
       "      <td>468879</td>\n",
       "    </tr>\n",
       "  </tbody>\n",
       "</table>\n",
       "</div>"
      ],
      "text/plain": [
       "  Date received                  Product       Sub-product  \\\n",
       "0    07/29/2013            Consumer Loan      Vehicle loan   \n",
       "1    07/29/2013  Bank account or service  Checking account   \n",
       "2    07/29/2013  Bank account or service  Checking account   \n",
       "\n",
       "                                     Issue Sub-issue  \\\n",
       "0               Managing the loan or lease       NaN   \n",
       "1                Using a debit or ATM card       NaN   \n",
       "2  Account opening, closing, or management       NaN   \n",
       "\n",
       "  Consumer complaint narrative Company public response                Company  \\\n",
       "0                          NaN                     NaN  Wells Fargo & Company   \n",
       "1                          NaN                     NaN  Wells Fargo & Company   \n",
       "2                          NaN                     NaN      Santander Bank US   \n",
       "\n",
       "  State ZIP code            Tags Consumer consent provided? Submitted via  \\\n",
       "0    VA    24540             NaN                        NaN         Phone   \n",
       "1    CA    95992  Older American                        NaN           Web   \n",
       "2    NY    10065             NaN                        NaN           Fax   \n",
       "\n",
       "  Date sent to company Company response to consumer Timely response?  \\\n",
       "0           07/30/2013      Closed with explanation              Yes   \n",
       "1           07/31/2013      Closed with explanation              Yes   \n",
       "2           07/31/2013                       Closed              Yes   \n",
       "\n",
       "  Consumer disputed?  Complaint ID  \n",
       "0                 No        468882  \n",
       "1                 No        468889  \n",
       "2                 No        468879  "
      ]
     },
     "execution_count": 29,
     "metadata": {},
     "output_type": "execute_result"
    }
   ],
   "source": [
    "df.head(3)"
   ]
  },
  {
   "cell_type": "code",
   "execution_count": 25,
   "metadata": {
    "collapsed": false
   },
   "outputs": [
    {
     "name": "stdout",
     "output_type": "stream",
     "text": [
      "<class 'pandas.core.frame.DataFrame'>\n",
      "RangeIndex: 679879 entries, 0 to 679878\n",
      "Data columns (total 18 columns):\n",
      "Date received                   679879 non-null object\n",
      "Product                         679879 non-null object\n",
      "Sub-product                     478762 non-null object\n",
      "Issue                           679878 non-null object\n",
      "Sub-issue                       274342 non-null object\n",
      "Consumer complaint narrative    118315 non-null object\n",
      "Company public response         150445 non-null object\n",
      "Company                         679879 non-null object\n",
      "State                           674511 non-null object\n",
      "ZIP code                        674498 non-null object\n",
      "Tags                            96164 non-null object\n",
      "Consumer consent provided?      215359 non-null object\n",
      "Submitted via                   679878 non-null object\n",
      "Date sent to company            679879 non-null object\n",
      "Company response to consumer    679879 non-null object\n",
      "Timely response?                679879 non-null object\n",
      "Consumer disputed?              639285 non-null object\n",
      "Complaint ID                    679879 non-null int64\n",
      "dtypes: int64(1), object(17)\n",
      "memory usage: 93.4+ MB\n"
     ]
    }
   ],
   "source": [
    "df.info()"
   ]
  },
  {
   "cell_type": "code",
   "execution_count": 28,
   "metadata": {
    "collapsed": true
   },
   "outputs": [],
   "source": [
    "# Remove these columns: Sub-issue (4), Consumer Complaint Narrative (5), \n",
    "#Company Public Response (6), Zip Code (8), Tags (9), Consumer consent provided? (10), \n",
    "#Date sent to company (12), Complaint ID (16)"
   ]
  },
  {
   "cell_type": "code",
   "execution_count": 30,
   "metadata": {
    "collapsed": false
   },
   "outputs": [],
   "source": [
    "df.drop(df.columns[[4, 5, 6, 8, 9, 10, 12, 16]], axis=1, inplace=True)"
   ]
  },
  {
   "cell_type": "code",
   "execution_count": 31,
   "metadata": {
    "collapsed": false
   },
   "outputs": [
    {
     "name": "stdout",
     "output_type": "stream",
     "text": [
      "<class 'pandas.core.frame.DataFrame'>\n",
      "RangeIndex: 679879 entries, 0 to 679878\n",
      "Data columns (total 10 columns):\n",
      "Date received                   679879 non-null object\n",
      "Product                         679879 non-null object\n",
      "Sub-product                     478762 non-null object\n",
      "Issue                           679878 non-null object\n",
      "Company                         679879 non-null object\n",
      "Consumer consent provided?      215359 non-null object\n",
      "Date sent to company            679879 non-null object\n",
      "Company response to consumer    679879 non-null object\n",
      "Timely response?                679879 non-null object\n",
      "Complaint ID                    679879 non-null int64\n",
      "dtypes: int64(1), object(9)\n",
      "memory usage: 51.9+ MB\n"
     ]
    }
   ],
   "source": [
    "df.info()"
   ]
  },
  {
   "cell_type": "code",
   "execution_count": 55,
   "metadata": {
    "collapsed": false
   },
   "outputs": [
    {
     "data": {
      "text/plain": [
       "Sub-product    201117\n",
       "dtype: int64"
      ]
     },
     "execution_count": 55,
     "metadata": {},
     "output_type": "execute_result"
    }
   ],
   "source": [
    "df[['Sub-product']].isnull().sum()"
   ]
  },
  {
   "cell_type": "code",
   "execution_count": 72,
   "metadata": {
    "collapsed": false
   },
   "outputs": [],
   "source": [
    "df1 = df.dropna(subset=[['Sub-product']])"
   ]
  },
  {
   "cell_type": "code",
   "execution_count": 77,
   "metadata": {
    "collapsed": false
   },
   "outputs": [
    {
     "name": "stderr",
     "output_type": "stream",
     "text": [
      "/Users/krys/anaconda2/lib/python2.7/site-packages/ipykernel/__main__.py:1: SettingWithCopyWarning: \n",
      "A value is trying to be set on a copy of a slice from a DataFrame\n",
      "\n",
      "See the caveats in the documentation: http://pandas.pydata.org/pandas-docs/stable/indexing.html#indexing-view-versus-copy\n",
      "  if __name__ == '__main__':\n"
     ]
    }
   ],
   "source": [
    "df1.drop(df1.columns[[5]], axis=1, inplace=True)"
   ]
  },
  {
   "cell_type": "code",
   "execution_count": 79,
   "metadata": {
    "collapsed": false
   },
   "outputs": [
    {
     "name": "stdout",
     "output_type": "stream",
     "text": [
      "<class 'pandas.core.frame.DataFrame'>\n",
      "Int64Index: 478762 entries, 0 to 679877\n",
      "Data columns (total 9 columns):\n",
      "Date received                   478762 non-null object\n",
      "Product                         478762 non-null object\n",
      "Sub-product                     478762 non-null object\n",
      "Issue                           478761 non-null object\n",
      "Company                         478762 non-null object\n",
      "Date sent to company            478762 non-null object\n",
      "Company response to consumer    478762 non-null object\n",
      "Timely response?                478762 non-null object\n",
      "Complaint ID                    478762 non-null int64\n",
      "dtypes: int64(1), object(8)\n",
      "memory usage: 36.5+ MB\n"
     ]
    }
   ],
   "source": [
    "df1.info()"
   ]
  },
  {
   "cell_type": "code",
   "execution_count": 78,
   "metadata": {
    "collapsed": false
   },
   "outputs": [
    {
     "name": "stdout",
     "output_type": "stream",
     "text": [
      "<class 'pandas.core.frame.DataFrame'>\n",
      "Int64Index: 478762 entries, 0 to 679877\n",
      "Data columns (total 9 columns):\n",
      "Date received                   478762 non-null object\n",
      "Product                         478762 non-null object\n",
      "Sub-product                     478762 non-null object\n",
      "Issue                           478761 non-null object\n",
      "Company                         478762 non-null object\n",
      "Date sent to company            478762 non-null object\n",
      "Company response to consumer    478762 non-null object\n",
      "Timely response?                478762 non-null object\n",
      "Complaint ID                    478762 non-null int64\n",
      "dtypes: int64(1), object(8)\n",
      "memory usage: 36.5+ MB\n"
     ]
    }
   ],
   "source": [
    "df1.info()"
   ]
  },
  {
   "cell_type": "code",
   "execution_count": null,
   "metadata": {
    "collapsed": true
   },
   "outputs": [],
   "source": []
  }
 ],
 "metadata": {
  "anaconda-cloud": {},
  "kernelspec": {
   "display_name": "Python [conda root]",
   "language": "python",
   "name": "conda-root-py"
  },
  "language_info": {
   "codemirror_mode": {
    "name": "ipython",
    "version": 2
   },
   "file_extension": ".py",
   "mimetype": "text/x-python",
   "name": "python",
   "nbconvert_exporter": "python",
   "pygments_lexer": "ipython2",
   "version": "2.7.12"
  }
 },
 "nbformat": 4,
 "nbformat_minor": 1
}
