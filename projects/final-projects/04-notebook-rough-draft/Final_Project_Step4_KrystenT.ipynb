{
 "cells": [
  {
   "cell_type": "code",
   "execution_count": 81,
   "metadata": {
    "collapsed": true
   },
   "outputs": [],
   "source": [
    "import pandas as pd\n",
    "import matplotlib.pyplot as plt\n",
    "import numpy as np\n",
    "%matplotlib inline\n"
   ]
  },
  {
   "cell_type": "code",
   "execution_count": 82,
   "metadata": {
    "collapsed": false
   },
   "outputs": [],
   "source": [
    "df = pd.read_csv('Consumer_Complaints1.csv')"
   ]
  },
  {
   "cell_type": "code",
   "execution_count": 83,
   "metadata": {
    "collapsed": false
   },
   "outputs": [
    {
     "data": {
      "text/html": [
       "<div>\n",
       "<table border=\"1\" class=\"dataframe\">\n",
       "  <thead>\n",
       "    <tr style=\"text-align: right;\">\n",
       "      <th></th>\n",
       "      <th>Date received</th>\n",
       "      <th>Product</th>\n",
       "      <th>Sub-product</th>\n",
       "      <th>Issue</th>\n",
       "      <th>Sub-issue</th>\n",
       "      <th>Consumer complaint narrative</th>\n",
       "      <th>Company public response</th>\n",
       "      <th>Company</th>\n",
       "      <th>State</th>\n",
       "      <th>ZIP code</th>\n",
       "      <th>Tags</th>\n",
       "      <th>Consumer consent provided?</th>\n",
       "      <th>Submitted via</th>\n",
       "      <th>Date sent to company</th>\n",
       "      <th>Company response to consumer</th>\n",
       "      <th>Timely response?</th>\n",
       "      <th>Consumer disputed?</th>\n",
       "      <th>Complaint ID</th>\n",
       "    </tr>\n",
       "  </thead>\n",
       "  <tbody>\n",
       "    <tr>\n",
       "      <th>0</th>\n",
       "      <td>07/29/2013</td>\n",
       "      <td>Consumer Loan</td>\n",
       "      <td>Vehicle loan</td>\n",
       "      <td>Managing the loan or lease</td>\n",
       "      <td>NaN</td>\n",
       "      <td>NaN</td>\n",
       "      <td>NaN</td>\n",
       "      <td>Wells Fargo &amp; Company</td>\n",
       "      <td>VA</td>\n",
       "      <td>24540</td>\n",
       "      <td>NaN</td>\n",
       "      <td>NaN</td>\n",
       "      <td>Phone</td>\n",
       "      <td>07/30/2013</td>\n",
       "      <td>Closed with explanation</td>\n",
       "      <td>Yes</td>\n",
       "      <td>No</td>\n",
       "      <td>468882</td>\n",
       "    </tr>\n",
       "    <tr>\n",
       "      <th>1</th>\n",
       "      <td>07/29/2013</td>\n",
       "      <td>Bank account or service</td>\n",
       "      <td>Checking account</td>\n",
       "      <td>Using a debit or ATM card</td>\n",
       "      <td>NaN</td>\n",
       "      <td>NaN</td>\n",
       "      <td>NaN</td>\n",
       "      <td>Wells Fargo &amp; Company</td>\n",
       "      <td>CA</td>\n",
       "      <td>95992</td>\n",
       "      <td>Older American</td>\n",
       "      <td>NaN</td>\n",
       "      <td>Web</td>\n",
       "      <td>07/31/2013</td>\n",
       "      <td>Closed with explanation</td>\n",
       "      <td>Yes</td>\n",
       "      <td>No</td>\n",
       "      <td>468889</td>\n",
       "    </tr>\n",
       "    <tr>\n",
       "      <th>2</th>\n",
       "      <td>07/29/2013</td>\n",
       "      <td>Bank account or service</td>\n",
       "      <td>Checking account</td>\n",
       "      <td>Account opening, closing, or management</td>\n",
       "      <td>NaN</td>\n",
       "      <td>NaN</td>\n",
       "      <td>NaN</td>\n",
       "      <td>Santander Bank US</td>\n",
       "      <td>NY</td>\n",
       "      <td>10065</td>\n",
       "      <td>NaN</td>\n",
       "      <td>NaN</td>\n",
       "      <td>Fax</td>\n",
       "      <td>07/31/2013</td>\n",
       "      <td>Closed</td>\n",
       "      <td>Yes</td>\n",
       "      <td>No</td>\n",
       "      <td>468879</td>\n",
       "    </tr>\n",
       "  </tbody>\n",
       "</table>\n",
       "</div>"
      ],
      "text/plain": [
       "  Date received                  Product       Sub-product  \\\n",
       "0    07/29/2013            Consumer Loan      Vehicle loan   \n",
       "1    07/29/2013  Bank account or service  Checking account   \n",
       "2    07/29/2013  Bank account or service  Checking account   \n",
       "\n",
       "                                     Issue Sub-issue  \\\n",
       "0               Managing the loan or lease       NaN   \n",
       "1                Using a debit or ATM card       NaN   \n",
       "2  Account opening, closing, or management       NaN   \n",
       "\n",
       "  Consumer complaint narrative Company public response                Company  \\\n",
       "0                          NaN                     NaN  Wells Fargo & Company   \n",
       "1                          NaN                     NaN  Wells Fargo & Company   \n",
       "2                          NaN                     NaN      Santander Bank US   \n",
       "\n",
       "  State ZIP code            Tags Consumer consent provided? Submitted via  \\\n",
       "0    VA    24540             NaN                        NaN         Phone   \n",
       "1    CA    95992  Older American                        NaN           Web   \n",
       "2    NY    10065             NaN                        NaN           Fax   \n",
       "\n",
       "  Date sent to company Company response to consumer Timely response?  \\\n",
       "0           07/30/2013      Closed with explanation              Yes   \n",
       "1           07/31/2013      Closed with explanation              Yes   \n",
       "2           07/31/2013                       Closed              Yes   \n",
       "\n",
       "  Consumer disputed?  Complaint ID  \n",
       "0                 No        468882  \n",
       "1                 No        468889  \n",
       "2                 No        468879  "
      ]
     },
     "execution_count": 83,
     "metadata": {},
     "output_type": "execute_result"
    }
   ],
   "source": [
    "df.head(3)"
   ]
  },
  {
   "cell_type": "code",
   "execution_count": 84,
   "metadata": {
    "collapsed": false
   },
   "outputs": [
    {
     "name": "stdout",
     "output_type": "stream",
     "text": [
      "<class 'pandas.core.frame.DataFrame'>\n",
      "RangeIndex: 679879 entries, 0 to 679878\n",
      "Data columns (total 18 columns):\n",
      "Date received                   679879 non-null object\n",
      "Product                         679879 non-null object\n",
      "Sub-product                     478762 non-null object\n",
      "Issue                           679878 non-null object\n",
      "Sub-issue                       274342 non-null object\n",
      "Consumer complaint narrative    118315 non-null object\n",
      "Company public response         150445 non-null object\n",
      "Company                         679879 non-null object\n",
      "State                           674511 non-null object\n",
      "ZIP code                        674498 non-null object\n",
      "Tags                            96164 non-null object\n",
      "Consumer consent provided?      215359 non-null object\n",
      "Submitted via                   679878 non-null object\n",
      "Date sent to company            679879 non-null object\n",
      "Company response to consumer    679879 non-null object\n",
      "Timely response?                679879 non-null object\n",
      "Consumer disputed?              639285 non-null object\n",
      "Complaint ID                    679879 non-null int64\n",
      "dtypes: int64(1), object(17)\n",
      "memory usage: 93.4+ MB\n"
     ]
    }
   ],
   "source": [
    "df.info()"
   ]
  },
  {
   "cell_type": "code",
   "execution_count": 85,
   "metadata": {
    "collapsed": true
   },
   "outputs": [],
   "source": [
    "# Remove these columns: Sub-issue (4), Consumer Complaint Narrative (5), \n",
    "#Company Public Response (6), Zip Code (8), Tags (9), Consumer consent provided? (10), \n",
    "#Date sent to company (12), Complaint ID (17)"
   ]
  },
  {
   "cell_type": "code",
   "execution_count": 86,
   "metadata": {
    "collapsed": false
   },
   "outputs": [],
   "source": [
    "df.drop(df.columns[[4, 5, 6, 8, 9, 10, 12, 17]], axis=1, inplace=True)"
   ]
  },
  {
   "cell_type": "code",
   "execution_count": 87,
   "metadata": {
    "collapsed": false
   },
   "outputs": [
    {
     "name": "stdout",
     "output_type": "stream",
     "text": [
      "<class 'pandas.core.frame.DataFrame'>\n",
      "RangeIndex: 679879 entries, 0 to 679878\n",
      "Data columns (total 10 columns):\n",
      "Date received                   679879 non-null object\n",
      "Product                         679879 non-null object\n",
      "Sub-product                     478762 non-null object\n",
      "Issue                           679878 non-null object\n",
      "Company                         679879 non-null object\n",
      "Consumer consent provided?      215359 non-null object\n",
      "Date sent to company            679879 non-null object\n",
      "Company response to consumer    679879 non-null object\n",
      "Timely response?                679879 non-null object\n",
      "Consumer disputed?              639285 non-null object\n",
      "dtypes: object(10)\n",
      "memory usage: 51.9+ MB\n"
     ]
    }
   ],
   "source": [
    "df.info()"
   ]
  },
  {
   "cell_type": "code",
   "execution_count": 88,
   "metadata": {
    "collapsed": false
   },
   "outputs": [
    {
     "data": {
      "text/plain": [
       "Sub-product    201117\n",
       "dtype: int64"
      ]
     },
     "execution_count": 88,
     "metadata": {},
     "output_type": "execute_result"
    }
   ],
   "source": [
    "df[['Sub-product']].isnull().sum()"
   ]
  },
  {
   "cell_type": "code",
   "execution_count": 89,
   "metadata": {
    "collapsed": false
   },
   "outputs": [],
   "source": [
    "df1 = df.dropna(subset=[['Sub-product']])"
   ]
  },
  {
   "cell_type": "code",
   "execution_count": 90,
   "metadata": {
    "collapsed": false
   },
   "outputs": [
    {
     "name": "stderr",
     "output_type": "stream",
     "text": [
      "/Users/krys/anaconda2/lib/python2.7/site-packages/ipykernel/__main__.py:1: SettingWithCopyWarning: \n",
      "A value is trying to be set on a copy of a slice from a DataFrame\n",
      "\n",
      "See the caveats in the documentation: http://pandas.pydata.org/pandas-docs/stable/indexing.html#indexing-view-versus-copy\n",
      "  if __name__ == '__main__':\n"
     ]
    }
   ],
   "source": [
    "df1.drop(df1.columns[[5]], axis=1, inplace=True)"
   ]
  },
  {
   "cell_type": "code",
   "execution_count": 91,
   "metadata": {
    "collapsed": false
   },
   "outputs": [
    {
     "name": "stdout",
     "output_type": "stream",
     "text": [
      "<class 'pandas.core.frame.DataFrame'>\n",
      "Int64Index: 478762 entries, 0 to 679877\n",
      "Data columns (total 9 columns):\n",
      "Date received                   478762 non-null object\n",
      "Product                         478762 non-null object\n",
      "Sub-product                     478762 non-null object\n",
      "Issue                           478761 non-null object\n",
      "Company                         478762 non-null object\n",
      "Date sent to company            478762 non-null object\n",
      "Company response to consumer    478762 non-null object\n",
      "Timely response?                478762 non-null object\n",
      "Consumer disputed?              451462 non-null object\n",
      "dtypes: object(9)\n",
      "memory usage: 36.5+ MB\n"
     ]
    }
   ],
   "source": [
    "df1.info()"
   ]
  },
  {
   "cell_type": "code",
   "execution_count": 93,
   "metadata": {
    "collapsed": false
   },
   "outputs": [],
   "source": [
    "df2 = df1.dropna(subset=[['Consumer disputed?']])"
   ]
  },
  {
   "cell_type": "code",
   "execution_count": 94,
   "metadata": {
    "collapsed": false
   },
   "outputs": [
    {
     "name": "stdout",
     "output_type": "stream",
     "text": [
      "<class 'pandas.core.frame.DataFrame'>\n",
      "Int64Index: 451462 entries, 0 to 679876\n",
      "Data columns (total 9 columns):\n",
      "Date received                   451462 non-null object\n",
      "Product                         451462 non-null object\n",
      "Sub-product                     451462 non-null object\n",
      "Issue                           451461 non-null object\n",
      "Company                         451462 non-null object\n",
      "Date sent to company            451462 non-null object\n",
      "Company response to consumer    451462 non-null object\n",
      "Timely response?                451462 non-null object\n",
      "Consumer disputed?              451462 non-null object\n",
      "dtypes: object(9)\n",
      "memory usage: 34.4+ MB\n"
     ]
    }
   ],
   "source": [
    "df2.info()"
   ]
  },
  {
   "cell_type": "code",
   "execution_count": 97,
   "metadata": {
    "collapsed": false
   },
   "outputs": [
    {
     "data": {
      "text/plain": [
       "No     353127\n",
       "Yes     98335\n",
       "Name: Consumer disputed?, dtype: int64"
      ]
     },
     "execution_count": 97,
     "metadata": {},
     "output_type": "execute_result"
    }
   ],
   "source": [
    "df2['Consumer disputed?'].value_counts()"
   ]
  },
  {
   "cell_type": "code",
   "execution_count": 100,
   "metadata": {
    "collapsed": false
   },
   "outputs": [
    {
     "name": "stdout",
     "output_type": "stream",
     "text": [
      "   Consumer_dispute_No  Consumer_dispute_Yes\n",
      "0                  1.0                   0.0\n",
      "1                  1.0                   0.0\n",
      "2                  1.0                   0.0\n",
      "3                  1.0                   0.0\n",
      "4                  1.0                   0.0\n"
     ]
    }
   ],
   "source": [
    "dummy_consumerdisp = pd.get_dummies(df2[['Consumer disputed?']], prefix='Consumer_dispute')\n",
    "print dummy_consumerdisp.head()"
   ]
  },
  {
   "cell_type": "code",
   "execution_count": 102,
   "metadata": {
    "collapsed": false
   },
   "outputs": [],
   "source": [
    "#dummy_consumerdisp.replace(('Consumer_dispute_No', 'Consumer_dispute_Yes'), (0,1), inplace=True)"
   ]
  },
  {
   "cell_type": "code",
   "execution_count": 103,
   "metadata": {
    "collapsed": false
   },
   "outputs": [
    {
     "name": "stdout",
     "output_type": "stream",
     "text": [
      "<class 'pandas.core.frame.DataFrame'>\n",
      "Int64Index: 451462 entries, 0 to 679876\n",
      "Data columns (total 10 columns):\n",
      "Product_Bank account or service    451462 non-null float64\n",
      "Product_Consumer Loan              451462 non-null float64\n",
      "Product_Debt collection            451462 non-null float64\n",
      "Product_Money transfers            451462 non-null float64\n",
      "Product_Mortgage                   451462 non-null float64\n",
      "Product_Other financial service    451462 non-null float64\n",
      "Product_Payday loan                451462 non-null float64\n",
      "Product_Prepaid card               451462 non-null float64\n",
      "Product_Student loan               451462 non-null float64\n",
      "Product_Virtual currency           451462 non-null float64\n",
      "dtypes: float64(10)\n",
      "memory usage: 37.9 MB\n",
      "None\n"
     ]
    }
   ],
   "source": [
    "dummy_product = pd.get_dummies(df2[['Product']], prefix='Product')\n",
    "print dummy_product.info()"
   ]
  },
  {
   "cell_type": "code",
   "execution_count": 105,
   "metadata": {
    "collapsed": false
   },
   "outputs": [
    {
     "name": "stdout",
     "output_type": "stream",
     "text": [
      "   Sub-prod_(CD) Certificate of deposit  Sub-prod_Auto  \\\n",
      "0                                   0.0            0.0   \n",
      "1                                   0.0            0.0   \n",
      "2                                   0.0            0.0   \n",
      "3                                   0.0            0.0   \n",
      "4                                   0.0            0.0   \n",
      "\n",
      "   Sub-prod_Cashing a check without an account  Sub-prod_Check cashing  \\\n",
      "0                                          0.0                     0.0   \n",
      "1                                          0.0                     0.0   \n",
      "2                                          0.0                     0.0   \n",
      "3                                          0.0                     0.0   \n",
      "4                                          0.0                     0.0   \n",
      "\n",
      "   Sub-prod_Checking account  Sub-prod_Conventional adjustable mortgage (ARM)  \\\n",
      "0                        0.0                                              0.0   \n",
      "1                        1.0                                              0.0   \n",
      "2                        1.0                                              0.0   \n",
      "3                        1.0                                              0.0   \n",
      "4                        0.0                                              0.0   \n",
      "\n",
      "   Sub-prod_Conventional fixed mortgage  Sub-prod_Credit card  \\\n",
      "0                                   0.0                   0.0   \n",
      "1                                   0.0                   0.0   \n",
      "2                                   0.0                   0.0   \n",
      "3                                   0.0                   0.0   \n",
      "4                                   1.0                   0.0   \n",
      "\n",
      "   Sub-prod_Credit repair  Sub-prod_Debt settlement          ...            \\\n",
      "0                     0.0                       0.0          ...             \n",
      "1                     0.0                       0.0          ...             \n",
      "2                     0.0                       0.0          ...             \n",
      "3                     0.0                       0.0          ...             \n",
      "4                     0.0                       0.0          ...             \n",
      "\n",
      "   Sub-prod_Refund anticipation check  Sub-prod_Reverse mortgage  \\\n",
      "0                                 0.0                        0.0   \n",
      "1                                 0.0                        0.0   \n",
      "2                                 0.0                        0.0   \n",
      "3                                 0.0                        0.0   \n",
      "4                                 0.0                        0.0   \n",
      "\n",
      "   Sub-prod_Savings account  Sub-prod_Second mortgage  Sub-prod_Title loan  \\\n",
      "0                       0.0                       0.0                  0.0   \n",
      "1                       0.0                       0.0                  0.0   \n",
      "2                       0.0                       0.0                  0.0   \n",
      "3                       0.0                       0.0                  0.0   \n",
      "4                       0.0                       0.0                  0.0   \n",
      "\n",
      "   Sub-prod_Transit card  Sub-prod_Traveler’s/Cashier’s checks  \\\n",
      "0                    0.0                                   0.0   \n",
      "1                    0.0                                   0.0   \n",
      "2                    0.0                                   0.0   \n",
      "3                    0.0                                   0.0   \n",
      "4                    0.0                                   0.0   \n",
      "\n",
      "   Sub-prod_VA mortgage  Sub-prod_Vehicle lease  Sub-prod_Vehicle loan  \n",
      "0                   0.0                     0.0                    1.0  \n",
      "1                   0.0                     0.0                    0.0  \n",
      "2                   0.0                     0.0                    0.0  \n",
      "3                   0.0                     0.0                    0.0  \n",
      "4                   0.0                     0.0                    0.0  \n",
      "\n",
      "[5 rows x 47 columns]\n"
     ]
    }
   ],
   "source": [
    "dummy_subproduct = pd.get_dummies(df2[['Sub-product']], prefix='Sub-prod')\n",
    "print dummy_subproduct.head()"
   ]
  },
  {
   "cell_type": "code",
   "execution_count": 106,
   "metadata": {
    "collapsed": false
   },
   "outputs": [
    {
     "name": "stdout",
     "output_type": "stream",
     "text": [
      "   Issue_Account opening, closing, or management  \\\n",
      "0                                            0.0   \n",
      "1                                            0.0   \n",
      "2                                            1.0   \n",
      "3                                            0.0   \n",
      "4                                            0.0   \n",
      "\n",
      "   Issue_Account terms and changes  Issue_Adding money  \\\n",
      "0                              0.0                 0.0   \n",
      "1                              0.0                 0.0   \n",
      "2                              0.0                 0.0   \n",
      "3                              0.0                 0.0   \n",
      "4                              0.0                 0.0   \n",
      "\n",
      "   Issue_Advertising and marketing  \\\n",
      "0                              0.0   \n",
      "1                              0.0   \n",
      "2                              0.0   \n",
      "3                              0.0   \n",
      "4                              0.0   \n",
      "\n",
      "   Issue_Advertising, marketing or disclosures  \\\n",
      "0                                          0.0   \n",
      "1                                          0.0   \n",
      "2                                          0.0   \n",
      "3                                          0.0   \n",
      "4                                          0.0   \n",
      "\n",
      "   Issue_Application, originator, mortgage broker  \\\n",
      "0                                             0.0   \n",
      "1                                             0.0   \n",
      "2                                             0.0   \n",
      "3                                             0.0   \n",
      "4                                             0.0   \n",
      "\n",
      "   Issue_Applied for loan/did not receive money  Issue_Can't contact lender  \\\n",
      "0                                           0.0                         0.0   \n",
      "1                                           0.0                         0.0   \n",
      "2                                           0.0                         0.0   \n",
      "3                                           0.0                         0.0   \n",
      "4                                           0.0                         0.0   \n",
      "\n",
      "   Issue_Can't repay my loan  Issue_Can't stop charges to bank account  \\\n",
      "0                        0.0                                       0.0   \n",
      "1                        0.0                                       0.0   \n",
      "2                        0.0                                       0.0   \n",
      "3                        0.0                                       0.0   \n",
      "4                        0.0                                       0.0   \n",
      "\n",
      "                    ...                    Issue_Repaying your loan  \\\n",
      "0                   ...                                         0.0   \n",
      "1                   ...                                         0.0   \n",
      "2                   ...                                         0.0   \n",
      "3                   ...                                         0.0   \n",
      "4                   ...                                         0.0   \n",
      "\n",
      "   Issue_Settlement process and costs  Issue_Shopping for a line of credit  \\\n",
      "0                                 0.0                                  0.0   \n",
      "1                                 0.0                                  0.0   \n",
      "2                                 0.0                                  0.0   \n",
      "3                                 0.0                                  0.0   \n",
      "4                                 0.0                                  0.0   \n",
      "\n",
      "   Issue_Shopping for a loan or lease  Issue_Taking out the loan or lease  \\\n",
      "0                                 0.0                                 0.0   \n",
      "1                                 0.0                                 0.0   \n",
      "2                                 0.0                                 0.0   \n",
      "3                                 0.0                                 0.0   \n",
      "4                                 0.0                                 0.0   \n",
      "\n",
      "   Issue_Taking/threatening an illegal action  \\\n",
      "0                                         0.0   \n",
      "1                                         0.0   \n",
      "2                                         0.0   \n",
      "3                                         0.0   \n",
      "4                                         0.0   \n",
      "\n",
      "   Issue_Unauthorized transactions/trans. issues  Issue_Unexpected/Other fees  \\\n",
      "0                                            0.0                          0.0   \n",
      "1                                            0.0                          0.0   \n",
      "2                                            0.0                          0.0   \n",
      "3                                            0.0                          0.0   \n",
      "4                                            0.0                          0.0   \n",
      "\n",
      "   Issue_Using a debit or ATM card  Issue_Wrong amount charged or received  \n",
      "0                              0.0                                     0.0  \n",
      "1                              1.0                                     0.0  \n",
      "2                              0.0                                     0.0  \n",
      "3                              0.0                                     0.0  \n",
      "4                              0.0                                     0.0  \n",
      "\n",
      "[5 rows x 59 columns]\n"
     ]
    }
   ],
   "source": [
    "dummy_issue = pd.get_dummies(df2[['Issue']], prefix='Issue')\n",
    "print dummy_issue.head()"
   ]
  },
  {
   "cell_type": "code",
   "execution_count": null,
   "metadata": {
    "collapsed": true
   },
   "outputs": [],
   "source": [
    "#dummy_company = pd.get_dummies(df2[['Company']], prefix='Company')\n",
    "#print dummy_company.head()"
   ]
  },
  {
   "cell_type": "code",
   "execution_count": null,
   "metadata": {
    "collapsed": true
   },
   "outputs": [],
   "source": []
  }
 ],
 "metadata": {
  "anaconda-cloud": {},
  "kernelspec": {
   "display_name": "Python [conda root]",
   "language": "python",
   "name": "conda-root-py"
  },
  "language_info": {
   "codemirror_mode": {
    "name": "ipython",
    "version": 2
   },
   "file_extension": ".py",
   "mimetype": "text/x-python",
   "name": "python",
   "nbconvert_exporter": "python",
   "pygments_lexer": "ipython2",
   "version": "2.7.12"
  }
 },
 "nbformat": 4,
 "nbformat_minor": 1
}
