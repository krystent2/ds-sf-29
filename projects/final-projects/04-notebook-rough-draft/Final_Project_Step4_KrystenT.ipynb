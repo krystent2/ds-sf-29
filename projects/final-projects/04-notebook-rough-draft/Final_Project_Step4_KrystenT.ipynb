{
 "cells": [
  {
   "cell_type": "code",
   "execution_count": 1,
   "metadata": {
    "collapsed": true
   },
   "outputs": [],
   "source": [
    "import pandas as pd\n",
    "import matplotlib.pyplot as plt\n",
    "import numpy as np"
   ]
  },
  {
   "cell_type": "code",
   "execution_count": 2,
   "metadata": {
    "collapsed": false
   },
   "outputs": [
    {
     "name": "stderr",
     "output_type": "stream",
     "text": [
      "/Users/krys/anaconda2/lib/python2.7/site-packages/IPython/core/interactiveshell.py:2717: DtypeWarning: Columns (5,11) have mixed types. Specify dtype option on import or set low_memory=False.\n",
      "  interactivity=interactivity, compiler=compiler, result=result)\n"
     ]
    }
   ],
   "source": [
    "df = pd.read_csv('Consumer_Complaints1.csv')"
   ]
  },
  {
   "cell_type": "code",
   "execution_count": 3,
   "metadata": {
    "collapsed": false
   },
   "outputs": [
    {
     "data": {
      "text/html": [
       "<div>\n",
       "<table border=\"1\" class=\"dataframe\">\n",
       "  <thead>\n",
       "    <tr style=\"text-align: right;\">\n",
       "      <th></th>\n",
       "      <th>Date received</th>\n",
       "      <th>Product</th>\n",
       "      <th>Sub-product</th>\n",
       "      <th>Issue</th>\n",
       "      <th>Sub-issue</th>\n",
       "      <th>Consumer complaint narrative</th>\n",
       "      <th>Company public response</th>\n",
       "      <th>Company</th>\n",
       "      <th>State</th>\n",
       "      <th>ZIP code</th>\n",
       "      <th>Tags</th>\n",
       "      <th>Consumer consent provided?</th>\n",
       "      <th>Submitted via</th>\n",
       "      <th>Date sent to company</th>\n",
       "      <th>Company response to consumer</th>\n",
       "      <th>Timely response?</th>\n",
       "      <th>Consumer disputed?</th>\n",
       "      <th>Complaint ID</th>\n",
       "    </tr>\n",
       "  </thead>\n",
       "  <tbody>\n",
       "    <tr>\n",
       "      <th>0</th>\n",
       "      <td>07/29/2013</td>\n",
       "      <td>Consumer Loan</td>\n",
       "      <td>Vehicle loan</td>\n",
       "      <td>Managing the loan or lease</td>\n",
       "      <td>NaN</td>\n",
       "      <td>NaN</td>\n",
       "      <td>NaN</td>\n",
       "      <td>Wells Fargo &amp; Company</td>\n",
       "      <td>VA</td>\n",
       "      <td>24540</td>\n",
       "      <td>NaN</td>\n",
       "      <td>NaN</td>\n",
       "      <td>Phone</td>\n",
       "      <td>07/30/2013</td>\n",
       "      <td>Closed with explanation</td>\n",
       "      <td>Yes</td>\n",
       "      <td>No</td>\n",
       "      <td>468882</td>\n",
       "    </tr>\n",
       "    <tr>\n",
       "      <th>1</th>\n",
       "      <td>07/29/2013</td>\n",
       "      <td>Bank account or service</td>\n",
       "      <td>Checking account</td>\n",
       "      <td>Using a debit or ATM card</td>\n",
       "      <td>NaN</td>\n",
       "      <td>NaN</td>\n",
       "      <td>NaN</td>\n",
       "      <td>Wells Fargo &amp; Company</td>\n",
       "      <td>CA</td>\n",
       "      <td>95992</td>\n",
       "      <td>Older American</td>\n",
       "      <td>NaN</td>\n",
       "      <td>Web</td>\n",
       "      <td>07/31/2013</td>\n",
       "      <td>Closed with explanation</td>\n",
       "      <td>Yes</td>\n",
       "      <td>No</td>\n",
       "      <td>468889</td>\n",
       "    </tr>\n",
       "    <tr>\n",
       "      <th>2</th>\n",
       "      <td>07/29/2013</td>\n",
       "      <td>Bank account or service</td>\n",
       "      <td>Checking account</td>\n",
       "      <td>Account opening, closing, or management</td>\n",
       "      <td>NaN</td>\n",
       "      <td>NaN</td>\n",
       "      <td>NaN</td>\n",
       "      <td>Santander Bank US</td>\n",
       "      <td>NY</td>\n",
       "      <td>10065</td>\n",
       "      <td>NaN</td>\n",
       "      <td>NaN</td>\n",
       "      <td>Fax</td>\n",
       "      <td>07/31/2013</td>\n",
       "      <td>Closed</td>\n",
       "      <td>Yes</td>\n",
       "      <td>No</td>\n",
       "      <td>468879</td>\n",
       "    </tr>\n",
       "  </tbody>\n",
       "</table>\n",
       "</div>"
      ],
      "text/plain": [
       "  Date received                  Product       Sub-product  \\\n",
       "0    07/29/2013            Consumer Loan      Vehicle loan   \n",
       "1    07/29/2013  Bank account or service  Checking account   \n",
       "2    07/29/2013  Bank account or service  Checking account   \n",
       "\n",
       "                                     Issue Sub-issue  \\\n",
       "0               Managing the loan or lease       NaN   \n",
       "1                Using a debit or ATM card       NaN   \n",
       "2  Account opening, closing, or management       NaN   \n",
       "\n",
       "  Consumer complaint narrative Company public response                Company  \\\n",
       "0                          NaN                     NaN  Wells Fargo & Company   \n",
       "1                          NaN                     NaN  Wells Fargo & Company   \n",
       "2                          NaN                     NaN      Santander Bank US   \n",
       "\n",
       "  State ZIP code            Tags Consumer consent provided? Submitted via  \\\n",
       "0    VA    24540             NaN                        NaN         Phone   \n",
       "1    CA    95992  Older American                        NaN           Web   \n",
       "2    NY    10065             NaN                        NaN           Fax   \n",
       "\n",
       "  Date sent to company Company response to consumer Timely response?  \\\n",
       "0           07/30/2013      Closed with explanation              Yes   \n",
       "1           07/31/2013      Closed with explanation              Yes   \n",
       "2           07/31/2013                       Closed              Yes   \n",
       "\n",
       "  Consumer disputed?  Complaint ID  \n",
       "0                 No        468882  \n",
       "1                 No        468889  \n",
       "2                 No        468879  "
      ]
     },
     "execution_count": 3,
     "metadata": {},
     "output_type": "execute_result"
    }
   ],
   "source": [
    "df.head(3)"
   ]
  },
  {
   "cell_type": "code",
   "execution_count": 4,
   "metadata": {
    "collapsed": false
   },
   "outputs": [
    {
     "name": "stdout",
     "output_type": "stream",
     "text": [
      "<class 'pandas.core.frame.DataFrame'>\n",
      "RangeIndex: 679879 entries, 0 to 679878\n",
      "Data columns (total 18 columns):\n",
      "Date received                   679879 non-null object\n",
      "Product                         679879 non-null object\n",
      "Sub-product                     478762 non-null object\n",
      "Issue                           679878 non-null object\n",
      "Sub-issue                       274342 non-null object\n",
      "Consumer complaint narrative    118315 non-null object\n",
      "Company public response         150445 non-null object\n",
      "Company                         679879 non-null object\n",
      "State                           674511 non-null object\n",
      "ZIP code                        674498 non-null object\n",
      "Tags                            96164 non-null object\n",
      "Consumer consent provided?      215359 non-null object\n",
      "Submitted via                   679878 non-null object\n",
      "Date sent to company            679879 non-null object\n",
      "Company response to consumer    679879 non-null object\n",
      "Timely response?                679879 non-null object\n",
      "Consumer disputed?              639285 non-null object\n",
      "Complaint ID                    679879 non-null int64\n",
      "dtypes: int64(1), object(17)\n",
      "memory usage: 93.4+ MB\n"
     ]
    }
   ],
   "source": [
    "df.info()"
   ]
  },
  {
   "cell_type": "code",
   "execution_count": 5,
   "metadata": {
    "collapsed": true
   },
   "outputs": [],
   "source": [
    "# Remove these columns: Sub-issue (4), Consumer Complaint Narrative (5), \n",
    "#Company Public Response (6), Zip Code (8), Tags (9), Consumer consent provided? (10), \n",
    "#Date sent to company (12), Complaint ID (17)"
   ]
  },
  {
   "cell_type": "code",
   "execution_count": 6,
   "metadata": {
    "collapsed": false
   },
   "outputs": [],
   "source": [
    "df.drop(df.columns[[4,5,6]], axis=1, inplace=True)"
   ]
  },
  {
   "cell_type": "code",
   "execution_count": 7,
   "metadata": {
    "collapsed": false
   },
   "outputs": [
    {
     "name": "stdout",
     "output_type": "stream",
     "text": [
      "<class 'pandas.core.frame.DataFrame'>\n",
      "RangeIndex: 679879 entries, 0 to 679878\n",
      "Data columns (total 15 columns):\n",
      "Date received                   679879 non-null object\n",
      "Product                         679879 non-null object\n",
      "Sub-product                     478762 non-null object\n",
      "Issue                           679878 non-null object\n",
      "Company                         679879 non-null object\n",
      "State                           674511 non-null object\n",
      "ZIP code                        674498 non-null object\n",
      "Tags                            96164 non-null object\n",
      "Consumer consent provided?      215359 non-null object\n",
      "Submitted via                   679878 non-null object\n",
      "Date sent to company            679879 non-null object\n",
      "Company response to consumer    679879 non-null object\n",
      "Timely response?                679879 non-null object\n",
      "Consumer disputed?              639285 non-null object\n",
      "Complaint ID                    679879 non-null int64\n",
      "dtypes: int64(1), object(14)\n",
      "memory usage: 77.8+ MB\n"
     ]
    }
   ],
   "source": [
    "df.info()"
   ]
  },
  {
   "cell_type": "code",
   "execution_count": 8,
   "metadata": {
    "collapsed": false
   },
   "outputs": [],
   "source": [
    "df.drop(df.columns[[6,7,8,10,12,14]], axis=1, inplace=True)"
   ]
  },
  {
   "cell_type": "code",
   "execution_count": 9,
   "metadata": {
    "collapsed": false
   },
   "outputs": [
    {
     "name": "stdout",
     "output_type": "stream",
     "text": [
      "<class 'pandas.core.frame.DataFrame'>\n",
      "RangeIndex: 679879 entries, 0 to 679878\n",
      "Data columns (total 9 columns):\n",
      "Date received                   679879 non-null object\n",
      "Product                         679879 non-null object\n",
      "Sub-product                     478762 non-null object\n",
      "Issue                           679878 non-null object\n",
      "Company                         679879 non-null object\n",
      "State                           674511 non-null object\n",
      "Submitted via                   679878 non-null object\n",
      "Company response to consumer    679879 non-null object\n",
      "Consumer disputed?              639285 non-null object\n",
      "dtypes: object(9)\n",
      "memory usage: 46.7+ MB\n"
     ]
    }
   ],
   "source": [
    "df.info()"
   ]
  },
  {
   "cell_type": "code",
   "execution_count": 10,
   "metadata": {
    "collapsed": false
   },
   "outputs": [
    {
     "data": {
      "text/plain": [
       "Mortgage                   212178\n",
       "Debt collection            126369\n",
       "Credit reporting           120998\n",
       "Credit card                 80119\n",
       "Bank account or service     77253\n",
       "Consumer Loan               27101\n",
       "Student loan                22083\n",
       "Payday loan                  4893\n",
       "Money transfers              4792\n",
       "Prepaid card                 3242\n",
       "Other financial service       836\n",
       "Virtual currency               15\n",
       "Name: Product, dtype: int64"
      ]
     },
     "execution_count": 10,
     "metadata": {},
     "output_type": "execute_result"
    }
   ],
   "source": [
    "df['Product'].value_counts()"
   ]
  },
  {
   "cell_type": "code",
   "execution_count": 11,
   "metadata": {
    "collapsed": false
   },
   "outputs": [
    {
     "name": "stdout",
     "output_type": "stream",
     "text": [
      "Mortgage                   212358\n",
      "Debt collection            126586\n",
      "Credit reporting           121152\n",
      "Credit card                 80223\n",
      "Bank account or service     77350\n",
      "Consumer Loan               27143\n",
      "Student loan                22117\n",
      "Payday loan                  4897\n",
      "Money transfers              4802\n",
      "Prepaid card                 3251\n",
      "Name: Product, dtype: int64\n"
     ]
    }
   ],
   "source": [
    "threshold = 1000\n",
    "for col in df.columns:\n",
    "    value_counts = df['Product'].value_counts()\n",
    "    to_remove = value_counts[value_counts <= threshold].index\n",
    "    df['Product'].replace(to_remove, inplace=True)\n",
    "print df['Product'].value_counts()    "
   ]
  },
  {
   "cell_type": "code",
   "execution_count": 12,
   "metadata": {
    "collapsed": false
   },
   "outputs": [
    {
     "data": {
      "text/plain": [
       "Other mortgage                            82264\n",
       "Conventional fixed mortgage               65690\n",
       "Checking account                          53724\n",
       "Other (i.e. phone, health club, etc.)     37853\n",
       "I do not know                             26429\n",
       "Credit card                               25464\n",
       "Conventional adjustable mortgage (ARM)    23806\n",
       "FHA mortgage                              22582\n",
       "Non-federal student loan                  20938\n",
       "Medical                                   17504\n",
       "Vehicle loan                              15386\n",
       "Other bank product/service                15016\n",
       "Payday loan                               11721\n",
       "Home equity loan or line of credit        10674\n",
       "Installment loan                           7241\n",
       "Savings account                            4750\n",
       "VA mortgage                                4608\n",
       "Mortgage                                   4359\n",
       "Federal student loan servicing             3716\n",
       "Auto                                       3193\n",
       "(CD) Certificate of deposit                3191\n",
       "International money transfer               2508\n",
       "Domestic (US) money transfer               2299\n",
       "Vehicle lease                              2221\n",
       "Federal student loan                       2168\n",
       "Reverse mortgage                           1892\n",
       "Personal line of credit                    1717\n",
       "General purpose card                       1489\n",
       "Second mortgage                             662\n",
       "Cashing a check without an account          572\n",
       "Title loan                                  454\n",
       "Payroll card                                374\n",
       "Mobile wallet                               345\n",
       "Gift or merchant card                       331\n",
       "Government benefit payment card             313\n",
       "Debt settlement                             238\n",
       "Check cashing                               212\n",
       "ID prepaid card                             188\n",
       "Other special purpose card                  163\n",
       "Money order                                 118\n",
       "Pawn loan                                    82\n",
       "Credit repair                                81\n",
       "Traveler’s/Cashier’s checks                  72\n",
       "Refund anticipation check                    60\n",
       "Foreign currency exchange                    55\n",
       "Transit card                                 33\n",
       "Electronic Benefit Transfer / EBT card        6\n",
       "Name: Sub-product, dtype: int64"
      ]
     },
     "execution_count": 12,
     "metadata": {},
     "output_type": "execute_result"
    }
   ],
   "source": [
    "df['Sub-product'].value_counts()"
   ]
  },
  {
   "cell_type": "code",
   "execution_count": 13,
   "metadata": {
    "collapsed": false
   },
   "outputs": [
    {
     "name": "stdout",
     "output_type": "stream",
     "text": [
      "Other mortgage                            119633\n",
      "Conventional fixed mortgage                99733\n",
      "Checking account                           80711\n",
      "Other (i.e. phone, health club, etc.)      60339\n",
      "I do not know                              41208\n",
      "Credit card                                39579\n",
      "Conventional adjustable mortgage (ARM)     36262\n",
      "FHA mortgage                               34552\n",
      "Non-federal student loan                   31949\n",
      "Medical                                    28453\n",
      "Vehicle loan                               23804\n",
      "Other bank product/service                 23387\n",
      "Payday loan                                18079\n",
      "Home equity loan or line of credit         16298\n",
      "Installment loan                           11539\n",
      "VA mortgage                                 7212\n",
      "Savings account                             7141\n",
      "Name: Sub-product, dtype: int64\n"
     ]
    }
   ],
   "source": [
    "threshold = 4500\n",
    "for col in df.columns:\n",
    "    value_counts = df['Sub-product'].value_counts()\n",
    "    to_remove = value_counts[value_counts <= threshold].index\n",
    "    df['Sub-product'].replace(to_remove, inplace=True)\n",
    "print df['Sub-product'].value_counts() "
   ]
  },
  {
   "cell_type": "code",
   "execution_count": 14,
   "metadata": {
    "collapsed": false
   },
   "outputs": [
    {
     "data": {
      "text/plain": [
       "Loan modification,collection,foreclosure    107093\n",
       "Incorrect information on credit report       88243\n",
       "Loan servicing, payments, escrow account     70979\n",
       "Cont'd attempts collect debt not owed        52502\n",
       "Account opening, closing, or management      33832\n",
       "Disclosure verification of debt              25173\n",
       "Communication tactics                        21621\n",
       "Deposits and withdrawals                     20618\n",
       "Application, originator, mortgage broker     15702\n",
       "Credit reporting company's investigation     14178\n",
       "Billing disputes                             13374\n",
       "Other                                        13262\n",
       "Managing the loan or lease                   12973\n",
       "Problems caused by my funds being low        10785\n",
       "Dealing with my lender or servicer           10546\n",
       "False statements or representation           10174\n",
       "Unable to get credit report/credit score      9870\n",
       "Improper contact or sharing of info           8938\n",
       "Problems when you are unable to pay           8281\n",
       "Settlement process and costs                  8182\n",
       "Taking/threatening an illegal action          7961\n",
       "Identity theft / Fraud / Embezzlement         7493\n",
       "Making/receiving payments, sending money      6580\n",
       "Closing/Cancelling account                    5730\n",
       "Using a debit or ATM card                     5438\n",
       "Can't repay my loan                           5418\n",
       "Credit decision / Underwriting                5188\n",
       "APR or interest rate                          5183\n",
       "Improper use of my credit report              4799\n",
       "Credit monitoring or identity protection      3908\n",
       "                                             ...  \n",
       "Privacy                                        443\n",
       "Bankruptcy                                     426\n",
       "Payment to acct not credited                   390\n",
       "Applied for loan/did not receive money         321\n",
       "Arbitration                                    311\n",
       "Sale of account                                311\n",
       "Shopping for a line of credit                  287\n",
       "Charged bank acct wrong day or amt             260\n",
       "Wrong amount charged or received               244\n",
       "Cash advance                                   232\n",
       "Customer service/Customer relations            231\n",
       "Fees                                           205\n",
       "Overlimit fee                                  202\n",
       "Balance transfer fee                           196\n",
       "Adding money                                   185\n",
       "Cash advance fee                               184\n",
       "Incorrect/missing disclosures or info          181\n",
       "Convenience checks                             132\n",
       "Excessive fees                                  85\n",
       "Unexpected/Other fees                           84\n",
       "Lender repossessed or sold the vehicle          68\n",
       "Advertising, marketing or disclosures           66\n",
       "Overdraft, savings or rewards features          46\n",
       "Lost or stolen check                            37\n",
       "Lost or stolen money order                      36\n",
       "Disclosures                                     35\n",
       "Incorrect exchange rate                         22\n",
       "Lender sold the property                         7\n",
       "Lender damaged or destroyed vehicle              6\n",
       "Lender damaged or destroyed property             1\n",
       "Name: Issue, dtype: int64"
      ]
     },
     "execution_count": 14,
     "metadata": {},
     "output_type": "execute_result"
    }
   ],
   "source": [
    "df['Issue'].value_counts()"
   ]
  },
  {
   "cell_type": "code",
   "execution_count": 15,
   "metadata": {
    "collapsed": false
   },
   "outputs": [
    {
     "name": "stdout",
     "output_type": "stream",
     "text": [
      "Loan modification,collection,foreclosure    139974\n",
      "Incorrect information on credit report      114181\n",
      "Loan servicing, payments, escrow account     93172\n",
      "Cont'd attempts collect debt not owed        68129\n",
      "Account opening, closing, or management      44140\n",
      "Disclosure verification of debt              32598\n",
      "Communication tactics                        28170\n",
      "Deposits and withdrawals                     27000\n",
      "Application, originator, mortgage broker     20801\n",
      "Credit reporting company's investigation     18529\n",
      "Billing disputes                             17587\n",
      "Other                                        17476\n",
      "Managing the loan or lease                   17107\n",
      "Problems caused by my funds being low        14067\n",
      "Dealing with my lender or servicer           13682\n",
      "False statements or representation           13266\n",
      "Name: Issue, dtype: int64\n"
     ]
    }
   ],
   "source": [
    "threshold = 10000\n",
    "for col in df.columns:\n",
    "    value_counts = df['Issue'].value_counts()\n",
    "    to_remove = value_counts[value_counts <= threshold].index\n",
    "    df['Issue'].replace(to_remove, inplace=True)\n",
    "print df['Issue'].value_counts() "
   ]
  },
  {
   "cell_type": "code",
   "execution_count": 16,
   "metadata": {
    "collapsed": false
   },
   "outputs": [
    {
     "data": {
      "text/plain": [
       "CA    99006\n",
       "FL    65497\n",
       "TX    51656\n",
       "NY    46939\n",
       "GA    31050\n",
       "NJ    27278\n",
       "IL    24570\n",
       "PA    24448\n",
       "VA    22013\n",
       "MD    21459\n",
       "OH    20940\n",
       "NC    19035\n",
       "MI    17168\n",
       "AZ    15281\n",
       "WA    14140\n",
       "MA    13284\n",
       "CO    11761\n",
       "TN    10436\n",
       "MO     8974\n",
       "SC     8606\n",
       "NV     8401\n",
       "OR     8076\n",
       "CT     7907\n",
       "MN     7855\n",
       "IN     7520\n",
       "WI     7319\n",
       "AL     7061\n",
       "LA     6821\n",
       "KY     4841\n",
       "OK     4532\n",
       "      ...  \n",
       "DE     3484\n",
       "NM     3391\n",
       "KS     3286\n",
       "NH     3262\n",
       "MS     3185\n",
       "AR     2915\n",
       "IA     2896\n",
       "ID     2341\n",
       "HI     2321\n",
       "ME     2248\n",
       "RI     2187\n",
       "NE     2101\n",
       "WV     1760\n",
       "PR     1603\n",
       "MT     1103\n",
       "VT     1101\n",
       "SD      926\n",
       "AK      790\n",
       "WY      673\n",
       "ND      580\n",
       "AE      279\n",
       "AP      184\n",
       "VI      170\n",
       "GU       90\n",
       "FM       41\n",
       "MH       28\n",
       "MP       25\n",
       "AS       21\n",
       "AA       13\n",
       "PW       11\n",
       "Name: State, dtype: int64"
      ]
     },
     "execution_count": 16,
     "metadata": {},
     "output_type": "execute_result"
    }
   ],
   "source": [
    "df['State'].value_counts()"
   ]
  },
  {
   "cell_type": "code",
   "execution_count": 17,
   "metadata": {
    "collapsed": false
   },
   "outputs": [
    {
     "name": "stdout",
     "output_type": "stream",
     "text": [
      "CA    125638\n",
      "FL     83251\n",
      "TX     65341\n",
      "NY     59612\n",
      "GA     39427\n",
      "NJ     34645\n",
      "IL     31057\n",
      "PA     30780\n",
      "VA     27782\n",
      "MD     27310\n",
      "OH     26720\n",
      "NC     24096\n",
      "MI     21786\n",
      "AZ     19431\n",
      "WA     17951\n",
      "MA     16837\n",
      "CO     14964\n",
      "TN     13251\n",
      "Name: State, dtype: int64\n"
     ]
    }
   ],
   "source": [
    "threshold = 10000\n",
    "for col in df.columns:\n",
    "    value_counts = df['State'].value_counts()\n",
    "    to_remove = value_counts[value_counts <= threshold].index\n",
    "    df['State'].replace(to_remove, inplace=True)\n",
    "print df['State'].value_counts() "
   ]
  },
  {
   "cell_type": "code",
   "execution_count": 18,
   "metadata": {
    "collapsed": false
   },
   "outputs": [],
   "source": [
    "#df1 = df.dropna(subset=[['Sub-product']])"
   ]
  },
  {
   "cell_type": "code",
   "execution_count": 19,
   "metadata": {
    "collapsed": false
   },
   "outputs": [],
   "source": [
    "df1 = df.dropna(subset=[['Consumer disputed?']]).copy()"
   ]
  },
  {
   "cell_type": "code",
   "execution_count": 20,
   "metadata": {
    "collapsed": false
   },
   "outputs": [
    {
     "data": {
      "text/plain": [
       "(639285, 9)"
      ]
     },
     "execution_count": 20,
     "metadata": {},
     "output_type": "execute_result"
    }
   ],
   "source": [
    "df1.shape"
   ]
  },
  {
   "cell_type": "code",
   "execution_count": 21,
   "metadata": {
    "collapsed": false
   },
   "outputs": [
    {
     "data": {
      "text/plain": [
       "No     504944\n",
       "Yes    134341\n",
       "Name: Consumer disputed?, dtype: int64"
      ]
     },
     "execution_count": 21,
     "metadata": {},
     "output_type": "execute_result"
    }
   ],
   "source": [
    "df1['Consumer disputed?'].value_counts()"
   ]
  },
  {
   "cell_type": "code",
   "execution_count": 22,
   "metadata": {
    "collapsed": false
   },
   "outputs": [
    {
     "data": {
      "text/plain": [
       "0    0\n",
       "1    0\n",
       "2    0\n",
       "3    0\n",
       "4    0\n",
       "Name: Consumer disputed?, dtype: int64"
      ]
     },
     "execution_count": 22,
     "metadata": {},
     "output_type": "execute_result"
    }
   ],
   "source": [
    "df1['Consumer disputed?'] = df1['Consumer disputed?'].map({'No':0, 'Yes':1})\n",
    "# df1['Consumer disputed?'].map({'No':0, 'Yes':1}).head()\n",
    "df1['Consumer disputed?'].head()"
   ]
  },
  {
   "cell_type": "code",
   "execution_count": 131,
   "metadata": {
    "collapsed": false
   },
   "outputs": [
    {
     "data": {
      "text/plain": [
       "(639285,)"
      ]
     },
     "execution_count": 131,
     "metadata": {},
     "output_type": "execute_result"
    }
   ],
   "source": [
    "df1['Consumer disputed?'].shape"
   ]
  },
  {
   "cell_type": "code",
   "execution_count": 24,
   "metadata": {
    "collapsed": false
   },
   "outputs": [
    {
     "name": "stdout",
     "output_type": "stream",
     "text": [
      "<class 'pandas.core.frame.DataFrame'>\n",
      "Int64Index: 639285 entries, 0 to 679878\n",
      "Data columns (total 10 columns):\n",
      "Product_Bank account or service    639285 non-null float64\n",
      "Product_Consumer Loan              639285 non-null float64\n",
      "Product_Credit card                639285 non-null float64\n",
      "Product_Credit reporting           639285 non-null float64\n",
      "Product_Debt collection            639285 non-null float64\n",
      "Product_Money transfers            639285 non-null float64\n",
      "Product_Mortgage                   639285 non-null float64\n",
      "Product_Payday loan                639285 non-null float64\n",
      "Product_Prepaid card               639285 non-null float64\n",
      "Product_Student loan               639285 non-null float64\n",
      "dtypes: float64(10)\n",
      "memory usage: 53.7 MB\n",
      "None\n"
     ]
    }
   ],
   "source": [
    "dummy_product = pd.get_dummies(df1[['Product']], prefix='Product')\n",
    "print dummy_product.info()"
   ]
  },
  {
   "cell_type": "code",
   "execution_count": 25,
   "metadata": {
    "collapsed": false
   },
   "outputs": [
    {
     "name": "stdout",
     "output_type": "stream",
     "text": [
      "   Product_Bank account or service  Product_Consumer Loan  \\\n",
      "0                              0.0                    1.0   \n",
      "1                              1.0                    0.0   \n",
      "2                              1.0                    0.0   \n",
      "3                              1.0                    0.0   \n",
      "4                              0.0                    0.0   \n",
      "\n",
      "   Product_Credit card  Product_Credit reporting  Product_Debt collection  \\\n",
      "0                  0.0                       0.0                      0.0   \n",
      "1                  0.0                       0.0                      0.0   \n",
      "2                  0.0                       0.0                      0.0   \n",
      "3                  0.0                       0.0                      0.0   \n",
      "4                  0.0                       0.0                      0.0   \n",
      "\n",
      "   Product_Money transfers  Product_Mortgage  Product_Payday loan  \\\n",
      "0                      0.0               0.0                  0.0   \n",
      "1                      0.0               0.0                  0.0   \n",
      "2                      0.0               0.0                  0.0   \n",
      "3                      0.0               0.0                  0.0   \n",
      "4                      0.0               1.0                  0.0   \n",
      "\n",
      "   Product_Prepaid card  Product_Student loan  \n",
      "0                   0.0                   0.0  \n",
      "1                   0.0                   0.0  \n",
      "2                   0.0                   0.0  \n",
      "3                   0.0                   0.0  \n",
      "4                   0.0                   0.0  \n"
     ]
    }
   ],
   "source": [
    "dummy_product = pd.get_dummies(df1[['Product']], prefix='Product')\n",
    "print dummy_product.head()"
   ]
  },
  {
   "cell_type": "code",
   "execution_count": 26,
   "metadata": {
    "collapsed": false
   },
   "outputs": [
    {
     "data": {
      "text/plain": [
       "False"
      ]
     },
     "execution_count": 26,
     "metadata": {},
     "output_type": "execute_result"
    }
   ],
   "source": [
    "dummy_product.isnull().values.any()"
   ]
  },
  {
   "cell_type": "code",
   "execution_count": 27,
   "metadata": {
    "collapsed": false
   },
   "outputs": [
    {
     "name": "stdout",
     "output_type": "stream",
     "text": [
      "   Sub-prod_Checking account  Sub-prod_Conventional adjustable mortgage (ARM)  \\\n",
      "0                        0.0                                              0.0   \n",
      "1                        1.0                                              0.0   \n",
      "2                        1.0                                              0.0   \n",
      "3                        1.0                                              0.0   \n",
      "4                        0.0                                              0.0   \n",
      "\n",
      "   Sub-prod_Conventional fixed mortgage  Sub-prod_Credit card  \\\n",
      "0                                   0.0                   0.0   \n",
      "1                                   0.0                   0.0   \n",
      "2                                   0.0                   0.0   \n",
      "3                                   0.0                   0.0   \n",
      "4                                   1.0                   0.0   \n",
      "\n",
      "   Sub-prod_FHA mortgage  Sub-prod_Home equity loan or line of credit  \\\n",
      "0                    0.0                                          0.0   \n",
      "1                    0.0                                          0.0   \n",
      "2                    0.0                                          0.0   \n",
      "3                    0.0                                          0.0   \n",
      "4                    0.0                                          0.0   \n",
      "\n",
      "   Sub-prod_I do not know  Sub-prod_Installment loan  Sub-prod_Medical  \\\n",
      "0                     0.0                        0.0               0.0   \n",
      "1                     0.0                        0.0               0.0   \n",
      "2                     0.0                        0.0               0.0   \n",
      "3                     0.0                        0.0               0.0   \n",
      "4                     0.0                        0.0               0.0   \n",
      "\n",
      "   Sub-prod_Non-federal student loan  \\\n",
      "0                                0.0   \n",
      "1                                0.0   \n",
      "2                                0.0   \n",
      "3                                0.0   \n",
      "4                                0.0   \n",
      "\n",
      "   Sub-prod_Other (i.e. phone, health club, etc.)  \\\n",
      "0                                             0.0   \n",
      "1                                             0.0   \n",
      "2                                             0.0   \n",
      "3                                             0.0   \n",
      "4                                             0.0   \n",
      "\n",
      "   Sub-prod_Other bank product/service  Sub-prod_Other mortgage  \\\n",
      "0                                  0.0                      0.0   \n",
      "1                                  0.0                      0.0   \n",
      "2                                  0.0                      0.0   \n",
      "3                                  0.0                      0.0   \n",
      "4                                  0.0                      0.0   \n",
      "\n",
      "   Sub-prod_Payday loan  Sub-prod_Savings account  Sub-prod_VA mortgage  \\\n",
      "0                   0.0                       0.0                   0.0   \n",
      "1                   0.0                       0.0                   0.0   \n",
      "2                   0.0                       0.0                   0.0   \n",
      "3                   0.0                       0.0                   0.0   \n",
      "4                   0.0                       0.0                   0.0   \n",
      "\n",
      "   Sub-prod_Vehicle loan  \n",
      "0                    1.0  \n",
      "1                    0.0  \n",
      "2                    0.0  \n",
      "3                    0.0  \n",
      "4                    0.0  \n"
     ]
    }
   ],
   "source": [
    "dummy_subproduct = pd.get_dummies(df1[['Sub-product']], prefix='Sub-prod')\n",
    "print dummy_subproduct.head()"
   ]
  },
  {
   "cell_type": "code",
   "execution_count": 28,
   "metadata": {
    "collapsed": false
   },
   "outputs": [
    {
     "data": {
      "text/plain": [
       "False"
      ]
     },
     "execution_count": 28,
     "metadata": {},
     "output_type": "execute_result"
    }
   ],
   "source": [
    "dummy_subproduct.isnull().values.any()"
   ]
  },
  {
   "cell_type": "code",
   "execution_count": 29,
   "metadata": {
    "collapsed": false
   },
   "outputs": [
    {
     "name": "stdout",
     "output_type": "stream",
     "text": [
      "   Issue_Account opening, closing, or management  \\\n",
      "0                                            0.0   \n",
      "1                                            0.0   \n",
      "2                                            1.0   \n",
      "3                                            0.0   \n",
      "4                                            0.0   \n",
      "\n",
      "   Issue_Application, originator, mortgage broker  Issue_Billing disputes  \\\n",
      "0                                             0.0                     0.0   \n",
      "1                                             0.0                     0.0   \n",
      "2                                             0.0                     0.0   \n",
      "3                                             0.0                     0.0   \n",
      "4                                             0.0                     0.0   \n",
      "\n",
      "   Issue_Communication tactics  Issue_Cont'd attempts collect debt not owed  \\\n",
      "0                          0.0                                          0.0   \n",
      "1                          0.0                                          0.0   \n",
      "2                          0.0                                          0.0   \n",
      "3                          0.0                                          0.0   \n",
      "4                          0.0                                          0.0   \n",
      "\n",
      "   Issue_Credit reporting company's investigation  \\\n",
      "0                                             0.0   \n",
      "1                                             0.0   \n",
      "2                                             0.0   \n",
      "3                                             0.0   \n",
      "4                                             0.0   \n",
      "\n",
      "   Issue_Dealing with my lender or servicer  Issue_Deposits and withdrawals  \\\n",
      "0                                       0.0                             0.0   \n",
      "1                                       0.0                             0.0   \n",
      "2                                       0.0                             0.0   \n",
      "3                                       0.0                             1.0   \n",
      "4                                       0.0                             0.0   \n",
      "\n",
      "   Issue_Disclosure verification of debt  \\\n",
      "0                                    0.0   \n",
      "1                                    0.0   \n",
      "2                                    0.0   \n",
      "3                                    0.0   \n",
      "4                                    0.0   \n",
      "\n",
      "   Issue_False statements or representation  \\\n",
      "0                                       0.0   \n",
      "1                                       0.0   \n",
      "2                                       0.0   \n",
      "3                                       0.0   \n",
      "4                                       0.0   \n",
      "\n",
      "   Issue_Incorrect information on credit report  \\\n",
      "0                                           0.0   \n",
      "1                                           0.0   \n",
      "2                                           0.0   \n",
      "3                                           0.0   \n",
      "4                                           0.0   \n",
      "\n",
      "   Issue_Loan modification,collection,foreclosure  \\\n",
      "0                                             0.0   \n",
      "1                                             0.0   \n",
      "2                                             0.0   \n",
      "3                                             0.0   \n",
      "4                                             0.0   \n",
      "\n",
      "   Issue_Loan servicing, payments, escrow account  \\\n",
      "0                                             0.0   \n",
      "1                                             0.0   \n",
      "2                                             0.0   \n",
      "3                                             0.0   \n",
      "4                                             1.0   \n",
      "\n",
      "   Issue_Managing the loan or lease  Issue_Other  \\\n",
      "0                               1.0          0.0   \n",
      "1                               1.0          0.0   \n",
      "2                               0.0          0.0   \n",
      "3                               0.0          0.0   \n",
      "4                               0.0          0.0   \n",
      "\n",
      "   Issue_Problems caused by my funds being low  \n",
      "0                                          0.0  \n",
      "1                                          0.0  \n",
      "2                                          0.0  \n",
      "3                                          0.0  \n",
      "4                                          0.0  \n"
     ]
    }
   ],
   "source": [
    "dummy_issue = pd.get_dummies(df1[['Issue']], prefix='Issue')\n",
    "print dummy_issue.head()"
   ]
  },
  {
   "cell_type": "code",
   "execution_count": 30,
   "metadata": {
    "collapsed": false
   },
   "outputs": [
    {
     "name": "stdout",
     "output_type": "stream",
     "text": [
      "   Company_respone_Closed  Company_respone_Closed with explanation  \\\n",
      "0                     0.0                                      1.0   \n",
      "1                     0.0                                      1.0   \n",
      "2                     1.0                                      0.0   \n",
      "3                     0.0                                      1.0   \n",
      "4                     0.0                                      1.0   \n",
      "\n",
      "   Company_respone_Closed with monetary relief  \\\n",
      "0                                          0.0   \n",
      "1                                          0.0   \n",
      "2                                          0.0   \n",
      "3                                          0.0   \n",
      "4                                          0.0   \n",
      "\n",
      "   Company_respone_Closed with non-monetary relief  \\\n",
      "0                                              0.0   \n",
      "1                                              0.0   \n",
      "2                                              0.0   \n",
      "3                                              0.0   \n",
      "4                                              0.0   \n",
      "\n",
      "   Company_respone_Closed with relief  Company_respone_Closed without relief  \\\n",
      "0                                 0.0                                    0.0   \n",
      "1                                 0.0                                    0.0   \n",
      "2                                 0.0                                    0.0   \n",
      "3                                 0.0                                    0.0   \n",
      "4                                 0.0                                    0.0   \n",
      "\n",
      "   Company_respone_Untimely response  \n",
      "0                                0.0  \n",
      "1                                0.0  \n",
      "2                                0.0  \n",
      "3                                0.0  \n",
      "4                                0.0  \n"
     ]
    }
   ],
   "source": [
    "dummy_comp_response = pd.get_dummies(df1[['Company response to consumer']], \n",
    "                                     prefix='Company_respone')\n",
    "print dummy_comp_response.head()"
   ]
  },
  {
   "cell_type": "code",
   "execution_count": 31,
   "metadata": {
    "collapsed": false
   },
   "outputs": [
    {
     "name": "stdout",
     "output_type": "stream",
     "text": [
      "   SubmitVia_Email  SubmitVia_Fax  SubmitVia_Phone  SubmitVia_Postal mail  \\\n",
      "0              0.0            0.0              1.0                    0.0   \n",
      "1              0.0            0.0              0.0                    0.0   \n",
      "2              0.0            1.0              0.0                    0.0   \n",
      "3              0.0            0.0              0.0                    0.0   \n",
      "4              0.0            0.0              0.0                    0.0   \n",
      "\n",
      "   SubmitVia_Referral  SubmitVia_Web  \n",
      "0                 0.0            0.0  \n",
      "1                 0.0            1.0  \n",
      "2                 0.0            0.0  \n",
      "3                 0.0            1.0  \n",
      "4                 0.0            1.0  \n"
     ]
    }
   ],
   "source": [
    "dummy_submittedvia = pd.get_dummies(df1[['Submitted via']], prefix='SubmitVia')\n",
    "print dummy_submittedvia.head()"
   ]
  },
  {
   "cell_type": "code",
   "execution_count": 32,
   "metadata": {
    "collapsed": false
   },
   "outputs": [
    {
     "name": "stdout",
     "output_type": "stream",
     "text": [
      "   State_AZ  State_CA  State_CO  State_FL  State_GA  State_IL  State_MA  \\\n",
      "0       0.0       0.0       0.0       0.0       0.0       0.0       0.0   \n",
      "1       0.0       1.0       0.0       0.0       0.0       0.0       0.0   \n",
      "2       0.0       0.0       0.0       0.0       0.0       0.0       0.0   \n",
      "3       0.0       0.0       0.0       0.0       1.0       0.0       0.0   \n",
      "4       0.0       0.0       0.0       0.0       1.0       0.0       0.0   \n",
      "\n",
      "   State_MD  State_MI  State_NC  State_NJ  State_NY  State_OH  State_PA  \\\n",
      "0       0.0       0.0       0.0       0.0       0.0       0.0       0.0   \n",
      "1       0.0       0.0       0.0       0.0       0.0       0.0       0.0   \n",
      "2       0.0       0.0       0.0       0.0       1.0       0.0       0.0   \n",
      "3       0.0       0.0       0.0       0.0       0.0       0.0       0.0   \n",
      "4       0.0       0.0       0.0       0.0       0.0       0.0       0.0   \n",
      "\n",
      "   State_TN  State_TX  State_VA  State_WA  \n",
      "0       0.0       0.0       1.0       0.0  \n",
      "1       0.0       0.0       0.0       0.0  \n",
      "2       0.0       0.0       0.0       0.0  \n",
      "3       0.0       0.0       0.0       0.0  \n",
      "4       0.0       0.0       0.0       0.0  \n"
     ]
    }
   ],
   "source": [
    "dummy_state = pd.get_dummies(df1[['State']], prefix='State')\n",
    "print dummy_state.head()"
   ]
  },
  {
   "cell_type": "code",
   "execution_count": 33,
   "metadata": {
    "collapsed": false
   },
   "outputs": [
    {
     "data": {
      "text/plain": [
       "(3573,)"
      ]
     },
     "execution_count": 33,
     "metadata": {},
     "output_type": "execute_result"
    }
   ],
   "source": [
    "df1['Company'].value_counts().shape"
   ]
  },
  {
   "cell_type": "code",
   "execution_count": 34,
   "metadata": {
    "collapsed": false
   },
   "outputs": [
    {
     "data": {
      "text/plain": [
       "Bank of America                           59933\n",
       "Wells Fargo & Company                     46699\n",
       "Equifax                                   39645\n",
       "JPMorgan Chase & Co.                      37973\n",
       "Experian                                  36715\n",
       "TransUnion Intermediate Holdings, Inc.    31106\n",
       "Citibank                                  30171\n",
       "Ocwen                                     22417\n",
       "Capital One                               17571\n",
       "Nationstar Mortgage                       14596\n",
       "Synchrony Financial                       11039\n",
       "U.S. Bancorp                              10803\n",
       "Name: Company, dtype: int64"
      ]
     },
     "execution_count": 34,
     "metadata": {},
     "output_type": "execute_result"
    }
   ],
   "source": [
    "df1['Company'].value_counts().head(12)"
   ]
  },
  {
   "cell_type": "code",
   "execution_count": 35,
   "metadata": {
    "collapsed": false
   },
   "outputs": [
    {
     "name": "stdout",
     "output_type": "stream",
     "text": [
      "Bank of America            59933\n",
      "Wells Fargo & Company      46699\n",
      "JPMorgan Chase & Co.       37973\n",
      "Citibank                   30171\n",
      "Ocwen                      22417\n",
      "Capital One                17571\n",
      "Nationstar Mortgage        14596\n",
      "U.S. Bancorp               10803\n",
      "Ditech Financial LLC       10069\n",
      "Navient Solutions, Inc.     9928\n",
      "PNC Bank N.A.               7556\n",
      "Encore Capital Group        6929\n",
      "Name: Company, dtype: int64\n"
     ]
    }
   ],
   "source": [
    "banks = ['Bank of America',\n",
    "           'Wells Fargo & Company',\n",
    "           'JPMorgan Chase & Co.',\n",
    "           'Ocwen',\n",
    "           'Citibank',\n",
    "           'Nationstar Mortgage',\n",
    "           'Ditech Financial LLC',\n",
    "           'Navient Solutions, Inc.',\n",
    "           'U.S. Bancorp',\n",
    "           'PNC Bank N.A.',\n",
    "           'Encore Capital Group',\n",
    "           'Capital One']\n",
    "           \n",
    "df2 = df1[df1.Company.isin(banks)]\n",
    "print df2['Company'].value_counts()"
   ]
  },
  {
   "cell_type": "code",
   "execution_count": 36,
   "metadata": {
    "collapsed": false
   },
   "outputs": [
    {
     "data": {
      "text/plain": [
       "(274645, 9)"
      ]
     },
     "execution_count": 36,
     "metadata": {},
     "output_type": "execute_result"
    }
   ],
   "source": [
    "df2.shape"
   ]
  },
  {
   "cell_type": "code",
   "execution_count": 99,
   "metadata": {
    "collapsed": false
   },
   "outputs": [
    {
     "name": "stdout",
     "output_type": "stream",
     "text": [
      "   Company_Bank of America  Company_Capital One  Company_Citibank  \\\n",
      "0                      0.0                  0.0               0.0   \n",
      "1                      0.0                  0.0               0.0   \n",
      "3                      0.0                  0.0               0.0   \n",
      "5                      1.0                  0.0               0.0   \n",
      "8                      0.0                  0.0               1.0   \n",
      "\n",
      "   Company_Ditech Financial LLC  Company_Encore Capital Group  \\\n",
      "0                           0.0                           0.0   \n",
      "1                           0.0                           0.0   \n",
      "3                           0.0                           0.0   \n",
      "5                           0.0                           0.0   \n",
      "8                           0.0                           0.0   \n",
      "\n",
      "   Company_JPMorgan Chase & Co.  Company_Nationstar Mortgage  \\\n",
      "0                           0.0                          0.0   \n",
      "1                           0.0                          0.0   \n",
      "3                           0.0                          0.0   \n",
      "5                           0.0                          0.0   \n",
      "8                           0.0                          0.0   \n",
      "\n",
      "   Company_Navient Solutions, Inc.  Company_Ocwen  Company_PNC Bank N.A.  \\\n",
      "0                              0.0            0.0                    0.0   \n",
      "1                              0.0            0.0                    0.0   \n",
      "3                              0.0            0.0                    0.0   \n",
      "5                              0.0            0.0                    0.0   \n",
      "8                              0.0            0.0                    0.0   \n",
      "\n",
      "   Company_U.S. Bancorp  Company_Wells Fargo & Company  \n",
      "0                   0.0                            1.0  \n",
      "1                   0.0                            1.0  \n",
      "3                   0.0                            1.0  \n",
      "5                   0.0                            0.0  \n",
      "8                   0.0                            0.0  \n"
     ]
    }
   ],
   "source": [
    "dummy_company = pd.get_dummies(df2[['Company']], prefix='Company')\n",
    "print dummy_company.head()"
   ]
  },
  {
   "cell_type": "code",
   "execution_count": 38,
   "metadata": {
    "collapsed": false
   },
   "outputs": [
    {
     "data": {
      "text/html": [
       "<div>\n",
       "<table border=\"1\" class=\"dataframe\">\n",
       "  <thead>\n",
       "    <tr style=\"text-align: right;\">\n",
       "      <th></th>\n",
       "      <th>Date received</th>\n",
       "      <th>Product</th>\n",
       "      <th>Sub-product</th>\n",
       "      <th>Issue</th>\n",
       "      <th>Company</th>\n",
       "      <th>State</th>\n",
       "      <th>Submitted via</th>\n",
       "      <th>Company response to consumer</th>\n",
       "      <th>Consumer disputed?</th>\n",
       "    </tr>\n",
       "  </thead>\n",
       "  <tbody>\n",
       "    <tr>\n",
       "      <th>0</th>\n",
       "      <td>07/29/2013</td>\n",
       "      <td>Consumer Loan</td>\n",
       "      <td>Vehicle loan</td>\n",
       "      <td>Managing the loan or lease</td>\n",
       "      <td>Wells Fargo &amp; Company</td>\n",
       "      <td>VA</td>\n",
       "      <td>Phone</td>\n",
       "      <td>Closed with explanation</td>\n",
       "      <td>0</td>\n",
       "    </tr>\n",
       "    <tr>\n",
       "      <th>1</th>\n",
       "      <td>07/29/2013</td>\n",
       "      <td>Bank account or service</td>\n",
       "      <td>Checking account</td>\n",
       "      <td>Managing the loan or lease</td>\n",
       "      <td>Wells Fargo &amp; Company</td>\n",
       "      <td>CA</td>\n",
       "      <td>Web</td>\n",
       "      <td>Closed with explanation</td>\n",
       "      <td>0</td>\n",
       "    </tr>\n",
       "    <tr>\n",
       "      <th>3</th>\n",
       "      <td>07/29/2013</td>\n",
       "      <td>Bank account or service</td>\n",
       "      <td>Checking account</td>\n",
       "      <td>Deposits and withdrawals</td>\n",
       "      <td>Wells Fargo &amp; Company</td>\n",
       "      <td>GA</td>\n",
       "      <td>Web</td>\n",
       "      <td>Closed with explanation</td>\n",
       "      <td>0</td>\n",
       "    </tr>\n",
       "  </tbody>\n",
       "</table>\n",
       "</div>"
      ],
      "text/plain": [
       "  Date received                  Product       Sub-product  \\\n",
       "0    07/29/2013            Consumer Loan      Vehicle loan   \n",
       "1    07/29/2013  Bank account or service  Checking account   \n",
       "3    07/29/2013  Bank account or service  Checking account   \n",
       "\n",
       "                        Issue                Company State Submitted via  \\\n",
       "0  Managing the loan or lease  Wells Fargo & Company    VA         Phone   \n",
       "1  Managing the loan or lease  Wells Fargo & Company    CA           Web   \n",
       "3    Deposits and withdrawals  Wells Fargo & Company    GA           Web   \n",
       "\n",
       "  Company response to consumer  Consumer disputed?  \n",
       "0      Closed with explanation                   0  \n",
       "1      Closed with explanation                   0  \n",
       "3      Closed with explanation                   0  "
      ]
     },
     "execution_count": 38,
     "metadata": {},
     "output_type": "execute_result"
    }
   ],
   "source": [
    "df2.head(3)"
   ]
  },
  {
   "cell_type": "code",
   "execution_count": 39,
   "metadata": {
    "collapsed": false
   },
   "outputs": [
    {
     "name": "stdout",
     "output_type": "stream",
     "text": [
      "0   2013-07-29\n",
      "1   2013-07-29\n",
      "3   2013-07-29\n",
      "5   2013-07-29\n",
      "8   2013-07-29\n",
      "Name: Date received, dtype: datetime64[ns]\n"
     ]
    }
   ],
   "source": [
    "from datetime import datetime\n",
    "from dateutil.parser import parse\n",
    "df2copy = df2.copy()\n",
    "df2copy['Date received'] = pd.to_datetime(df2copy['Date received'], format='%m/%d/%Y')\n",
    "#df2copy['Date received'] = pd.to_datetime(df2copy['Date received']).month\n",
    "#df2copy['Date received'] = pd.to_datetime(df2[['Date received']])\n",
    "#df2copy['Date received'] = pd.to_datetime(df2copy[['Date received']], format='%d%m%Y')\n",
    "#df2copy['Date received'] = pd.to_datetime(df2copy[['Date received']], format='%Y%m%d', errors='ignore')\n",
    "#df2copy['Date received'] = pd.to_datetime(df2copy[['Date received']], [day,month,year], inplace=True)\n",
    "print df2copy['Date received'].head()"
   ]
  },
  {
   "cell_type": "code",
   "execution_count": 40,
   "metadata": {
    "collapsed": false
   },
   "outputs": [],
   "source": [
    "df2copy['Date received'] = df2copy['Date received'].dt.month\n",
    "#df2copy['Date received'] = pd.to_datetime(df2copy[['Date received']]).month\n",
    "#print df2copy['Date received'].info()"
   ]
  },
  {
   "cell_type": "code",
   "execution_count": 41,
   "metadata": {
    "collapsed": false
   },
   "outputs": [
    {
     "name": "stdout",
     "output_type": "stream",
     "text": [
      "<class 'pandas.core.frame.DataFrame'>\n",
      "Int64Index: 274645 entries, 0 to 679867\n",
      "Data columns (total 9 columns):\n",
      "Date received                   274645 non-null int64\n",
      "Product                         274645 non-null object\n",
      "Sub-product                     274645 non-null object\n",
      "Issue                           274645 non-null object\n",
      "Company                         274645 non-null object\n",
      "State                           274645 non-null object\n",
      "Submitted via                   274645 non-null object\n",
      "Company response to consumer    274645 non-null object\n",
      "Consumer disputed?              274645 non-null int64\n",
      "dtypes: int64(2), object(7)\n",
      "memory usage: 21.0+ MB\n"
     ]
    }
   ],
   "source": [
    "df2copy.info()"
   ]
  },
  {
   "cell_type": "code",
   "execution_count": 42,
   "metadata": {
    "collapsed": false
   },
   "outputs": [
    {
     "data": {
      "text/html": [
       "<div>\n",
       "<table border=\"1\" class=\"dataframe\">\n",
       "  <thead>\n",
       "    <tr style=\"text-align: right;\">\n",
       "      <th></th>\n",
       "      <th>Date received</th>\n",
       "      <th>Product</th>\n",
       "      <th>Sub-product</th>\n",
       "      <th>Issue</th>\n",
       "      <th>Company</th>\n",
       "      <th>State</th>\n",
       "      <th>Submitted via</th>\n",
       "      <th>Company response to consumer</th>\n",
       "      <th>Consumer disputed?</th>\n",
       "    </tr>\n",
       "  </thead>\n",
       "  <tbody>\n",
       "    <tr>\n",
       "      <th>0</th>\n",
       "      <td>7</td>\n",
       "      <td>Consumer Loan</td>\n",
       "      <td>Vehicle loan</td>\n",
       "      <td>Managing the loan or lease</td>\n",
       "      <td>Wells Fargo &amp; Company</td>\n",
       "      <td>VA</td>\n",
       "      <td>Phone</td>\n",
       "      <td>Closed with explanation</td>\n",
       "      <td>0</td>\n",
       "    </tr>\n",
       "    <tr>\n",
       "      <th>1</th>\n",
       "      <td>7</td>\n",
       "      <td>Bank account or service</td>\n",
       "      <td>Checking account</td>\n",
       "      <td>Managing the loan or lease</td>\n",
       "      <td>Wells Fargo &amp; Company</td>\n",
       "      <td>CA</td>\n",
       "      <td>Web</td>\n",
       "      <td>Closed with explanation</td>\n",
       "      <td>0</td>\n",
       "    </tr>\n",
       "    <tr>\n",
       "      <th>3</th>\n",
       "      <td>7</td>\n",
       "      <td>Bank account or service</td>\n",
       "      <td>Checking account</td>\n",
       "      <td>Deposits and withdrawals</td>\n",
       "      <td>Wells Fargo &amp; Company</td>\n",
       "      <td>GA</td>\n",
       "      <td>Web</td>\n",
       "      <td>Closed with explanation</td>\n",
       "      <td>0</td>\n",
       "    </tr>\n",
       "    <tr>\n",
       "      <th>5</th>\n",
       "      <td>7</td>\n",
       "      <td>Bank account or service</td>\n",
       "      <td>Checking account</td>\n",
       "      <td>Deposits and withdrawals</td>\n",
       "      <td>Bank of America</td>\n",
       "      <td>TX</td>\n",
       "      <td>Web</td>\n",
       "      <td>Closed with explanation</td>\n",
       "      <td>0</td>\n",
       "    </tr>\n",
       "    <tr>\n",
       "      <th>8</th>\n",
       "      <td>7</td>\n",
       "      <td>Credit card</td>\n",
       "      <td>I do not know</td>\n",
       "      <td>Cont'd attempts collect debt not owed</td>\n",
       "      <td>Citibank</td>\n",
       "      <td>OH</td>\n",
       "      <td>Referral</td>\n",
       "      <td>Closed with explanation</td>\n",
       "      <td>1</td>\n",
       "    </tr>\n",
       "  </tbody>\n",
       "</table>\n",
       "</div>"
      ],
      "text/plain": [
       "   Date received                  Product       Sub-product  \\\n",
       "0              7            Consumer Loan      Vehicle loan   \n",
       "1              7  Bank account or service  Checking account   \n",
       "3              7  Bank account or service  Checking account   \n",
       "5              7  Bank account or service  Checking account   \n",
       "8              7              Credit card     I do not know   \n",
       "\n",
       "                                   Issue                Company State  \\\n",
       "0             Managing the loan or lease  Wells Fargo & Company    VA   \n",
       "1             Managing the loan or lease  Wells Fargo & Company    CA   \n",
       "3               Deposits and withdrawals  Wells Fargo & Company    GA   \n",
       "5               Deposits and withdrawals        Bank of America    TX   \n",
       "8  Cont'd attempts collect debt not owed               Citibank    OH   \n",
       "\n",
       "  Submitted via Company response to consumer  Consumer disputed?  \n",
       "0         Phone      Closed with explanation                   0  \n",
       "1           Web      Closed with explanation                   0  \n",
       "3           Web      Closed with explanation                   0  \n",
       "5           Web      Closed with explanation                   0  \n",
       "8      Referral      Closed with explanation                   1  "
      ]
     },
     "execution_count": 42,
     "metadata": {},
     "output_type": "execute_result"
    }
   ],
   "source": [
    "df2copy.head()"
   ]
  },
  {
   "cell_type": "code",
   "execution_count": 43,
   "metadata": {
    "collapsed": false
   },
   "outputs": [
    {
     "name": "stdout",
     "output_type": "stream",
     "text": [
      "   Date_Recd_1  Date_Recd_2  Date_Recd_3  Date_Recd_4  Date_Recd_5  \\\n",
      "0          0.0          0.0          0.0          0.0          0.0   \n",
      "1          0.0          0.0          0.0          0.0          0.0   \n",
      "3          0.0          0.0          0.0          0.0          0.0   \n",
      "5          0.0          0.0          0.0          0.0          0.0   \n",
      "8          0.0          0.0          0.0          0.0          0.0   \n",
      "\n",
      "   Date_Recd_6  Date_Recd_7  Date_Recd_8  Date_Recd_9  Date_Recd_10  \\\n",
      "0          0.0          1.0          0.0          0.0           0.0   \n",
      "1          0.0          1.0          0.0          0.0           0.0   \n",
      "3          0.0          1.0          0.0          0.0           0.0   \n",
      "5          0.0          1.0          0.0          0.0           0.0   \n",
      "8          0.0          1.0          0.0          0.0           0.0   \n",
      "\n",
      "   Date_Recd_11  Date_Recd_12  \n",
      "0           0.0           0.0  \n",
      "1           0.0           0.0  \n",
      "3           0.0           0.0  \n",
      "5           0.0           0.0  \n",
      "8           0.0           0.0  \n"
     ]
    }
   ],
   "source": [
    "dummy_daterecd = pd.get_dummies(df2copy['Date received'], prefix='Date_Recd')\n",
    "print dummy_daterecd.head()"
   ]
  },
  {
   "cell_type": "code",
   "execution_count": 44,
   "metadata": {
    "collapsed": false
   },
   "outputs": [
    {
     "data": {
      "text/plain": [
       "(639285,)"
      ]
     },
     "execution_count": 44,
     "metadata": {},
     "output_type": "execute_result"
    }
   ],
   "source": [
    "df1['Consumer disputed?'].shape"
   ]
  },
  {
   "cell_type": "code",
   "execution_count": 45,
   "metadata": {
    "collapsed": false
   },
   "outputs": [
    {
     "data": {
      "text/plain": [
       "(639285, 10)"
      ]
     },
     "execution_count": 45,
     "metadata": {},
     "output_type": "execute_result"
    }
   ],
   "source": [
    "dummy_product.shape"
   ]
  },
  {
   "cell_type": "code",
   "execution_count": 46,
   "metadata": {
    "collapsed": false
   },
   "outputs": [
    {
     "data": {
      "text/plain": [
       "(639285, 17)"
      ]
     },
     "execution_count": 46,
     "metadata": {},
     "output_type": "execute_result"
    }
   ],
   "source": [
    "dummy_subproduct.shape"
   ]
  },
  {
   "cell_type": "code",
   "execution_count": 48,
   "metadata": {
    "collapsed": false
   },
   "outputs": [
    {
     "name": "stdout",
     "output_type": "stream",
     "text": [
      "   Product_Bank account or service  Product_Consumer Loan  \\\n",
      "0                              0.0                    1.0   \n",
      "1                              1.0                    0.0   \n",
      "2                              1.0                    0.0   \n",
      "3                              1.0                    0.0   \n",
      "4                              0.0                    0.0   \n",
      "\n",
      "   Product_Credit card  Product_Credit reporting  Product_Debt collection  \\\n",
      "0                  0.0                       0.0                      0.0   \n",
      "1                  0.0                       0.0                      0.0   \n",
      "2                  0.0                       0.0                      0.0   \n",
      "3                  0.0                       0.0                      0.0   \n",
      "4                  0.0                       0.0                      0.0   \n",
      "\n",
      "   Product_Money transfers  Product_Mortgage  Product_Payday loan  \\\n",
      "0                      0.0               0.0                  0.0   \n",
      "1                      0.0               0.0                  0.0   \n",
      "2                      0.0               0.0                  0.0   \n",
      "3                      0.0               0.0                  0.0   \n",
      "4                      0.0               1.0                  0.0   \n",
      "\n",
      "   Product_Prepaid card  Product_Student loan          ...            \\\n",
      "0                   0.0                   0.0          ...             \n",
      "1                   0.0                   0.0          ...             \n",
      "2                   0.0                   0.0          ...             \n",
      "3                   0.0                   0.0          ...             \n",
      "4                   0.0                   0.0          ...             \n",
      "\n",
      "   Sub-prod_Installment loan  Sub-prod_Medical  \\\n",
      "0                        0.0               0.0   \n",
      "1                        0.0               0.0   \n",
      "2                        0.0               0.0   \n",
      "3                        0.0               0.0   \n",
      "4                        0.0               0.0   \n",
      "\n",
      "   Sub-prod_Non-federal student loan  \\\n",
      "0                                0.0   \n",
      "1                                0.0   \n",
      "2                                0.0   \n",
      "3                                0.0   \n",
      "4                                0.0   \n",
      "\n",
      "   Sub-prod_Other (i.e. phone, health club, etc.)  \\\n",
      "0                                             0.0   \n",
      "1                                             0.0   \n",
      "2                                             0.0   \n",
      "3                                             0.0   \n",
      "4                                             0.0   \n",
      "\n",
      "   Sub-prod_Other bank product/service  Sub-prod_Other mortgage  \\\n",
      "0                                  0.0                      0.0   \n",
      "1                                  0.0                      0.0   \n",
      "2                                  0.0                      0.0   \n",
      "3                                  0.0                      0.0   \n",
      "4                                  0.0                      0.0   \n",
      "\n",
      "   Sub-prod_Payday loan  Sub-prod_Savings account  Sub-prod_VA mortgage  \\\n",
      "0                   0.0                       0.0                   0.0   \n",
      "1                   0.0                       0.0                   0.0   \n",
      "2                   0.0                       0.0                   0.0   \n",
      "3                   0.0                       0.0                   0.0   \n",
      "4                   0.0                       0.0                   0.0   \n",
      "\n",
      "   Sub-prod_Vehicle loan  \n",
      "0                    1.0  \n",
      "1                    0.0  \n",
      "2                    0.0  \n",
      "3                    0.0  \n",
      "4                    0.0  \n",
      "\n",
      "[5 rows x 27 columns]\n"
     ]
    }
   ],
   "source": [
    "data1 = pd.concat([dummy_product, dummy_subproduct], axis=1, join='inner')\n",
    "print data1.head()"
   ]
  },
  {
   "cell_type": "code",
   "execution_count": 114,
   "metadata": {
    "collapsed": false
   },
   "outputs": [
    {
     "name": "stdout",
     "output_type": "stream",
     "text": [
      "   Product_Bank account or service  Product_Consumer Loan  \\\n",
      "0                              0.0                    1.0   \n",
      "1                              1.0                    0.0   \n",
      "3                              1.0                    0.0   \n",
      "5                              1.0                    0.0   \n",
      "8                              0.0                    0.0   \n",
      "\n",
      "   Product_Credit card  Product_Credit reporting  Product_Debt collection  \\\n",
      "0                  0.0                       0.0                      0.0   \n",
      "1                  0.0                       0.0                      0.0   \n",
      "3                  0.0                       0.0                      0.0   \n",
      "5                  0.0                       0.0                      0.0   \n",
      "8                  1.0                       0.0                      0.0   \n",
      "\n",
      "   Product_Money transfers  Product_Mortgage  Product_Payday loan  \\\n",
      "0                      0.0               0.0                  0.0   \n",
      "1                      0.0               0.0                  0.0   \n",
      "3                      0.0               0.0                  0.0   \n",
      "5                      0.0               0.0                  0.0   \n",
      "8                      0.0               0.0                  0.0   \n",
      "\n",
      "   Product_Prepaid card  Product_Student loan         ...          \\\n",
      "0                   0.0                   0.0         ...           \n",
      "1                   0.0                   0.0         ...           \n",
      "3                   0.0                   0.0         ...           \n",
      "5                   0.0                   0.0         ...           \n",
      "8                   0.0                   0.0         ...           \n",
      "\n",
      "   Date_Recd_4  Date_Recd_5  Date_Recd_6  Date_Recd_7  Date_Recd_8  \\\n",
      "0          0.0          0.0          0.0          1.0          0.0   \n",
      "1          0.0          0.0          0.0          1.0          0.0   \n",
      "3          0.0          0.0          0.0          1.0          0.0   \n",
      "5          0.0          0.0          0.0          1.0          0.0   \n",
      "8          0.0          0.0          0.0          1.0          0.0   \n",
      "\n",
      "   Date_Recd_9  Date_Recd_10  Date_Recd_11  Date_Recd_12  Consumer disputed?  \n",
      "0          0.0           0.0           0.0           0.0                   0  \n",
      "1          0.0           0.0           0.0           0.0                   0  \n",
      "3          0.0           0.0           0.0           0.0                   0  \n",
      "5          0.0           0.0           0.0           0.0                   0  \n",
      "8          0.0           0.0           0.0           0.0                   1  \n",
      "\n",
      "[5 rows x 99 columns]\n"
     ]
    }
   ],
   "source": [
    "data = pd.concat([dummy_product, \n",
    "                  dummy_subproduct, \n",
    "                  dummy_issue, \n",
    "                  dummy_comp_response,\n",
    "                  dummy_submittedvia,\n",
    "                 dummy_state,\n",
    "                 dummy_company,\n",
    "                 dummy_daterecd,\n",
    "                  df1[['Consumer disputed?']]],\n",
    "                 axis=1, join='inner')\n",
    "\n",
    "print data.head()"
   ]
  },
  {
   "cell_type": "code",
   "execution_count": 115,
   "metadata": {
    "collapsed": false
   },
   "outputs": [
    {
     "data": {
      "text/plain": [
       "(274645, 99)"
      ]
     },
     "execution_count": 115,
     "metadata": {},
     "output_type": "execute_result"
    }
   ],
   "source": [
    "data.shape"
   ]
  },
  {
   "cell_type": "code",
   "execution_count": 116,
   "metadata": {
    "collapsed": false
   },
   "outputs": [
    {
     "data": {
      "text/plain": [
       "0"
      ]
     },
     "execution_count": 116,
     "metadata": {},
     "output_type": "execute_result"
    }
   ],
   "source": [
    "data.isnull().values.sum()"
   ]
  },
  {
   "cell_type": "code",
   "execution_count": 117,
   "metadata": {
    "collapsed": false
   },
   "outputs": [],
   "source": [
    "from sklearn.cross_validation import train_test_split\n",
    "\n",
    "train, test = train_test_split(data, train_size=.80, test_size=.20)"
   ]
  },
  {
   "cell_type": "code",
   "execution_count": 118,
   "metadata": {
    "collapsed": false
   },
   "outputs": [
    {
     "data": {
      "text/plain": [
       "(219716, 99)"
      ]
     },
     "execution_count": 118,
     "metadata": {},
     "output_type": "execute_result"
    }
   ],
   "source": [
    "train.shape"
   ]
  },
  {
   "cell_type": "code",
   "execution_count": 119,
   "metadata": {
    "collapsed": false
   },
   "outputs": [
    {
     "data": {
      "text/html": [
       "<div>\n",
       "<table border=\"1\" class=\"dataframe\">\n",
       "  <thead>\n",
       "    <tr style=\"text-align: right;\">\n",
       "      <th></th>\n",
       "      <th>Product_Bank account or service</th>\n",
       "      <th>Product_Consumer Loan</th>\n",
       "      <th>Product_Credit card</th>\n",
       "      <th>Product_Credit reporting</th>\n",
       "      <th>Product_Debt collection</th>\n",
       "      <th>Product_Money transfers</th>\n",
       "      <th>Product_Mortgage</th>\n",
       "      <th>Product_Payday loan</th>\n",
       "      <th>Product_Prepaid card</th>\n",
       "      <th>Product_Student loan</th>\n",
       "      <th>...</th>\n",
       "      <th>Date_Recd_4</th>\n",
       "      <th>Date_Recd_5</th>\n",
       "      <th>Date_Recd_6</th>\n",
       "      <th>Date_Recd_7</th>\n",
       "      <th>Date_Recd_8</th>\n",
       "      <th>Date_Recd_9</th>\n",
       "      <th>Date_Recd_10</th>\n",
       "      <th>Date_Recd_11</th>\n",
       "      <th>Date_Recd_12</th>\n",
       "      <th>Consumer disputed?</th>\n",
       "    </tr>\n",
       "  </thead>\n",
       "  <tbody>\n",
       "    <tr>\n",
       "      <th>440074</th>\n",
       "      <td>1.0</td>\n",
       "      <td>0.0</td>\n",
       "      <td>0.0</td>\n",
       "      <td>0.0</td>\n",
       "      <td>0.0</td>\n",
       "      <td>0.0</td>\n",
       "      <td>0.0</td>\n",
       "      <td>0.0</td>\n",
       "      <td>0.0</td>\n",
       "      <td>0.0</td>\n",
       "      <td>...</td>\n",
       "      <td>0.0</td>\n",
       "      <td>0.0</td>\n",
       "      <td>0.0</td>\n",
       "      <td>0.0</td>\n",
       "      <td>0.0</td>\n",
       "      <td>0.0</td>\n",
       "      <td>0.0</td>\n",
       "      <td>0.0</td>\n",
       "      <td>0.0</td>\n",
       "      <td>0</td>\n",
       "    </tr>\n",
       "    <tr>\n",
       "      <th>18596</th>\n",
       "      <td>0.0</td>\n",
       "      <td>0.0</td>\n",
       "      <td>0.0</td>\n",
       "      <td>0.0</td>\n",
       "      <td>1.0</td>\n",
       "      <td>0.0</td>\n",
       "      <td>0.0</td>\n",
       "      <td>0.0</td>\n",
       "      <td>0.0</td>\n",
       "      <td>0.0</td>\n",
       "      <td>...</td>\n",
       "      <td>0.0</td>\n",
       "      <td>0.0</td>\n",
       "      <td>0.0</td>\n",
       "      <td>0.0</td>\n",
       "      <td>0.0</td>\n",
       "      <td>0.0</td>\n",
       "      <td>0.0</td>\n",
       "      <td>0.0</td>\n",
       "      <td>0.0</td>\n",
       "      <td>0</td>\n",
       "    </tr>\n",
       "    <tr>\n",
       "      <th>184619</th>\n",
       "      <td>0.0</td>\n",
       "      <td>0.0</td>\n",
       "      <td>1.0</td>\n",
       "      <td>0.0</td>\n",
       "      <td>0.0</td>\n",
       "      <td>0.0</td>\n",
       "      <td>0.0</td>\n",
       "      <td>0.0</td>\n",
       "      <td>0.0</td>\n",
       "      <td>0.0</td>\n",
       "      <td>...</td>\n",
       "      <td>0.0</td>\n",
       "      <td>0.0</td>\n",
       "      <td>0.0</td>\n",
       "      <td>0.0</td>\n",
       "      <td>0.0</td>\n",
       "      <td>0.0</td>\n",
       "      <td>0.0</td>\n",
       "      <td>1.0</td>\n",
       "      <td>0.0</td>\n",
       "      <td>1</td>\n",
       "    </tr>\n",
       "  </tbody>\n",
       "</table>\n",
       "<p>3 rows × 99 columns</p>\n",
       "</div>"
      ],
      "text/plain": [
       "        Product_Bank account or service  Product_Consumer Loan  \\\n",
       "440074                              1.0                    0.0   \n",
       "18596                               0.0                    0.0   \n",
       "184619                              0.0                    0.0   \n",
       "\n",
       "        Product_Credit card  Product_Credit reporting  \\\n",
       "440074                  0.0                       0.0   \n",
       "18596                   0.0                       0.0   \n",
       "184619                  1.0                       0.0   \n",
       "\n",
       "        Product_Debt collection  Product_Money transfers  Product_Mortgage  \\\n",
       "440074                      0.0                      0.0               0.0   \n",
       "18596                       1.0                      0.0               0.0   \n",
       "184619                      0.0                      0.0               0.0   \n",
       "\n",
       "        Product_Payday loan  Product_Prepaid card  Product_Student loan  \\\n",
       "440074                  0.0                   0.0                   0.0   \n",
       "18596                   0.0                   0.0                   0.0   \n",
       "184619                  0.0                   0.0                   0.0   \n",
       "\n",
       "               ...          Date_Recd_4  Date_Recd_5  Date_Recd_6  \\\n",
       "440074         ...                  0.0          0.0          0.0   \n",
       "18596          ...                  0.0          0.0          0.0   \n",
       "184619         ...                  0.0          0.0          0.0   \n",
       "\n",
       "        Date_Recd_7  Date_Recd_8  Date_Recd_9  Date_Recd_10  Date_Recd_11  \\\n",
       "440074          0.0          0.0          0.0           0.0           0.0   \n",
       "18596           0.0          0.0          0.0           0.0           0.0   \n",
       "184619          0.0          0.0          0.0           0.0           1.0   \n",
       "\n",
       "        Date_Recd_12  Consumer disputed?  \n",
       "440074           0.0                   0  \n",
       "18596            0.0                   0  \n",
       "184619           0.0                   1  \n",
       "\n",
       "[3 rows x 99 columns]"
      ]
     },
     "execution_count": 119,
     "metadata": {},
     "output_type": "execute_result"
    }
   ],
   "source": [
    "train.head(3)"
   ]
  },
  {
   "cell_type": "code",
   "execution_count": 120,
   "metadata": {
    "collapsed": false
   },
   "outputs": [],
   "source": [
    "from sklearn import linear_model\n",
    "from sklearn.linear_model import LogisticRegressionCV"
   ]
  },
  {
   "cell_type": "code",
   "execution_count": 121,
   "metadata": {
    "collapsed": false
   },
   "outputs": [],
   "source": [
    "log_model = linear_model.LogisticRegressionCV()"
   ]
  },
  {
   "cell_type": "code",
   "execution_count": 133,
   "metadata": {
    "collapsed": false
   },
   "outputs": [
    {
     "data": {
      "text/plain": [
       "LogisticRegressionCV(Cs=10, class_weight=None, cv=None, dual=False,\n",
       "           fit_intercept=True, intercept_scaling=1.0, max_iter=100,\n",
       "           multi_class='ovr', n_jobs=1, penalty='l2', random_state=None,\n",
       "           refit=True, scoring=None, solver='lbfgs', tol=0.0001, verbose=0)"
      ]
     },
     "execution_count": 133,
     "metadata": {},
     "output_type": "execute_result"
    }
   ],
   "source": [
    "log_model.fit(train.iloc[:,:-1], train.iloc[:,-1])"
   ]
  },
  {
   "cell_type": "code",
   "execution_count": null,
   "metadata": {
    "collapsed": true
   },
   "outputs": [],
   "source": []
  },
  {
   "cell_type": "code",
   "execution_count": null,
   "metadata": {
    "collapsed": true
   },
   "outputs": [],
   "source": []
  }
 ],
 "metadata": {
  "anaconda-cloud": {},
  "kernelspec": {
   "display_name": "Python [conda root]",
   "language": "python",
   "name": "conda-root-py"
  },
  "language_info": {
   "codemirror_mode": {
    "name": "ipython",
    "version": 2
   },
   "file_extension": ".py",
   "mimetype": "text/x-python",
   "name": "python",
   "nbconvert_exporter": "python",
   "pygments_lexer": "ipython2",
   "version": "2.7.12"
  }
 },
 "nbformat": 4,
 "nbformat_minor": 1
}
