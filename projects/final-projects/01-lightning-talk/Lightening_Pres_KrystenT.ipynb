{
 "cells": [
  {
   "cell_type": "markdown",
   "metadata": {},
   "source": [
    "### Krysten Thompson - Lightening Presentation"
   ]
  },
  {
   "cell_type": "markdown",
   "metadata": {},
   "source": [
    "### Idea 1 - Airplane Etiquette\n",
    "\n",
    "##### The Problem: \n",
    "\n",
    "As airline ticket prices have dropped (relatively speaking compared with 40 years ago), much of the U.S. population can afford to travel by air. Planes are full to capacity, airline staff (most in unions) often feel taken advantage of by management, both of which can lead travelers to feel frustrated with the flying experience.\n",
    "\n",
    "#### Hypothesis: \n",
    "\n",
    "H(0) - Airline travelers do not have expectations for on-plane behavior nor do they become irritated by any specific behaviors.\n",
    "\n",
    "H(1) - Age and frequency of flying impact a person's expectations regarding flying etiquette.\n",
    "\n",
    "#### Data Available:  \n",
    "\n",
    " - Survey results from Survey Monkey study on the degree of tolerance for specific behavior often regarded as frustrating on flights\n",
    " - Over 800 responses\n",
    " - 27 fields of data"
   ]
  },
  {
   "cell_type": "markdown",
   "metadata": {},
   "source": [
    "### ----------------------------------------------------------------------------------------------------------------"
   ]
  },
  {
   "cell_type": "markdown",
   "metadata": {},
   "source": [
    "### Idea 2 - Consumer Fraud\n",
    "\n",
    "##### The Problem: \n",
    "\n",
    "Consumer credit fraud is one of the top problems for financial institutions. Billions of dollars a year are lost due to credit fraud.\n",
    "\n",
    "#### Hypothesis: \n",
    "\n",
    "H(0) - Financial institutions receive an equal amount of consumer complaints, and in general, complaints are equally spread over the various complaint categories. \n",
    "\n",
    "H(1) - Credit card fraud is the number one cause of consumer complaints and Wells Fargo has the highest consumer complaint rate.\n",
    "\n",
    "#### Data Available:  \n",
    "\n",
    "- Consumer Complaint Database (data.gov) summarizes complaints received by Consumer Financial Protection Bureau\n",
    "- Focuses on consumer credit issues (credit cards, bank loans, credit reporting)\n",
    "- Data includes name of financial institution, type of complaint, date, zip code\n",
    "- Data.gov caveates data set by noting that the Consumer Financial Protection Bureau does not verify facts of the complaints"
   ]
  },
  {
   "cell_type": "markdown",
   "metadata": {},
   "source": [
    "### --------------------------------------------------------------------------------------------------------------------"
   ]
  },
  {
   "cell_type": "markdown",
   "metadata": {},
   "source": [
    "### Idea 3 - Crime Activity in Belmont, CA (possible expand to San Mateo County)\n",
    "\n",
    "##### The Problem: \n",
    "\n",
    "Crime has appeared to have significantly increased in Belmont, CA over the past 5 months. \n",
    "\n",
    "#### Hypothesis: \n",
    "\n",
    "H(0) - Crime rates have remained steady. It is only because of posts on the app Nextdoor that my perception is that crime has increased.\n",
    "\n",
    "H(1) - Crime has increased in Belmont, CA. This could be correleated to population increase or other factors (to be explored in the data).\n",
    "\n",
    "#### Data Available:  \n",
    "\n",
    " - Type of crime and percent occurence (smcgov.org)\n",
    " - Population growth through 2015 (suburbanstats.gov)\n",
    " - Crime statistics (spotcrime.com, areavibes.com, smcsheriff.com)\n",
    " - App data from Nextdoor\n",
    "\n",
    "\n"
   ]
  }
 ],
 "metadata": {
  "anaconda-cloud": {},
  "kernelspec": {
   "display_name": "Python [conda root]",
   "language": "python",
   "name": "conda-root-py"
  },
  "language_info": {
   "codemirror_mode": {
    "name": "ipython",
    "version": 2
   },
   "file_extension": ".py",
   "mimetype": "text/x-python",
   "name": "python",
   "nbconvert_exporter": "python",
   "pygments_lexer": "ipython2",
   "version": "2.7.12"
  }
 },
 "nbformat": 4,
 "nbformat_minor": 1
}
