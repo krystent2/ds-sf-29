{
 "cells": [
  {
   "cell_type": "markdown",
   "metadata": {},
   "source": [
    "### Project Problem and Hypothesis\n",
    "\n",
    "+ What's the project about? What problem are you solving?\n",
    "\n",
    "Project focuses on predicting: 1)likelihood that consumer disputes financial institution resolution regarding consumer complaint, 2) likelihood that complaint results in monetary restitution to consumer, and 3) what type of response a consumer will receive based on various inputs (e.g. financial institution, type of complaint, how complaint submitted, state)\n",
    "\n",
    "Problems being solved:\n",
    "     - Allow financial institutions to predict top 3 complaints by state and \"success\" rate (success rate = Little to no consumer disputes regarding resolution) of resolution\n",
    "     - Allow financial institutions to determine if resolutions to same complaint vary by state and if that, in turn, impacts resolution success\n",
    "     - Allow consumers to identify financial institutions with greatest number of complaints and highest consumer resolution rate (by state)\n",
    "\n",
    "\n",
    "+ Where does this seem to reside as a machine learning problem? Are you predicting some continuous number, or predicting a binary value?\n",
    "\n",
    "This will be a logistic regression model with possible use of decision tree modeling as a precursor.\n",
    "\n",
    "Some variables (or factors) will have binary value (such as whether consumer disputed resolution). Other factors will reflect a continuous number (such as number of complaint type A over past 4 years).\n",
    "\n",
    "\n",
    "+ What kind of impact do you think it could have?\n",
    "\n",
    "Using only this dataset, the impact could be significant from an investor view. For example, if Wells Fargo sees a spike in complaints, investors may lower the investment grade (e.g. from B to D).\n",
    "\n",
    "What would be more helpful would be to combine findings from this dataset with economic data by state and zip code. During the recession and housing bubble, states and even certain zip codes were affected differently. Foreclosures were particularly high in certain areas and this would have an impact on mortgage rate complaints by consumers (one of the variables in my dataset).\n",
    "\n",
    "\n",
    "+ What do you think will have the most impact in predicting the value you are interested in solving for?\n",
    "\n",
    "Financial institution: because varying companies handle complaints differently and some companies are more customer-focused than others\n",
    "\n",
    "States: geographic economic differences are significant with the U.S.\n"
   ]
  },
  {
   "cell_type": "markdown",
   "metadata": {},
   "source": [
    "### Data Sets\n",
    "These are the fields available in the dataset:\n",
    "    + Date received\n",
    "    + Product\n",
    "    Sub-product\n",
    "    Issue\n",
    "    Sub-issue\n",
    "    Consumer complaint narrative\n",
    "    Company public response\n",
    "    Company\n",
    "    State\n",
    "    ZIP code\n",
    "    Tags\n",
    "    Consumer consent provided?\n",
    "    Submitted via\n",
    "    Date sent to company\n",
    "    Company response to consumer\n",
    "    Timely response?\n",
    "    Consumer disputed?\n",
    "    Complaint ID\n",
    "\n",
    "\n",
    "### Domain Knowledge\n",
    "\n",
    "I don't have any experience in area of consumer credit complaints. The dataset is interesting to me because I dealt with a significant amount of stolen credit card fraud in a previous job.\n",
    "\n",
    "The dataset I downloaded from data.gov might only go through mid-summer 2016. However, data to present data may be downloadable from here:  https://data.consumerfinance.gov/dataset/Consumer-Complaints/s6ew-h6mp/data It looks very similar in terms of factors and data within factors.\n",
    "\n",
    "Each month, the Consumer Financial Protection Bureau writes a report based on the past month's data. These reports highlight a particular area of complaint (e.g. mortgages, loans) and a specific state. The reports are a summary of the data with MoM and YoY trends.\n",
    "\n",
    "*There is no prediction analysis provided in the CFPB monthly reports.*\n",
    "\n",
    "\n",
    "### Project Concerns\n",
    "\n",
    "+ I won't do the correct predictive model.\n",
    "\n",
    "+ All the data is a type=object. I tried to find a way to change certain columns to string and certain columns to float but I couldn't do it (after trying for over an hour). Errors shown in code down below.\n",
    "\n",
    "+ Not exactly sure where to start with data munging. Have identified that I'm missing data (see below), some fields are categories and will have to be made into dummy variables, and I don't know if some fields should be made 'str' and some 'int', etc.\n",
    "\n",
    "+ I need to understand what to do with empty fields in the data. I could calc the mean or median and add it to empty fields??? \n",
    "\n",
    "    +Result of df.isnull().sum()\n",
    "\n",
    "    * Date received                        0\n",
    "    * Product                              0\n",
    "    * Sub-product                     201117\n",
    "    * Issue                                1\n",
    "    * Sub-issue                       405537\n",
    "    * Consumer complaint narrative    561564\n",
    "    * Company public response         529434\n",
    "    * Company                              0\n",
    "    * State                             5368\n",
    "    * ZIP code                          5381\n",
    "    * Tags                            583715\n",
    "    * Consumer consent provided?      464520\n",
    "    * Submitted via                        1\n",
    "    * Date sent to company                 0\n",
    "    * Company response to consumer         0\n",
    "    * Timely response?                     0\n",
    "    * Consumer disputed?               40594\n",
    "    * Complaint ID                         0\n",
    "\n",
    "\n",
    "+ I attempted to go through the credit complaint process myself. Potential errors or mis-information could be possible if the consumer does not understand any part of the form or choose the wrong multiple choice item during the form completion process. Errors are unlikely from the gov't (am I being too trusting?) but errors could easily occur on accident by the consumer. "
   ]
  },
  {
   "cell_type": "markdown",
   "metadata": {},
   "source": [
    "### Outcomes\n",
    "\n",
    "+ I expect the outcome to be several prediction models that do/do not validate the hypotheses above, as well as a summary for each for predictor\n",
    "\n",
    "+ The financial institution audience will expect an overview of how the analysis was conducted, what variables could affect the model(s), summary of predictions, and how external factors not included in the model could impact the predictions.\n",
    "\n",
    "+ The consumer audience will expect an overview of what a financial institution's response is likely to be based on: geography, financial institution, type of credit complaint, etc.\n",
    "\n",
    "+ I actually don't know how complicated my model has to be at this point. \n",
    "\n",
    "+ I will consider this a success if I can: build all the prediction models and create a summary that's presentable to financial institutions and consumers.\n",
    "\n",
    "+ I am not going to let this project be a bust.\n",
    "\n",
    "\n",
    "\n"
   ]
  },
  {
   "cell_type": "code",
   "execution_count": 1,
   "metadata": {
    "collapsed": true
   },
   "outputs": [],
   "source": [
    "import pandas as pd\n",
    "import os"
   ]
  },
  {
   "cell_type": "code",
   "execution_count": 14,
   "metadata": {
    "collapsed": false
   },
   "outputs": [],
   "source": [
    "df = pd.read_csv('Consumer_Complaints1.csv')"
   ]
  },
  {
   "cell_type": "code",
   "execution_count": 15,
   "metadata": {
    "collapsed": false
   },
   "outputs": [
    {
     "name": "stdout",
     "output_type": "stream",
     "text": [
      "Date received\n",
      "Product\n",
      "Sub-product\n",
      "Issue\n",
      "Sub-issue\n",
      "Consumer complaint narrative\n",
      "Company public response\n",
      "Company\n",
      "State\n",
      "ZIP code\n",
      "Tags\n",
      "Consumer consent provided?\n",
      "Submitted via\n",
      "Date sent to company\n",
      "Company response to consumer\n",
      "Timely response?\n",
      "Consumer disputed?\n",
      "Complaint ID\n"
     ]
    }
   ],
   "source": [
    "for x in df.columns.values:\n",
    "    print x"
   ]
  },
  {
   "cell_type": "code",
   "execution_count": 16,
   "metadata": {
    "collapsed": false
   },
   "outputs": [
    {
     "name": "stdout",
     "output_type": "stream",
     "text": [
      "  Date received                  Product                  Sub-product  \\\n",
      "0    07/29/2013            Consumer Loan                 Vehicle loan   \n",
      "1    07/29/2013  Bank account or service             Checking account   \n",
      "2    07/29/2013  Bank account or service             Checking account   \n",
      "3    07/29/2013  Bank account or service             Checking account   \n",
      "4    07/29/2013                 Mortgage  Conventional fixed mortgage   \n",
      "\n",
      "                                      Issue Sub-issue  \\\n",
      "0                Managing the loan or lease       NaN   \n",
      "1                 Using a debit or ATM card       NaN   \n",
      "2   Account opening, closing, or management       NaN   \n",
      "3                  Deposits and withdrawals       NaN   \n",
      "4  Loan servicing, payments, escrow account       NaN   \n",
      "\n",
      "  Consumer complaint narrative Company public response  \\\n",
      "0                          NaN                     NaN   \n",
      "1                          NaN                     NaN   \n",
      "2                          NaN                     NaN   \n",
      "3                          NaN                     NaN   \n",
      "4                          NaN                     NaN   \n",
      "\n",
      "                      Company State ZIP code            Tags  \\\n",
      "0       Wells Fargo & Company    VA    24540             NaN   \n",
      "1       Wells Fargo & Company    CA    95992  Older American   \n",
      "2           Santander Bank US    NY    10065             NaN   \n",
      "3       Wells Fargo & Company    GA    30084             NaN   \n",
      "4  Franklin Credit Management    CT    06106             NaN   \n",
      "\n",
      "  Consumer consent provided? Submitted via Date sent to company  \\\n",
      "0                        NaN         Phone           07/30/2013   \n",
      "1                        NaN           Web           07/31/2013   \n",
      "2                        NaN           Fax           07/31/2013   \n",
      "3                        NaN           Web           07/30/2013   \n",
      "4                        NaN           Web           07/30/2013   \n",
      "\n",
      "  Company response to consumer Timely response? Consumer disputed?  \\\n",
      "0      Closed with explanation              Yes                 No   \n",
      "1      Closed with explanation              Yes                 No   \n",
      "2                       Closed              Yes                 No   \n",
      "3      Closed with explanation              Yes                 No   \n",
      "4      Closed with explanation              Yes                 No   \n",
      "\n",
      "   Complaint ID  \n",
      "0        468882  \n",
      "1        468889  \n",
      "2        468879  \n",
      "3        468949  \n",
      "4        475823  \n"
     ]
    }
   ],
   "source": [
    "print df.head()"
   ]
  },
  {
   "cell_type": "code",
   "execution_count": 18,
   "metadata": {
    "collapsed": false
   },
   "outputs": [
    {
     "data": {
      "text/plain": [
       "Date received                   object\n",
       "Product                         object\n",
       "Sub-product                     object\n",
       "Issue                           object\n",
       "Sub-issue                       object\n",
       "Consumer complaint narrative    object\n",
       "Company public response         object\n",
       "Company                         object\n",
       "State                           object\n",
       "ZIP code                        object\n",
       "Tags                            object\n",
       "Consumer consent provided?      object\n",
       "Submitted via                   object\n",
       "Date sent to company            object\n",
       "Company response to consumer    object\n",
       "Timely response?                object\n",
       "Consumer disputed?              object\n",
       "Complaint ID                     int64\n",
       "dtype: object"
      ]
     },
     "execution_count": 18,
     "metadata": {},
     "output_type": "execute_result"
    }
   ],
   "source": [
    "#This is a problem\n",
    "df.dtypes"
   ]
  },
  {
   "cell_type": "code",
   "execution_count": 9,
   "metadata": {
    "collapsed": false
   },
   "outputs": [
    {
     "name": "stdout",
     "output_type": "stream",
     "text": [
      "679879\n"
     ]
    }
   ],
   "source": [
    "print len(df)"
   ]
  },
  {
   "cell_type": "code",
   "execution_count": 13,
   "metadata": {
    "collapsed": false
   },
   "outputs": [
    {
     "data": {
      "text/plain": [
       "Date received                        0\n",
       "Product                              0\n",
       "Sub-product                     201117\n",
       "Issue                                1\n",
       "Sub-issue                       405537\n",
       "Consumer complaint narrative    561564\n",
       "Company public response         529434\n",
       "Company                              0\n",
       "State                             5368\n",
       "ZIP code                          5381\n",
       "Tags                            583715\n",
       "Consumer consent provided?      464520\n",
       "Submitted via                        1\n",
       "Date sent to company                 0\n",
       "Company response to consumer         0\n",
       "Timely response?                     0\n",
       "Consumer disputed?               40594\n",
       "Complaint ID                         0\n",
       "dtype: int64"
      ]
     },
     "execution_count": 13,
     "metadata": {},
     "output_type": "execute_result"
    }
   ],
   "source": [
    "df.isnull().sum()"
   ]
  },
  {
   "cell_type": "code",
   "execution_count": 14,
   "metadata": {
    "collapsed": false
   },
   "outputs": [
    {
     "data": {
      "text/plain": [
       "count       679879\n",
       "unique          12\n",
       "top       Mortgage\n",
       "freq        212178\n",
       "Name: Product, dtype: object"
      ]
     },
     "execution_count": 14,
     "metadata": {},
     "output_type": "execute_result"
    }
   ],
   "source": [
    "df.Product.describe()"
   ]
  },
  {
   "cell_type": "code",
   "execution_count": 18,
   "metadata": {
    "collapsed": false
   },
   "outputs": [
    {
     "data": {
      "text/plain": [
       "Mortgage                   212178\n",
       "Debt collection            126369\n",
       "Credit reporting           120998\n",
       "Credit card                 80119\n",
       "Bank account or service     77253\n",
       "Consumer Loan               27101\n",
       "Student loan                22083\n",
       "Payday loan                  4893\n",
       "Money transfers              4792\n",
       "Prepaid card                 3242\n",
       "Other financial service       836\n",
       "Virtual currency               15\n",
       "Name: Product, dtype: int64"
      ]
     },
     "execution_count": 18,
     "metadata": {},
     "output_type": "execute_result"
    }
   ],
   "source": [
    "df.Product.value_counts()"
   ]
  },
  {
   "cell_type": "code",
   "execution_count": 17,
   "metadata": {
    "collapsed": false
   },
   "outputs": [
    {
     "data": {
      "text/plain": [
       "count              96164\n",
       "unique                 3\n",
       "top       Older American\n",
       "freq               55639\n",
       "Name: Tags, dtype: object"
      ]
     },
     "execution_count": 17,
     "metadata": {},
     "output_type": "execute_result"
    }
   ],
   "source": [
    "df.Tags.describe()"
   ]
  },
  {
   "cell_type": "code",
   "execution_count": 25,
   "metadata": {
    "collapsed": false
   },
   "outputs": [
    {
     "data": {
      "text/plain": [
       "count                                       679878\n",
       "unique                                          95\n",
       "top       Loan modification,collection,foreclosure\n",
       "freq                                        107093\n",
       "Name: Issue, dtype: object"
      ]
     },
     "execution_count": 25,
     "metadata": {},
     "output_type": "execute_result"
    }
   ],
   "source": [
    "df.Issue.describe()"
   ]
  },
  {
   "cell_type": "code",
   "execution_count": 26,
   "metadata": {
    "collapsed": false
   },
   "outputs": [
    {
     "data": {
      "text/plain": [
       "Loan modification,collection,foreclosure    107093\n",
       "Incorrect information on credit report       88243\n",
       "Loan servicing, payments, escrow account     70979\n",
       "Cont'd attempts collect debt not owed        52502\n",
       "Account opening, closing, or management      33832\n",
       "Disclosure verification of debt              25173\n",
       "Communication tactics                        21621\n",
       "Deposits and withdrawals                     20618\n",
       "Application, originator, mortgage broker     15702\n",
       "Credit reporting company's investigation     14178\n",
       "Billing disputes                             13374\n",
       "Other                                        13262\n",
       "Managing the loan or lease                   12973\n",
       "Problems caused by my funds being low        10785\n",
       "Dealing with my lender or servicer           10546\n",
       "False statements or representation           10174\n",
       "Unable to get credit report/credit score      9870\n",
       "Improper contact or sharing of info           8938\n",
       "Problems when you are unable to pay           8281\n",
       "Settlement process and costs                  8182\n",
       "Taking/threatening an illegal action          7961\n",
       "Identity theft / Fraud / Embezzlement         7493\n",
       "Making/receiving payments, sending money      6580\n",
       "Closing/Cancelling account                    5730\n",
       "Using a debit or ATM card                     5438\n",
       "Can't repay my loan                           5418\n",
       "Credit decision / Underwriting                5188\n",
       "APR or interest rate                          5183\n",
       "Improper use of my credit report              4799\n",
       "Credit monitoring or identity protection      3908\n",
       "                                             ...  \n",
       "Privacy                                        443\n",
       "Bankruptcy                                     426\n",
       "Payment to acct not credited                   390\n",
       "Applied for loan/did not receive money         321\n",
       "Arbitration                                    311\n",
       "Sale of account                                311\n",
       "Shopping for a line of credit                  287\n",
       "Charged bank acct wrong day or amt             260\n",
       "Wrong amount charged or received               244\n",
       "Cash advance                                   232\n",
       "Customer service/Customer relations            231\n",
       "Fees                                           205\n",
       "Overlimit fee                                  202\n",
       "Balance transfer fee                           196\n",
       "Adding money                                   185\n",
       "Cash advance fee                               184\n",
       "Incorrect/missing disclosures or info          181\n",
       "Convenience checks                             132\n",
       "Excessive fees                                  85\n",
       "Unexpected/Other fees                           84\n",
       "Lender repossessed or sold the vehicle          68\n",
       "Advertising, marketing or disclosures           66\n",
       "Overdraft, savings or rewards features          46\n",
       "Lost or stolen check                            37\n",
       "Lost or stolen money order                      36\n",
       "Disclosures                                     35\n",
       "Incorrect exchange rate                         22\n",
       "Lender sold the property                         7\n",
       "Lender damaged or destroyed vehicle              6\n",
       "Lender damaged or destroyed property             1\n",
       "Name: Issue, dtype: int64"
      ]
     },
     "execution_count": 26,
     "metadata": {},
     "output_type": "execute_result"
    }
   ],
   "source": [
    "df.Issue.value_counts()"
   ]
  },
  {
   "cell_type": "code",
   "execution_count": 2,
   "metadata": {
    "collapsed": true
   },
   "outputs": [],
   "source": [
    "import numpy as np\n",
    "import matplotlib as plt\n",
    "import pandas as pd"
   ]
  },
  {
   "cell_type": "code",
   "execution_count": 3,
   "metadata": {
    "collapsed": false
   },
   "outputs": [
    {
     "name": "stderr",
     "output_type": "stream",
     "text": [
      "/Users/krys/anaconda2/lib/python2.7/site-packages/IPython/core/interactiveshell.py:2717: DtypeWarning: Columns (5,11) have mixed types. Specify dtype option on import or set low_memory=False.\n",
      "  interactivity=interactivity, compiler=compiler, result=result)\n"
     ]
    }
   ],
   "source": [
    "df1 = pd.read_csv('Consumer_Complaints1.csv')"
   ]
  },
  {
   "cell_type": "code",
   "execution_count": 25,
   "metadata": {
    "collapsed": false
   },
   "outputs": [
    {
     "ename": "AttributeError",
     "evalue": "'str' object has no attribute 'dtypes'",
     "output_type": "error",
     "traceback": [
      "\u001b[0;31m---------------------------------------------------------------------------\u001b[0m",
      "\u001b[0;31mAttributeError\u001b[0m                            Traceback (most recent call last)",
      "\u001b[0;32m<ipython-input-25-1ad7d2289a9d>\u001b[0m in \u001b[0;36m<module>\u001b[0;34m()\u001b[0m\n\u001b[0;32m----> 1\u001b[0;31m \u001b[0mdf1\u001b[0m\u001b[0;34m.\u001b[0m\u001b[0mdtypes\u001b[0m\u001b[0;34m\u001b[0m\u001b[0m\n\u001b[0m",
      "\u001b[0;31mAttributeError\u001b[0m: 'str' object has no attribute 'dtypes'"
     ]
    }
   ],
   "source": [
    "df1.dtypes"
   ]
  },
  {
   "cell_type": "code",
   "execution_count": 22,
   "metadata": {
    "collapsed": false
   },
   "outputs": [],
   "source": [
    "df1 = pd.to_numeric(errors='ignore')"
   ]
  },
  {
   "cell_type": "code",
   "execution_count": 23,
   "metadata": {
    "collapsed": false
   },
   "outputs": [
    {
     "ename": "AttributeError",
     "evalue": "'str' object has no attribute 'dtypes'",
     "output_type": "error",
     "traceback": [
      "\u001b[0;31m---------------------------------------------------------------------------\u001b[0m",
      "\u001b[0;31mAttributeError\u001b[0m                            Traceback (most recent call last)",
      "\u001b[0;32m<ipython-input-23-1ad7d2289a9d>\u001b[0m in \u001b[0;36m<module>\u001b[0;34m()\u001b[0m\n\u001b[0;32m----> 1\u001b[0;31m \u001b[0mdf1\u001b[0m\u001b[0;34m.\u001b[0m\u001b[0mdtypes\u001b[0m\u001b[0;34m\u001b[0m\u001b[0m\n\u001b[0m",
      "\u001b[0;31mAttributeError\u001b[0m: 'str' object has no attribute 'dtypes'"
     ]
    }
   ],
   "source": [
    "df1.dtypes"
   ]
  },
  {
   "cell_type": "code",
   "execution_count": null,
   "metadata": {
    "collapsed": true
   },
   "outputs": [],
   "source": []
  },
  {
   "cell_type": "code",
   "execution_count": null,
   "metadata": {
    "collapsed": true
   },
   "outputs": [],
   "source": []
  },
  {
   "cell_type": "code",
   "execution_count": null,
   "metadata": {
    "collapsed": true
   },
   "outputs": [],
   "source": []
  },
  {
   "cell_type": "code",
   "execution_count": null,
   "metadata": {
    "collapsed": true
   },
   "outputs": [],
   "source": []
  },
  {
   "cell_type": "code",
   "execution_count": null,
   "metadata": {
    "collapsed": true
   },
   "outputs": [],
   "source": []
  },
  {
   "cell_type": "code",
   "execution_count": null,
   "metadata": {
    "collapsed": true
   },
   "outputs": [],
   "source": []
  },
  {
   "cell_type": "code",
   "execution_count": null,
   "metadata": {
    "collapsed": true
   },
   "outputs": [],
   "source": []
  },
  {
   "cell_type": "code",
   "execution_count": null,
   "metadata": {
    "collapsed": true
   },
   "outputs": [],
   "source": []
  },
  {
   "cell_type": "markdown",
   "metadata": {},
   "source": [
    "# "
   ]
  }
 ],
 "metadata": {
  "anaconda-cloud": {},
  "kernelspec": {
   "display_name": "Python [conda root]",
   "language": "python",
   "name": "conda-root-py"
  },
  "language_info": {
   "codemirror_mode": {
    "name": "ipython",
    "version": 2
   },
   "file_extension": ".py",
   "mimetype": "text/x-python",
   "name": "python",
   "nbconvert_exporter": "python",
   "pygments_lexer": "ipython2",
   "version": "2.7.12"
  }
 },
 "nbformat": 4,
 "nbformat_minor": 1
}
