{
 "cells": [
  {
   "cell_type": "markdown",
   "metadata": {},
   "source": [
    "# Project 4\n",
    "\n",
    "In this project, you will summarize and present your analysis from Projects 1-3."
   ]
  },
  {
   "cell_type": "markdown",
   "metadata": {},
   "source": [
    "### Intro: Write a problem Statement/ Specific Aim for this project"
   ]
  },
  {
   "cell_type": "markdown",
   "metadata": {},
   "source": [
    "Answer: Determine how gre scores, gpa's, and the rank of undergrad university impact of being accepted to graduate school."
   ]
  },
  {
   "cell_type": "markdown",
   "metadata": {},
   "source": [
    "### Dataset:  Write up a description of your data and any cleaning that was completed"
   ]
  },
  {
   "cell_type": "markdown",
   "metadata": {},
   "source": [
    "Answer: \n",
    "\n",
    "+ There were 400 values for 'admit' but only 398 for gre and gpa. Null values needed to be dropped.\n",
    "\n",
    "+ One column was named 'Rank' and this needed to be changed because pandas already uses 'rank' as a keyword. 'Rank' was renamed to 'prestige'.\n",
    "\n",
    "+ Dummy variables needed to be created for 'prestige'.\n",
    "\n",
    "+ Drop 'prestige_1' during modeling; 'prestige_1' used as benchmark"
   ]
  },
  {
   "cell_type": "markdown",
   "metadata": {
    "collapsed": true
   },
   "source": [
    "### Demo: Provide a table that explains the data by admission status"
   ]
  },
  {
   "cell_type": "markdown",
   "metadata": {},
   "source": [
    "Mean (STD) or counts by admission status for each variable \n",
    "\n",
    "| Not Admitted | Admitted\n",
    "---| ---|---\n",
    "GPA | mean(std)  | mean(std)\n",
    "GRE |mean(std) | mean(std)\n",
    "Prestige 1 | frequency (%) | frequency (%)\n",
    "Prestige 2 | frequency (%) | frequency (%)\n",
    "Prestige 3 |frequency (%) | frequency (%)\n",
    "Prestige 4 |frequency (%) | frequency (%)"
   ]
  },
  {
   "cell_type": "markdown",
   "metadata": {},
   "source": [
    "### Methods: Write up the methods used in your analysis"
   ]
  },
  {
   "cell_type": "markdown",
   "metadata": {},
   "source": [
    "Answer:"
   ]
  },
  {
   "cell_type": "markdown",
   "metadata": {},
   "source": [
    "### Results: Write up your results"
   ]
  },
  {
   "cell_type": "markdown",
   "metadata": {},
   "source": [
    "Answer:\n",
    "\n",
    "+ Students with 4 or higher gpa are more than twice as likely to be accepted to grad school than students with 1 point gpa\n",
    "\n",
    "+ Students attending Prestige 1 school have 91% chance of being accepted, while students attending Prestige 4 school have only 19% chance of being accepted."
   ]
  },
  {
   "cell_type": "markdown",
   "metadata": {},
   "source": [
    "### Visuals: Provide a table or visualization of these results"
   ]
  },
  {
   "cell_type": "markdown",
   "metadata": {},
   "source": [
    "                2.5%     97.5%        OR\n",
    "gre         1.000120  1.004418  1.002267\n",
    "gpa         1.166122  4.281877  2.234545\n",
    "prestige_1       NaN       NaN  0.918904\n",
    "prestige_2       NaN       NaN  0.467659\n",
    "prestige_3       NaN       NaN  0.240562\n",
    "prestige_4       NaN       NaN  0.194750\n",
    "intercept        NaN       NaN  0.020133"
   ]
  },
  {
   "cell_type": "markdown",
   "metadata": {},
   "source": [
    "                           Logit Regression Results                           \n",
    "==============================================================================\n",
    "Dep. Variable:                  admit   No. Observations:                  400\n",
    "Model:                          Logit   Df Residuals:                      394\n",
    "Method:                           MLE   Df Model:                            5\n",
    "Date:                Fri, 20 Jan 2017   Pseudo R-squ.:                 0.08292\n",
    "Time:                        11:40:58   Log-Likelihood:                -229.26\n",
    "converged:                       True   LL-Null:                       -249.99\n",
    "                                        LLR p-value:                 7.578e-08\n",
    "==============================================================================\n",
    "                 coef    std err          z      P>|z|      [95.0% Conf. Int.]\n",
    "------------------------------------------------------------------------------\n",
    "gre            0.0023      0.001      2.070      0.038         0.000     0.004\n",
    "gpa            0.8040      0.332      2.423      0.015         0.154     1.454\n",
    "prestige_1    -0.0846        nan        nan        nan           nan       nan\n",
    "prestige_2    -0.7600        nan        nan        nan           nan       nan\n",
    "prestige_3    -1.4248        nan        nan        nan           nan       nan\n",
    "prestige_4    -1.6360        nan        nan        nan           nan       nan\n",
    "intercept     -3.9054        nan        nan        nan           nan       nan\n",
    "=============================================================================="
   ]
  },
  {
   "cell_type": "markdown",
   "metadata": {},
   "source": [
    "gre    220  300  340  360  380  400  420  440  460  480 ...   620  640  660  \\\n",
    "admit                                                   ...                   \n",
    "0        1    2    3    4    8    9    7    8   10   10 ...    18   16   12   \n",
    "1        0    1    1    0    0    2    0    2    4    6 ...    12    5   12   \n",
    "\n",
    "gre    680  700  720  740  760  780  800  \n",
    "admit                                     \n",
    "0       11   17    8    7    1    1   14  \n",
    "1        9    5    3    4    4    4   11 "
   ]
  },
  {
   "cell_type": "markdown",
   "metadata": {},
   "source": []
  },
  {
   "cell_type": "markdown",
   "metadata": {},
   "source": [
    "### Discussion: Write up your discussion and future steps"
   ]
  },
  {
   "cell_type": "markdown",
   "metadata": {},
   "source": [
    "Answer: "
   ]
  }
 ],
 "metadata": {
  "anaconda-cloud": {},
  "kernelspec": {
   "display_name": "Python [default]",
   "language": "python",
   "name": "python2"
  },
  "language_info": {
   "codemirror_mode": {
    "name": "ipython",
    "version": 2
   },
   "file_extension": ".py",
   "mimetype": "text/x-python",
   "name": "python",
   "nbconvert_exporter": "python",
   "pygments_lexer": "ipython2",
   "version": "2.7.12"
  }
 },
 "nbformat": 4,
 "nbformat_minor": 0
}
