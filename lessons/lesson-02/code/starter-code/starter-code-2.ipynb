{
 "cells": [
  {
   "cell_type": "markdown",
   "metadata": {},
   "source": [
    "# Lesson 2 Lab:  Practical Pandas"
   ]
  },
  {
   "cell_type": "markdown",
   "metadata": {},
   "source": [
    "_This is a quiz given in Roger Peng's [Coursera](https://www.coursera.org) class [Computing for Data Analysis](https://www.coursera.org/course/compdata).  _\n",
    "\n",
    "_Sourced from [Research Computing MeetUp's](https://github.com/ResearchComputing/Meetup-Fall-2013) Python course._\n"
   ]
  },
  {
   "cell_type": "code",
   "execution_count": 3,
   "metadata": {
    "collapsed": false
   },
   "outputs": [],
   "source": [
    "import pandas as pd\n",
    "import os\n",
    "\n",
    "data = pd.read_csv(os.path.join('..', '..', 'assets', 'dataset', 'ozone.csv'))\n",
    "\n",
    "import pandas as pd\n",
    "import os\n"
   ]
  },
  {
   "cell_type": "code",
   "execution_count": 4,
   "metadata": {
    "collapsed": false
   },
   "outputs": [
    {
     "name": "stdout",
     "output_type": "stream",
     "text": [
      "   Ozone  Solar.R  Wind  Temp  Month  Day\n",
      "0   41.0    190.0   7.4    67      5    1\n",
      "1   36.0    118.0   8.0    72      5    2\n",
      "2   12.0    149.0  12.6    74      5    3\n",
      "3   18.0    313.0  11.5    62      5    4\n",
      "4    NaN      NaN  14.3    56      5    5\n"
     ]
    }
   ],
   "source": [
    "print data.head()"
   ]
  },
  {
   "cell_type": "markdown",
   "metadata": {},
   "source": [
    "Print the column names of the dataset to the screen, one column name per line.  "
   ]
  },
  {
   "cell_type": "code",
   "execution_count": 5,
   "metadata": {
    "collapsed": false
   },
   "outputs": [
    {
     "name": "stdout",
     "output_type": "stream",
     "text": [
      "Index([u'Ozone', u'Solar.R', u'Wind', u'Temp', u'Month', u'Day'], dtype='object')\n"
     ]
    }
   ],
   "source": [
    "print data.columns\n"
   ]
  },
  {
   "cell_type": "markdown",
   "metadata": {},
   "source": [
    "Extract the first 2 rows of the data frame and print them to the console. What does the output\n",
    "look like?"
   ]
  },
  {
   "cell_type": "code",
   "execution_count": 6,
   "metadata": {
    "collapsed": false
   },
   "outputs": [
    {
     "name": "stdout",
     "output_type": "stream",
     "text": [
      "   Ozone  Solar.R  Wind  Temp  Month  Day\n",
      "0   41.0    190.0   7.4    67      5    1\n",
      "1   36.0    118.0   8.0    72      5    2\n"
     ]
    }
   ],
   "source": [
    "print data[0:2]"
   ]
  },
  {
   "cell_type": "markdown",
   "metadata": {},
   "source": [
    "How many observations (i.e. rows) are in this data frame?"
   ]
  },
  {
   "cell_type": "code",
   "execution_count": 13,
   "metadata": {
    "collapsed": false
   },
   "outputs": [
    {
     "name": "stdout",
     "output_type": "stream",
     "text": [
      "     Ozone  Solar.R  Wind  Temp  Month  Day\n",
      "0     41.0    190.0   7.4    67      5    1\n",
      "1     36.0    118.0   8.0    72      5    2\n",
      "2     12.0    149.0  12.6    74      5    3\n",
      "3     18.0    313.0  11.5    62      5    4\n",
      "4      NaN      NaN  14.3    56      5    5\n",
      "5     28.0      NaN  14.9    66      5    6\n",
      "6     23.0    299.0   8.6    65      5    7\n",
      "7     19.0     99.0  13.8    59      5    8\n",
      "8      8.0     19.0  20.1    61      5    9\n",
      "9      NaN    194.0   8.6    69      5   10\n",
      "10     7.0      NaN   6.9    74      5   11\n",
      "11    16.0    256.0   9.7    69      5   12\n",
      "12    11.0    290.0   9.2    66      5   13\n",
      "13    14.0    274.0  10.9    68      5   14\n",
      "14    18.0     65.0  13.2    58      5   15\n",
      "15    14.0    334.0  11.5    64      5   16\n",
      "16    34.0    307.0  12.0    66      5   17\n",
      "17     6.0     78.0  18.4    57      5   18\n",
      "18    30.0    322.0  11.5    68      5   19\n",
      "19    11.0     44.0   9.7    62      5   20\n",
      "20     1.0      8.0   9.7    59      5   21\n",
      "21    11.0    320.0  16.6    73      5   22\n",
      "22     4.0     25.0   9.7    61      5   23\n",
      "23    32.0     92.0  12.0    61      5   24\n",
      "24     NaN     66.0  16.6    57      5   25\n",
      "25     NaN    266.0  14.9    58      5   26\n",
      "26     NaN      NaN   8.0    57      5   27\n",
      "27    23.0     13.0  12.0    67      5   28\n",
      "28    45.0    252.0  14.9    81      5   29\n",
      "29   115.0    223.0   5.7    79      5   30\n",
      "..     ...      ...   ...   ...    ...  ...\n",
      "123   96.0    167.0   6.9    91      9    1\n",
      "124   78.0    197.0   5.1    92      9    2\n",
      "125   73.0    183.0   2.8    93      9    3\n",
      "126   91.0    189.0   4.6    93      9    4\n",
      "127   47.0     95.0   7.4    87      9    5\n",
      "128   32.0     92.0  15.5    84      9    6\n",
      "129   20.0    252.0  10.9    80      9    7\n",
      "130   23.0    220.0  10.3    78      9    8\n",
      "131   21.0    230.0  10.9    75      9    9\n",
      "132   24.0    259.0   9.7    73      9   10\n",
      "133   44.0    236.0  14.9    81      9   11\n",
      "134   21.0    259.0  15.5    76      9   12\n",
      "135   28.0    238.0   6.3    77      9   13\n",
      "136    9.0     24.0  10.9    71      9   14\n",
      "137   13.0    112.0  11.5    71      9   15\n",
      "138   46.0    237.0   6.9    78      9   16\n",
      "139   18.0    224.0  13.8    67      9   17\n",
      "140   13.0     27.0  10.3    76      9   18\n",
      "141   24.0    238.0  10.3    68      9   19\n",
      "142   16.0    201.0   8.0    82      9   20\n",
      "143   13.0    238.0  12.6    64      9   21\n",
      "144   23.0     14.0   9.2    71      9   22\n",
      "145   36.0    139.0  10.3    81      9   23\n",
      "146    7.0     49.0  10.3    69      9   24\n",
      "147   14.0     20.0  16.6    63      9   25\n",
      "148   30.0    193.0   6.9    70      9   26\n",
      "149    NaN    145.0  13.2    77      9   27\n",
      "150   14.0    191.0  14.3    75      9   28\n",
      "151   18.0    131.0   8.0    76      9   29\n",
      "152   20.0    223.0  11.5    68      9   30\n",
      "\n",
      "[153 rows x 6 columns]\n"
     ]
    }
   ],
   "source": [
    "print data.loc[ : ]"
   ]
  },
  {
   "cell_type": "markdown",
   "metadata": {},
   "source": [
    "Extract the last 2 rows of the data frame and print them to the console. What does the output\n",
    "look like?"
   ]
  },
  {
   "cell_type": "code",
   "execution_count": 15,
   "metadata": {
    "collapsed": false
   },
   "outputs": [
    {
     "data": {
      "text/html": [
       "<div>\n",
       "<table border=\"1\" class=\"dataframe\">\n",
       "  <thead>\n",
       "    <tr style=\"text-align: right;\">\n",
       "      <th></th>\n",
       "      <th>Ozone</th>\n",
       "      <th>Solar.R</th>\n",
       "      <th>Wind</th>\n",
       "      <th>Temp</th>\n",
       "      <th>Month</th>\n",
       "      <th>Day</th>\n",
       "    </tr>\n",
       "  </thead>\n",
       "  <tbody>\n",
       "    <tr>\n",
       "      <th>151</th>\n",
       "      <td>18.0</td>\n",
       "      <td>131.0</td>\n",
       "      <td>8.0</td>\n",
       "      <td>76</td>\n",
       "      <td>9</td>\n",
       "      <td>29</td>\n",
       "    </tr>\n",
       "    <tr>\n",
       "      <th>152</th>\n",
       "      <td>20.0</td>\n",
       "      <td>223.0</td>\n",
       "      <td>11.5</td>\n",
       "      <td>68</td>\n",
       "      <td>9</td>\n",
       "      <td>30</td>\n",
       "    </tr>\n",
       "  </tbody>\n",
       "</table>\n",
       "</div>"
      ],
      "text/plain": [
       "     Ozone  Solar.R  Wind  Temp  Month  Day\n",
       "151   18.0    131.0   8.0    76      9   29\n",
       "152   20.0    223.0  11.5    68      9   30"
      ]
     },
     "execution_count": 15,
     "metadata": {},
     "output_type": "execute_result"
    }
   ],
   "source": [
    "data[151:153]"
   ]
  },
  {
   "cell_type": "markdown",
   "metadata": {},
   "source": [
    "What is the value of Ozone in the 47th row?"
   ]
  },
  {
   "cell_type": "code",
   "execution_count": 23,
   "metadata": {
    "collapsed": false
   },
   "outputs": [
    {
     "data": {
      "text/plain": [
       "Ozone    37.0\n",
       "Name: 47, dtype: float64"
      ]
     },
     "execution_count": 23,
     "metadata": {},
     "output_type": "execute_result"
    }
   ],
   "source": [
    "data.loc[47, ['Ozone']]\n",
    "\n",
    "     "
   ]
  },
  {
   "cell_type": "markdown",
   "metadata": {},
   "source": [
    "How many missing values are in the Ozone column of this data frame?"
   ]
  },
  {
   "cell_type": "code",
   "execution_count": 52,
   "metadata": {
    "collapsed": false
   },
   "outputs": [
    {
     "data": {
      "text/plain": [
       "37"
      ]
     },
     "execution_count": 52,
     "metadata": {},
     "output_type": "execute_result"
    }
   ],
   "source": [
    "pd.isnull(data [\"Ozone\"]).sum() \n"
   ]
  },
  {
   "cell_type": "markdown",
   "metadata": {},
   "source": [
    "What is the mean of the Ozone column in this dataset? Exclude missing values (coded as NA)\n",
    "from this calculation."
   ]
  },
  {
   "cell_type": "code",
   "execution_count": 30,
   "metadata": {
    "collapsed": false
   },
   "outputs": [
    {
     "data": {
      "text/plain": [
       "Ozone       42.129310\n",
       "Solar.R    185.931507\n",
       "Wind         9.957516\n",
       "Temp        77.882353\n",
       "Month        6.993464\n",
       "Day         15.803922\n",
       "dtype: float64"
      ]
     },
     "execution_count": 30,
     "metadata": {},
     "output_type": "execute_result"
    }
   ],
   "source": [
    "data.mean()"
   ]
  },
  {
   "cell_type": "markdown",
   "metadata": {},
   "source": [
    "Extract the subset of rows of the data frame where Ozone values are above 31 and Temp values\n",
    "are above 90. What is the mean of Solar.R in this subset?"
   ]
  },
  {
   "cell_type": "code",
   "execution_count": 90,
   "metadata": {
    "collapsed": false
   },
   "outputs": [
    {
     "name": "stdout",
     "output_type": "stream",
     "text": [
      "     Ozone  Solar.R  Wind  Temp  Month  Day\n",
      "68    97.0    267.0   6.3    92      7    8\n",
      "69    97.0    272.0   5.7    92      7    9\n",
      "119   76.0    203.0   9.7    97      8   28\n",
      "120  118.0    225.0   2.3    94      8   29\n",
      "121   84.0    237.0   6.3    96      8   30\n",
      "122   85.0    188.0   6.3    94      8   31\n",
      "123   96.0    167.0   6.9    91      9    1\n",
      "124   78.0    197.0   5.1    92      9    2\n",
      "125   73.0    183.0   2.8    93      9    3\n",
      "126   91.0    189.0   4.6    93      9    4\n"
     ]
    },
    {
     "ename": "ValueError",
     "evalue": "No axis named Solar.R for object type <class 'pandas.core.frame.DataFrame'>",
     "output_type": "error",
     "traceback": [
      "\u001b[0;31m---------------------------------------------------------------------------\u001b[0m",
      "\u001b[0;31mValueError\u001b[0m                                Traceback (most recent call last)",
      "\u001b[0;32m<ipython-input-90-c45cb7614d99>\u001b[0m in \u001b[0;36m<module>\u001b[0;34m()\u001b[0m\n\u001b[1;32m      3\u001b[0m \u001b[0;32mprint\u001b[0m \u001b[0mdata100\u001b[0m\u001b[0;34m\u001b[0m\u001b[0m\n\u001b[1;32m      4\u001b[0m \u001b[0;34m\u001b[0m\u001b[0m\n\u001b[0;32m----> 5\u001b[0;31m \u001b[0;32mprint\u001b[0m \u001b[0mdata100\u001b[0m\u001b[0;34m.\u001b[0m\u001b[0mmean\u001b[0m\u001b[0;34m(\u001b[0m\u001b[0;34m'Solar.R'\u001b[0m\u001b[0;34m)\u001b[0m\u001b[0;34m\u001b[0m\u001b[0m\n\u001b[0m",
      "\u001b[0;32m/Users/krys/anaconda2/lib/python2.7/site-packages/pandas/core/generic.pyc\u001b[0m in \u001b[0;36mstat_func\u001b[0;34m(self, axis, skipna, level, numeric_only, **kwargs)\u001b[0m\n\u001b[1;32m   5308\u001b[0m                                       skipna=skipna)\n\u001b[1;32m   5309\u001b[0m         return self._reduce(f, name, axis=axis, skipna=skipna,\n\u001b[0;32m-> 5310\u001b[0;31m                             numeric_only=numeric_only)\n\u001b[0m\u001b[1;32m   5311\u001b[0m \u001b[0;34m\u001b[0m\u001b[0m\n\u001b[1;32m   5312\u001b[0m     \u001b[0;32mreturn\u001b[0m \u001b[0mset_function_name\u001b[0m\u001b[0;34m(\u001b[0m\u001b[0mstat_func\u001b[0m\u001b[0;34m,\u001b[0m \u001b[0mname\u001b[0m\u001b[0;34m,\u001b[0m \u001b[0mcls\u001b[0m\u001b[0;34m)\u001b[0m\u001b[0;34m\u001b[0m\u001b[0m\n",
      "\u001b[0;32m/Users/krys/anaconda2/lib/python2.7/site-packages/pandas/core/frame.pyc\u001b[0m in \u001b[0;36m_reduce\u001b[0;34m(self, op, name, axis, skipna, numeric_only, filter_type, **kwds)\u001b[0m\n\u001b[1;32m   4758\u001b[0m     def _reduce(self, op, name, axis=0, skipna=True, numeric_only=None,\n\u001b[1;32m   4759\u001b[0m                 filter_type=None, **kwds):\n\u001b[0;32m-> 4760\u001b[0;31m         \u001b[0maxis\u001b[0m \u001b[0;34m=\u001b[0m \u001b[0mself\u001b[0m\u001b[0;34m.\u001b[0m\u001b[0m_get_axis_number\u001b[0m\u001b[0;34m(\u001b[0m\u001b[0maxis\u001b[0m\u001b[0;34m)\u001b[0m\u001b[0;34m\u001b[0m\u001b[0m\n\u001b[0m\u001b[1;32m   4761\u001b[0m \u001b[0;34m\u001b[0m\u001b[0m\n\u001b[1;32m   4762\u001b[0m         \u001b[0;32mdef\u001b[0m \u001b[0mf\u001b[0m\u001b[0;34m(\u001b[0m\u001b[0mx\u001b[0m\u001b[0;34m)\u001b[0m\u001b[0;34m:\u001b[0m\u001b[0;34m\u001b[0m\u001b[0m\n",
      "\u001b[0;32m/Users/krys/anaconda2/lib/python2.7/site-packages/pandas/core/generic.pyc\u001b[0m in \u001b[0;36m_get_axis_number\u001b[0;34m(self, axis)\u001b[0m\n\u001b[1;32m    316\u001b[0m                 \u001b[0;32mpass\u001b[0m\u001b[0;34m\u001b[0m\u001b[0m\n\u001b[1;32m    317\u001b[0m         raise ValueError('No axis named {0} for object type {1}'\n\u001b[0;32m--> 318\u001b[0;31m                          .format(axis, type(self)))\n\u001b[0m\u001b[1;32m    319\u001b[0m \u001b[0;34m\u001b[0m\u001b[0m\n\u001b[1;32m    320\u001b[0m     \u001b[0;32mdef\u001b[0m \u001b[0m_get_axis_name\u001b[0m\u001b[0;34m(\u001b[0m\u001b[0mself\u001b[0m\u001b[0;34m,\u001b[0m \u001b[0maxis\u001b[0m\u001b[0;34m)\u001b[0m\u001b[0;34m:\u001b[0m\u001b[0;34m\u001b[0m\u001b[0m\n",
      "\u001b[0;31mValueError\u001b[0m: No axis named Solar.R for object type <class 'pandas.core.frame.DataFrame'>"
     ]
    }
   ],
   "source": [
    "data100 = data[(data['Ozone'] > 31) & (data['Temp'] > 90)]\n",
    "\n",
    "print data100\n",
    "\n",
    "print data100.mean('Solar.R') # Dan - I think you are able to see how many tries I did for this.\n",
    "# I worked on it for an hour and could not figure out how to get the mean of Solar.R.\n"
   ]
  },
  {
   "cell_type": "markdown",
   "metadata": {},
   "source": [
    "What is the mean of \"Temp\" when \"Month\" is equal to 6?"
   ]
  },
  {
   "cell_type": "code",
   "execution_count": 107,
   "metadata": {
    "collapsed": false
   },
   "outputs": [
    {
     "name": "stdout",
     "output_type": "stream",
     "text": [
      "    Ozone  Solar.R  Wind  Temp  Month  Day\n",
      "31    NaN    286.0   8.6    78      6    1\n",
      "32    NaN    287.0   9.7    74      6    2\n",
      "33    NaN    242.0  16.1    67      6    3\n",
      "34    NaN    186.0   9.2    84      6    4\n",
      "35    NaN    220.0   8.6    85      6    5\n",
      "36    NaN    264.0  14.3    79      6    6\n",
      "37   29.0    127.0   9.7    82      6    7\n",
      "38    NaN    273.0   6.9    87      6    8\n",
      "39   71.0    291.0  13.8    90      6    9\n",
      "40   39.0    323.0  11.5    87      6   10\n",
      "41    NaN    259.0  10.9    93      6   11\n",
      "42    NaN    250.0   9.2    92      6   12\n",
      "43   23.0    148.0   8.0    82      6   13\n",
      "44    NaN    332.0  13.8    80      6   14\n",
      "45    NaN    322.0  11.5    79      6   15\n",
      "46   21.0    191.0  14.9    77      6   16\n",
      "47   37.0    284.0  20.7    72      6   17\n",
      "48   20.0     37.0   9.2    65      6   18\n",
      "49   12.0    120.0  11.5    73      6   19\n",
      "50   13.0    137.0  10.3    76      6   20\n",
      "51    NaN    150.0   6.3    77      6   21\n",
      "52    NaN     59.0   1.7    76      6   22\n",
      "53    NaN     91.0   4.6    76      6   23\n",
      "54    NaN    250.0   6.3    76      6   24\n",
      "55    NaN    135.0   8.0    75      6   25\n",
      "56    NaN    127.0   8.0    78      6   26\n",
      "57    NaN     47.0  10.3    73      6   27\n",
      "58    NaN     98.0  11.5    80      6   28\n",
      "59    NaN     31.0  14.9    77      6   29\n",
      "60    NaN    138.0   8.0    83      6   30\n"
     ]
    },
    {
     "data": {
      "text/plain": [
       "Ozone       29.444444\n",
       "Solar.R    190.166667\n",
       "Wind        10.266667\n",
       "Temp        79.100000\n",
       "Month        6.000000\n",
       "Day         15.500000\n",
       "dtype: float64"
      ]
     },
     "execution_count": 107,
     "metadata": {},
     "output_type": "execute_result"
    }
   ],
   "source": [
    "data200 = data[data.Month == 6]\n",
    "print data200\n",
    "\n",
    "data200.mean()"
   ]
  },
  {
   "cell_type": "markdown",
   "metadata": {},
   "source": [
    "What was the maximum ozone value in the month of May (i.e. Month = 5)?"
   ]
  },
  {
   "cell_type": "code",
   "execution_count": 112,
   "metadata": {
    "collapsed": false
   },
   "outputs": [
    {
     "name": "stdout",
     "output_type": "stream",
     "text": [
      "    Ozone  Solar.R  Wind  Temp  Month  Day\n",
      "0    41.0    190.0   7.4    67      5    1\n",
      "1    36.0    118.0   8.0    72      5    2\n",
      "2    12.0    149.0  12.6    74      5    3\n",
      "3    18.0    313.0  11.5    62      5    4\n",
      "4     NaN      NaN  14.3    56      5    5\n",
      "5    28.0      NaN  14.9    66      5    6\n",
      "6    23.0    299.0   8.6    65      5    7\n",
      "7    19.0     99.0  13.8    59      5    8\n",
      "8     8.0     19.0  20.1    61      5    9\n",
      "9     NaN    194.0   8.6    69      5   10\n",
      "10    7.0      NaN   6.9    74      5   11\n",
      "11   16.0    256.0   9.7    69      5   12\n",
      "12   11.0    290.0   9.2    66      5   13\n",
      "13   14.0    274.0  10.9    68      5   14\n",
      "14   18.0     65.0  13.2    58      5   15\n",
      "15   14.0    334.0  11.5    64      5   16\n",
      "16   34.0    307.0  12.0    66      5   17\n",
      "17    6.0     78.0  18.4    57      5   18\n",
      "18   30.0    322.0  11.5    68      5   19\n",
      "19   11.0     44.0   9.7    62      5   20\n",
      "20    1.0      8.0   9.7    59      5   21\n",
      "21   11.0    320.0  16.6    73      5   22\n",
      "22    4.0     25.0   9.7    61      5   23\n",
      "23   32.0     92.0  12.0    61      5   24\n",
      "24    NaN     66.0  16.6    57      5   25\n",
      "25    NaN    266.0  14.9    58      5   26\n",
      "26    NaN      NaN   8.0    57      5   27\n",
      "27   23.0     13.0  12.0    67      5   28\n",
      "28   45.0    252.0  14.9    81      5   29\n",
      "29  115.0    223.0   5.7    79      5   30\n",
      "30   37.0    279.0   7.4    76      5   31\n"
     ]
    },
    {
     "data": {
      "text/plain": [
       "Ozone      115.0\n",
       "Solar.R    334.0\n",
       "Wind        20.1\n",
       "Temp        81.0\n",
       "Month        5.0\n",
       "Day         31.0\n",
       "dtype: float64"
      ]
     },
     "execution_count": 112,
     "metadata": {},
     "output_type": "execute_result"
    }
   ],
   "source": [
    "data300 = data[data.Month == 5]\n",
    "print data300\n",
    "\n",
    "data300.max()"
   ]
  },
  {
   "cell_type": "markdown",
   "metadata": {},
   "source": [
    "# Next Steps\n",
    "\n",
    "**Recommended Resources**\n",
    "\n",
    "Name | Description\n",
    "--- | ---\n",
    "[Official Pandas Tutorials](http://pandas.pydata.org/pandas-docs/stable/tutorials.html) | Wes & Company's selection of tutorials and lectures\n",
    "[Julia Evans Pandas Cookbook](https://github.com/jvns/pandas-cookbook) | Great resource with eamples from weather, bikes and 311 calls\n",
    "[Learn Pandas Tutorials](https://bitbucket.org/hrojas/learn-pandas) | A great series of Pandas tutorials from Dave Rojas\n",
    "[Research Computing Python Data PYNBs](https://github.com/ResearchComputing/Meetup-Fall-2013/tree/master/python) | A super awesome set of python notebooks from a meetup-based course exclusively devoted to pandas"
   ]
  }
 ],
 "metadata": {
  "anaconda-cloud": {},
  "kernelspec": {
   "display_name": "Python [default]",
   "language": "python",
   "name": "python2"
  },
  "language_info": {
   "codemirror_mode": {
    "name": "ipython",
    "version": 2
   },
   "file_extension": ".py",
   "mimetype": "text/x-python",
   "name": "python",
   "nbconvert_exporter": "python",
   "pygments_lexer": "ipython2",
   "version": "2.7.12"
  }
 },
 "nbformat": 4,
 "nbformat_minor": 0
}
