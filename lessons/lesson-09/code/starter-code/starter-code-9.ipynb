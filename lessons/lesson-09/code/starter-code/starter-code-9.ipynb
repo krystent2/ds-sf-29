{
 "cells": [
  {
   "cell_type": "markdown",
   "metadata": {},
   "source": [
    "### Guided Practice: Logit Function and Odds"
   ]
  },
  {
   "cell_type": "code",
   "execution_count": 1,
   "metadata": {
    "collapsed": true
   },
   "outputs": [],
   "source": [
    "def logit_func(odds):\n",
    "    # uses a float (odds) and returns back the log odds (logit)\n",
    "    return None\n",
    "\n",
    "def sigmoid_func(logit):\n",
    "    # uses a float (logit) and returns back the probability\n",
    "    return None\n",
    "\n",
    "odds_set = [\n",
    "    5./1,\n",
    "    20./1,\n",
    "    1.1/1,\n",
    "    1.8/1,\n",
    "    1.6/1\n",
    "]"
   ]
  },
  {
   "cell_type": "code",
<<<<<<< HEAD
   "execution_count": 2,
=======
   "execution_count": 24,
>>>>>>> 7f86e45cb4beee57ae36f2ea9cc7a5c17929745f
   "metadata": {
    "collapsed": true
   },
   "outputs": [],
   "source": [
    "import pandas as pd\n",
    "from sklearn.linear_model import LogisticRegression"
   ]
  },
  {
   "cell_type": "code",
<<<<<<< HEAD
   "execution_count": 4,
=======
   "execution_count": 25,
>>>>>>> 7f86e45cb4beee57ae36f2ea9cc7a5c17929745f
   "metadata": {
    "collapsed": false
   },
   "outputs": [],
   "source": [
    "lm = LogisticRegression()\n",
    "\n",
    "df = pd.read_csv('../../assets/dataset/collegeadmissions.csv')"
   ]
  },
  {
   "cell_type": "code",
<<<<<<< HEAD
   "execution_count": 5,
=======
   "execution_count": 26,
>>>>>>> 7f86e45cb4beee57ae36f2ea9cc7a5c17929745f
   "metadata": {
    "collapsed": false
   },
   "outputs": [
    {
     "data": {
      "text/html": [
       "<div>\n",
       "<table border=\"1\" class=\"dataframe\">\n",
       "  <thead>\n",
       "    <tr style=\"text-align: right;\">\n",
       "      <th></th>\n",
       "      <th>admit</th>\n",
       "      <th>gre</th>\n",
       "      <th>gpa</th>\n",
       "      <th>rank</th>\n",
       "    </tr>\n",
       "  </thead>\n",
       "  <tbody>\n",
       "    <tr>\n",
       "      <th>0</th>\n",
       "      <td>0</td>\n",
       "      <td>380</td>\n",
       "      <td>3.61</td>\n",
       "      <td>3</td>\n",
       "    </tr>\n",
       "    <tr>\n",
       "      <th>1</th>\n",
       "      <td>1</td>\n",
       "      <td>660</td>\n",
       "      <td>3.67</td>\n",
       "      <td>3</td>\n",
       "    </tr>\n",
       "    <tr>\n",
       "      <th>2</th>\n",
       "      <td>1</td>\n",
       "      <td>800</td>\n",
       "      <td>4.00</td>\n",
       "      <td>1</td>\n",
       "    </tr>\n",
       "    <tr>\n",
       "      <th>3</th>\n",
       "      <td>1</td>\n",
       "      <td>640</td>\n",
       "      <td>3.19</td>\n",
       "      <td>4</td>\n",
       "    </tr>\n",
       "    <tr>\n",
       "      <th>4</th>\n",
       "      <td>0</td>\n",
       "      <td>520</td>\n",
       "      <td>2.93</td>\n",
       "      <td>4</td>\n",
       "    </tr>\n",
       "  </tbody>\n",
       "</table>\n",
       "</div>"
      ],
      "text/plain": [
       "   admit  gre   gpa  rank\n",
       "0      0  380  3.61     3\n",
       "1      1  660  3.67     3\n",
       "2      1  800  4.00     1\n",
       "3      1  640  3.19     4\n",
       "4      0  520  2.93     4"
      ]
     },
<<<<<<< HEAD
     "execution_count": 5,
=======
     "execution_count": 26,
>>>>>>> 7f86e45cb4beee57ae36f2ea9cc7a5c17929745f
     "metadata": {},
     "output_type": "execute_result"
    }
   ],
   "source": [
    "df.head()"
   ]
  },
  {
   "cell_type": "code",
<<<<<<< HEAD
   "execution_count": 6,
=======
   "execution_count": 27,
>>>>>>> 7f86e45cb4beee57ae36f2ea9cc7a5c17929745f
   "metadata": {
    "collapsed": false
   },
   "outputs": [],
   "source": [
    "df = df.join(pd.get_dummies(df['rank']))"
   ]
  },
  {
   "cell_type": "code",
<<<<<<< HEAD
   "execution_count": 7,
=======
   "execution_count": 28,
>>>>>>> 7f86e45cb4beee57ae36f2ea9cc7a5c17929745f
   "metadata": {
    "collapsed": false
   },
   "outputs": [
    {
     "data": {
      "text/html": [
       "<div>\n",
       "<table border=\"1\" class=\"dataframe\">\n",
       "  <thead>\n",
       "    <tr style=\"text-align: right;\">\n",
       "      <th></th>\n",
       "      <th>admit</th>\n",
       "      <th>gre</th>\n",
       "      <th>gpa</th>\n",
       "      <th>rank</th>\n",
       "      <th>1</th>\n",
       "      <th>2</th>\n",
       "      <th>3</th>\n",
       "      <th>4</th>\n",
       "    </tr>\n",
       "  </thead>\n",
       "  <tbody>\n",
       "    <tr>\n",
       "      <th>0</th>\n",
       "      <td>0</td>\n",
       "      <td>380</td>\n",
       "      <td>3.61</td>\n",
       "      <td>3</td>\n",
       "      <td>0.0</td>\n",
       "      <td>0.0</td>\n",
       "      <td>1.0</td>\n",
       "      <td>0.0</td>\n",
       "    </tr>\n",
       "    <tr>\n",
       "      <th>1</th>\n",
       "      <td>1</td>\n",
       "      <td>660</td>\n",
       "      <td>3.67</td>\n",
       "      <td>3</td>\n",
       "      <td>0.0</td>\n",
       "      <td>0.0</td>\n",
       "      <td>1.0</td>\n",
       "      <td>0.0</td>\n",
       "    </tr>\n",
       "    <tr>\n",
       "      <th>2</th>\n",
       "      <td>1</td>\n",
       "      <td>800</td>\n",
       "      <td>4.00</td>\n",
       "      <td>1</td>\n",
       "      <td>1.0</td>\n",
       "      <td>0.0</td>\n",
       "      <td>0.0</td>\n",
       "      <td>0.0</td>\n",
       "    </tr>\n",
       "    <tr>\n",
       "      <th>3</th>\n",
       "      <td>1</td>\n",
       "      <td>640</td>\n",
       "      <td>3.19</td>\n",
       "      <td>4</td>\n",
       "      <td>0.0</td>\n",
       "      <td>0.0</td>\n",
       "      <td>0.0</td>\n",
       "      <td>1.0</td>\n",
       "    </tr>\n",
       "    <tr>\n",
       "      <th>4</th>\n",
       "      <td>0</td>\n",
       "      <td>520</td>\n",
       "      <td>2.93</td>\n",
       "      <td>4</td>\n",
       "      <td>0.0</td>\n",
       "      <td>0.0</td>\n",
       "      <td>0.0</td>\n",
       "      <td>1.0</td>\n",
       "    </tr>\n",
       "  </tbody>\n",
       "</table>\n",
       "</div>"
      ],
      "text/plain": [
       "   admit  gre   gpa  rank    1    2    3    4\n",
       "0      0  380  3.61     3  0.0  0.0  1.0  0.0\n",
       "1      1  660  3.67     3  0.0  0.0  1.0  0.0\n",
       "2      1  800  4.00     1  1.0  0.0  0.0  0.0\n",
       "3      1  640  3.19     4  0.0  0.0  0.0  1.0\n",
       "4      0  520  2.93     4  0.0  0.0  0.0  1.0"
      ]
     },
<<<<<<< HEAD
     "execution_count": 7,
=======
     "execution_count": 28,
>>>>>>> 7f86e45cb4beee57ae36f2ea9cc7a5c17929745f
     "metadata": {},
     "output_type": "execute_result"
    }
   ],
   "source": [
    "df.head()"
   ]
  },
  {
   "cell_type": "code",
<<<<<<< HEAD
   "execution_count": 8,
=======
   "execution_count": 29,
>>>>>>> 7f86e45cb4beee57ae36f2ea9cc7a5c17929745f
   "metadata": {
    "collapsed": false
   },
   "outputs": [
    {
     "data": {
      "text/plain": [
       "LogisticRegression(C=1.0, class_weight=None, dual=False, fit_intercept=True,\n",
       "          intercept_scaling=1, max_iter=100, multi_class='ovr', n_jobs=1,\n",
       "          penalty='l2', random_state=None, solver='liblinear', tol=0.0001,\n",
       "          verbose=0, warm_start=False)"
      ]
     },
<<<<<<< HEAD
     "execution_count": 8,
=======
     "execution_count": 29,
>>>>>>> 7f86e45cb4beee57ae36f2ea9cc7a5c17929745f
     "metadata": {},
     "output_type": "execute_result"
    }
   ],
   "source": [
    "lm.fit(df[['gre', 'gpa', 1, 2, 3,]], df['admit'])"
   ]
  },
  {
   "cell_type": "code",
   "execution_count": 9,
   "metadata": {
    "collapsed": true
   },
   "outputs": [],
   "source": [
    "import numpy as np"
   ]
  },
  {
   "cell_type": "code",
   "execution_count": 10,
   "metadata": {
    "collapsed": false
   },
   "outputs": [
    {
     "name": "stdout",
     "output_type": "stream",
     "text": [
<<<<<<< HEAD
      "[[  1.63913356e-03   4.33354147e-04   1.15220976e+00   5.14395667e-01\n",
      "   -3.62326171e-02]]\n",
      "[-2.09315183]\n",
=======
      "[[  1.63913356e-03   4.33355414e-04   1.15220976e+00   5.14395668e-01\n",
      "   -3.62326166e-02]]\n",
      "[-2.09315184]\n",
>>>>>>> 7f86e45cb4beee57ae36f2ea9cc7a5c17929745f
      "0.3175\n"
     ]
    }
   ],
   "source": [
    "print lm.coef_\n",
    "print lm.intercept_\n",
    "print df.admit.mean()"
   ]
  },
  {
   "cell_type": "code",
<<<<<<< HEAD
   "execution_count": 11,
=======
   "execution_count": 30,
>>>>>>> 7f86e45cb4beee57ae36f2ea9cc7a5c17929745f
   "metadata": {
    "collapsed": false
   },
   "outputs": [
    {
     "data": {
      "text/plain": [
       "array([[ 1.00164048,  1.00043345,  3.16517946,  1.67262737,  0.96441593]])"
      ]
     },
<<<<<<< HEAD
     "execution_count": 11,
=======
     "execution_count": 30,
>>>>>>> 7f86e45cb4beee57ae36f2ea9cc7a5c17929745f
     "metadata": {},
     "output_type": "execute_result"
    }
   ],
   "source": [
    "np.exp(lm.coef_)"
   ]
  },
  {
   "cell_type": "code",
<<<<<<< HEAD
   "execution_count": 12,
=======
   "execution_count": 33,
>>>>>>> 7f86e45cb4beee57ae36f2ea9cc7a5c17929745f
   "metadata": {
    "collapsed": false
   },
   "outputs": [
    {
     "data": {
      "text/plain": [
<<<<<<< HEAD
       "array([ 0.12329791])"
      ]
     },
     "execution_count": 12,
=======
       "0.3175"
      ]
     },
     "execution_count": 33,
>>>>>>> 7f86e45cb4beee57ae36f2ea9cc7a5c17929745f
     "metadata": {},
     "output_type": "execute_result"
    }
   ],
<<<<<<< HEAD
   "source": [
    "#this is the odds that if you have 0 score for gps, the odds you\n",
    "np.exp(lm.intercept_)"
   ]
=======
   "source": []
>>>>>>> 7f86e45cb4beee57ae36f2ea9cc7a5c17929745f
  },
  {
   "cell_type": "markdown",
   "metadata": {},
   "source": [
    "Below is some code to walk through confusion matrices. It'll be useful for working through the Titanic problem."
   ]
  },
  {
   "cell_type": "code",
<<<<<<< HEAD
   "execution_count": 14,
=======
   "execution_count": 34,
>>>>>>> 7f86e45cb4beee57ae36f2ea9cc7a5c17929745f
   "metadata": {
    "collapsed": false
   },
   "outputs": [],
   "source": [
    "%matplotlib inline\n",
    "import matplotlib.pyplot as plt\n",
    "from sklearn.metrics import roc_curve, roc_auc_score"
   ]
  },
  {
   "cell_type": "markdown",
   "metadata": {},
   "source": [
    "Below the ROC curve is based on various thresholds: it shows with a false positive rate (x-axis) ~0, it also expects a true positive rate (y-axis) ~0 (the same, ish, for the top right hand of the figure).\n",
    "\n",
    "The second chart, which does not play with thesholds, shows the one true TPR and FPR point, joined to 0,0 and 1,1.\n",
    "\n",
    "The first chart will be more effective as you compare models and determine where the decision line should exist for the data. The second simplifies the first in case this idea of thresholds is confusing."
   ]
  },
  {
   "cell_type": "code",
<<<<<<< HEAD
   "execution_count": 20,
=======
   "execution_count": 35,
>>>>>>> 7f86e45cb4beee57ae36f2ea9cc7a5c17929745f
   "metadata": {
    "collapsed": false
   },
   "outputs": [
    {
     "data": {
      "text/plain": [
<<<<<<< HEAD
       "[<matplotlib.lines.Line2D at 0x115418d50>]"
      ]
     },
     "execution_count": 20,
=======
       "[<matplotlib.lines.Line2D at 0x1177799d0>]"
      ]
     },
     "execution_count": 35,
>>>>>>> 7f86e45cb4beee57ae36f2ea9cc7a5c17929745f
     "metadata": {},
     "output_type": "execute_result"
    },
    {
     "data": {
<<<<<<< HEAD
      "image/png": "iVBORw0KGgoAAAANSUhEUgAAAgsAAAFkCAYAAACuFXjcAAAABHNCSVQICAgIfAhkiAAAAAlwSFlz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\nchkWJElSLsOCJEnKZViQJEm5/g9AeZbnhLk8/QAAAABJRU5ErkJggg==\n",
      "text/plain": [
       "<matplotlib.figure.Figure at 0x114229fd0>"
=======
      "image/png": "iVBORw0KGgoAAAANSUhEUgAAAXkAAAEACAYAAABWLgY0AAAABHNCSVQICAgIfAhkiAAAAAlwSFlz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\nkZekArPIS1KBWeQlqcAs8pJUYP8fmBzxmUmdsRoAAAAASUVORK5CYII=\n",
      "text/plain": [
       "<matplotlib.figure.Figure at 0x116d96250>"
>>>>>>> 7f86e45cb4beee57ae36f2ea9cc7a5c17929745f
      ]
     },
     "metadata": {},
     "output_type": "display_data"
    }
   ],
   "source": [
<<<<<<< HEAD
    "feature_set = df[['gre', 'gpa', 1, 2, 3]]\n",
=======
    "feature_set = df[['gre', 'gpa', 1, 2, 3,]]\n",
    "\n",
>>>>>>> 7f86e45cb4beee57ae36f2ea9cc7a5c17929745f
    "actuals = lm.predict(feature_set) \n",
    "probas = lm.predict_proba(feature_set)\n",
    "plt.plot(roc_curve(df[['admit']], probas[:,1])[0], roc_curve(df[['admit']], probas[:,1])[1])"
   ]
  },
  {
   "cell_type": "code",
   "execution_count": 21,
   "metadata": {
    "collapsed": false
   },
   "outputs": [
    {
     "data": {
      "text/plain": [
<<<<<<< HEAD
       "[<matplotlib.lines.Line2D at 0x1153090d0>]"
=======
       "[<matplotlib.lines.Line2D at 0x1175835d0>]"
>>>>>>> 7f86e45cb4beee57ae36f2ea9cc7a5c17929745f
      ]
     },
     "execution_count": 21,
     "metadata": {},
     "output_type": "execute_result"
    },
    {
     "data": {
<<<<<<< HEAD
      "image/png": "iVBORw0KGgoAAAANSUhEUgAAAgsAAAFkCAYAAACuFXjcAAAABHNCSVQICAgIfAhkiAAAAAlwSFlz\nAAAPYQAAD2EBqD+naQAAIABJREFUeJzt3XmYXGWZ9/HvDTIiqBk1DCiggJcwARFMs0dwEAER2QYR\nGpQQ1gCCNEsgyJY4EkHZAoTFQQICzaKI7GFRFAlL6Cb4+pKNzQ0IATFhCSTYz/xxuk3Rdne6KlV1\navl+rqsu0qfPqbrr0Om68zznd55IKSFJktSf5fIuQJIk1TabBUmSNCCbBUmSNCCbBUmSNCCbBUmS\nNCCbBUmSNCCbBUmSNCCbBUmSNCCbBUmSNCCbBUmSNKCim4WI2Doibo2Iv0ZEV0TsOohj/isiOiLi\n7YiYHREjSytXkiRVWykjCysD04EjgKUuLBERawG3A/cDGwEXAP8bEduX8NqSJKnKYlkWkoqILmD3\nlNKtA+xzFrBTSulzBdvagSEppa+W/OKSJKkqqnHNwhbAfb22TQG2rMJrS5KkZfS+KrzGasDcXtvm\nAh+OiPenlN7pfUBEfAzYEXgeeLviFUqS1DhWBNYCpqSUXi3HE1ajWSjFjsC1eRchSVId2w+4rhxP\nVI1m4SVg1V7bVgUW9DWq0O15gGuuuYZhw4ZVsDQVamtr47zzzsu7jKbiOa8+z3n1ec4ra+FCmDwZ\nrroKhgyBvfaawSWXfBO6P0vLoRrNwsPATr227dC9vT9vAwwbNozhw4dXqi71MmTIEM93lXnOq89z\nXn2e88pICW64AU44AV5+Ofvv2LEwezZccglQxmn8Uu6zsHJEbBQRG3dvWqf76zW7vz8hIq4qOOTS\n7n3Oioj1IuII4OvAuctcvSRJTWj6dPjiF6G1FTbZBGbMgO9/Hz74wcq8XilpiE2AJ4AOsvssnAN0\nAuO6v78asGbPziml54GdgS+T3Z+hDTgopdQ7ISFJkgbwyiswejS0tGR/vuce+MUvYJ11Kvu6RU9D\npJR+wwBNRkppVB/bfgu0FPtakiQJ3n03m1o47bRs+uHcc+GII2CFFarz+q4NoX9qbW3Nu4Sm4zmv\nPs959XnOl83998PGG8N3vgN77QVz5mR/rlajAMt4B8dKiYjhQEdHR4cXxUiSmtJzz8Hxx8PNN8OI\nETBxIgzmI7Gzs5OWlhaAlpRSZzlqcWRBkqQa8uabcOqpMGwYPPooXHstPPjg4BqFSqnVmzJJktRU\nCqOQ8+ZlowonnVS5hEMxHFmQJClnTzzx3ijkU0/B//xPbTQKYLMgSVJu8opCFstpCEmSqmzx4iwK\nefrp2fTDeedVNwpZLJsFSZKq6L77sujjjBlw8MHZnRdXWSXvqgbmNIQkSVXw3HPw3/8N228PH/kI\nPP44XH557TcKYLMgSVJFFUYhH3usNqKQxXIaQpKkCqjlKGSxHFmQJKnMaj0KWSybBUmSyqQwCvnq\nq3DvvbUZhSyW0xCSJC2jeotCFstmQZKkZVAYhTzkkGy6oR4SDsVwGkKSpBL0FYW87LLGaxTAZkGS\npKL0jkJed139RSGL5TSEJEmDkBJcfz2MGbMkCjl2LKy8ct6VVZ4jC5IkLcUTT8A228C++8Kmmy6J\nQjZDowA2C5Ik9WvePDjssCwK+be/ZVHIm2+u/yhksZyGkCSpl95RyPPPh8MPb5woZLEcWZAkqcB9\n98HGG8Mxx8A3vgFz5sDRRzdvowA2C5IkAfDss7DHHs0RhSyWzYIkqam9+Saccgqsvz5Mm9YcUchi\nec2CJKkp9UQhTzghW9OhmaKQxXJkQZLUdAqjkJtt1nxRyGLZLEiSmoZRyNI4DSFJaniFUUgwClks\nmwVJUkNrhlUhK81pCElSQyqMQn70o9DRYRSyVDYLkqSG0jsK2d4Ov/0tfP7zeVdWv5yGkCQ1hN5R\nyBNOgJNOMuFQDo4sSJLqXu8o5IwZ8L3v2SiUi82CJKluzZsHhx6aRSFfey27mPHmm2HttfOurLE4\nDSFJqjuLF8OkSVkUMgIuuCCLQr7PT7WKcGRBklRX7r03WxWyrQ322Qdmz4ajjrJRqCSbBUlSXeiJ\nQu6ww5Io5KWXGoWsBpsFSVJNe+MN+O53jULmyUEbSVJNSilrDMaMMQqZN0cWJEk1p7MTtt4a9tvP\nKGQtsFmQJNWMnijkJpvA3/9uFLJWOA0hScqdUcja5siCJClXRiFrn82CJCkXRiHrh82CJKmqCqOQ\njz9uFLIeOMgjSaqK3lHIMWPgxBNNONQDRxYkSRVXGIXcfPMsCjl+vI1CvbBZkCRVTF9RyJ//3Chk\nvXEaQpJUdosXw8UXwxlnGIVsBP5vkySV1b33wne+AzNnwmGHZXdeHDo076q0LJyGkCSVxbPPwu67\nZ1HIoUOz6xQuucRGoRGU1CxExJER8VxELIyIRyJi06Xsv19ETI+INyPihYi4IiI+WlrJkqRa0hOF\nHDYsu1fC9dfDb36T3WhJjaHoZiEi9gbOAU4HPg88CUyJiD57x4gYAVwF/BhYH/g6sBlweYk1S5Jq\nQEpw7bWw3npwzjlZDHLmTNh77+w6BTWOUkYW2oDLUkpXp5RmAqOBt4AD+9l/C+C5lNLFKaU/ppSm\nApeRNQySpDrUE4X85jdhyy2zJsEoZOMqqlmIiBWAFuD+nm0ppQTcB2zZz2EPA2tGxE7dz7EqsBdw\nRykFS5Ly8/LLcMghS6KQ998PP/sZrLVW3pWpkoodWRgKLA/M7bV9LrBaXwd0jyR8E7ghIhYBLwKv\nAd8u8rUlSTlZvBjOPx/WXTdrDi64AKZPhy99Ke/KVA0Vj05GxPrABcAZwD3Ax4EfkU1FHDzQsW1t\nbQwZMuQ921pbW2ltba1IrZKkf2UUsna1t7fT3t7+nm3z588v++tENoswyJ2zaYi3gD1TSrcWbJ8M\nDEkp7dHHMVcDK6aUvlGwbQTwIPDxlFLvUQoiYjjQ0dHRwfDhw4t4O5Kkcnn2WTj2WPjlL7PrEyZO\nNOFQDzo7O2lpaQFoSSl1luM5i5qGSCktBjqA7Xq2RUR0fz21n8NWAt7tta0LSIDXy0pSjTEKqd5K\nmYY4F5gcER3AY2TpiJWAyQARMQH4REppZPf+twGXR8RoYArwCeA84NGU0kvLVr4kqVxSguuuy1aD\nfPXVLArpqpCCEpqFlNKN3fdUGA+sCkwHdkwpzeveZTVgzYL9r4qIDwJHkl2r8HeyNMVJy1i7JKlM\nOjvh6KPhoYdgzz3hRz8y4aAlSrrAMaU0CZjUz/dG9bHtYuDiUl5LklQ5L7+cTTlccQWsv34WhTTh\noN5cSEqSmlDvVSEnToTRo10VUn3zx0KSmsw998Axx8CsWXDooUYhtXSuOilJTeKZZ7JVIXfcEVZZ\nJUs6uCqkBsNmQZIa3BtvwMknZ9ckdHZmUcgHHjAKqcFzGkKSGlRhFPJvf4OTTsqikCutlHdlqjeO\nLEhSA+rogC98YcmqkDNmwLhxNgoqjc2CJDWQnlUhN90UFixwVUiVh9MQktQAFi+Giy7KRg+WW84o\npMrLHyNJqnP33JOtCjl7drYq5PjxJhxUXk5DSFKdeuYZ2G23LAr5H/+RXacwaZKNgsrPZkGS6kxh\nFPKJJ4xCqvKchpCkOmEUUnlxZEGS6oBRSOXJZkGSaphRSNUCpyEkqQYZhVQt8cdOkmqMUUjVGqch\nJKlG9I5CdnYahVRtsFmQpJz1jkLecEMWhdxoo7wrkzJOQ0hSTlKCa6/N4o9GIVXLHFmQpBw8/jiM\nGAHf+hZstZVRSNU2mwVJqqKXX4aDD4bNNoPXX4df/QpuuskopGqbzYIkVcHixXDeefCZz8DNN8OF\nF2bXJ2y7bd6VSUvnNQuSVGFTpsAxxyyJQn7ve/Cxj+VdlTR4jixIUoU8/TTsuit85Suw6qpLopA2\nCqo3NguSVGZvvAFjx8IGG8D06VkU8te/Ngqp+uU0hCSVSe8o5Nix2QqRJhxU7xxZkKQy6CsKecYZ\nNgpqDDYLkrQMjEKqGdgsSFIJjEKqmXjNgiQVySikmo0jC5I0SEYh1axsFiRpKYxCqtk5DSFJ/eiJ\nQo4ZA6+9ZhRSzcuRBUnqQ2EUcsQImDnTKKSal82CJBWYOxcOOiiLQr7xxpIo5Kc+lXdlUn6chpAk\nYNEiuOgiGDcOll8+i0Iedhi8z9+Sks2CJN19dxaFnDMHRo+G8eNNOEiFnIaQ1LR6opA77QSrrZbd\nVOnii20UpN5sFiQ1nddfh5NOyqKQTz4JN96YRSE/97m8K5Nqk9MQkppGV9eSVSGNQkqD58iCpKYw\nbVoWgdx/f/jCF4xCSsWwWZDU0HqikJtvDm++mU033HijUUipGE5DSGpIRiGl8vGvjaSGYxRSKi+n\nISQ1DKOQUmXYLEiqe0YhpcpyGkJS3TIKKVWHIwuS6pJRSKl6bBYk1RWjkFL1OQ0hqS4sWpTFH8eP\nz+KPF10Ehx5qFFKqBv+aSap5RiGlfJU0DRERR0bEcxGxMCIeiYhNl7L/v0XE9yPi+Yh4OyKejYgD\nSqpYUtN4+mnYZZcsCvnxjxuFlPJS9MhCROwNnAMcCjwGtAFTImLdlNIr/Rx2E7AKMAp4Bvg4Xi8h\nqR+vvw7f/z6cd152v4SbboI994SIvCuTmlMp0xBtwGUppasBImI0sDNwIHB2750j4ivA1sA6KaW/\nd2/+U2nlSmpkXV1wzTXZPRNeew1OPhlOOMGEg5S3ov51HxErAC3A/T3bUkoJuA/Ysp/DdgEeB06M\niL9ExKyI+GFErFhizZIaUE8UcuTIJVHI00+3UZBqQbFTAUOB5YG5vbbPBVbr55h1yEYWNgB2B74D\nfB24uMjXltSA5s6FAw+EzTaDt94yCinVomqkIZYDuoB9U0pvAETEscBNEXFESumd/g5sa2tjyJAh\n79nW2tpKa2trJeuVVAW9o5CTJsEhhxiFlIrR3t5Oe3v7e7bNnz+/7K8T2SzCIHfOpiHeAvZMKd1a\nsH0yMCSltEcfx0wGtkoprVuw7T+B/w+sm1J6po9jhgMdHR0dDB8+fPDvRlJdKIxCHn541jB89KN5\nVyU1hs7OTlpaWgBaUkqd5XjOoqYhUkqLgQ5gu55tERHdX0/t57CHgE9EROHM43pkow1/KapaSXWt\nryjkRRfZKEi1rpT44rnAIRGxf/cIwaXASsBkgIiYEBFXFex/HfAqcGVEDIuIbchSE1cMNAUhqXEU\nrgr5+99nUchf/cpVIaV6UfTsYErpxogYCowHVgWmAzumlOZ177IasGbB/m9GxPbAhcA0ssbhBuDU\nZaxdUo0zCik1hpIuJUopTQIm9fO9UX1smw3sWMprSapP06bB0UfDI4/AXnvBD39owkGqV95FUVJZ\nGYWUGo8hJUllYRRSalz+NZa0zO66C9rajEJKjcppCEklmzMni0J+9atGIaVGZrMgqWivvw4nnmgU\nUmoWTkNIGrSeKOSJJ8L8+XDKKVkU8gMfyLsySZXkyIKkQZk2DbbaKlsVcpttslUhTzvNRkFqBjYL\nkgb00ktLopALF8IDD8ANN8AnP5l3ZZKqxWkISX1atAgmTsySDSusYBRSamb+tZf0L+66K1sV8umn\n4YgjYNw4Ew5SM3MaQtI/zZkDX/taFoVcfXWYPj270ZKNgtTcbBYkvScK+Yc/wM9+BvffDxtumHdl\nkmqB0xBSEzMKKWkwHFmQmpRRSEmDZbMgNRmjkJKK5TSE1CSMQkoqlb8mpCZgFFLSsnAaQmpgRiEl\nlYPNgtSAjEJKKienIaQG0tUFP/0pnHSSUUhJ5ePIgtQgHnssi0IecAB88YtGISWVj82CVOdeeglG\njYLNN4e3386ikNdfbxRSUvk4DSHVqd5RyEsuyaKQyy+fd2WSGo3NglSH7rwT2trgmWfg8MONQkqq\nLKchpDrSE4XceWdYYw2jkJKqw2ZBqgN9RSHvuw8++9m8K5PUDJyGkGpY7yjkqafC8cebcJBUXY4s\nSDWqryjkqafaKEiqPpsFqcb0jkL+5jdGISXly2ZBqhGLFsGPfgTrrgu33ZZFITs6YJtt8q5MUrPz\nmgWpBhiFlFTLHFmQcmQUUlI9sFmQcrBgAYwZYxRSUn1wGkKqIqOQkuqRIwtSlTz2GGy5pVFISfXH\nZkGqsMIo5DvvGIWUVH9sFqQKWbQIfvhDo5CS6p/XLEgVcOedcMwx8OyzcMQRcMYZJhwk1S9HFqQy\nmj07i0HuvDOsuWYWhZw40UZBUn2zWZDKoCcK+dnPwlNPwc9/bhRSUuNwGkJaBl1dcPXVWRRywQKj\nkJIakyMLUol6opCjRsG228KsWUYhJTUmmwWpSH1FIdvbs2sUJKkR2SxIg9Q7CnnppUYhJTUHr1mQ\nBqF3FHLcOPjIR/KuSpKqw5EFaQCFUchPfnJJFNJGQVIzsVmQ+tBXFPLee41CSmpOTkNIBYxCStK/\ncmRB6vboo0YhJakvNgtqei++mC0bvcUWRiElqS82C2pahVHI2283CilJ/SmpWYiIIyPiuYhYGBGP\nRMSmgzxuREQsjojOUl5XKpc77sguVhw7Npt2mDMHDjsMll8+78okqfYU3SxExN7AOcDpwOeBJ4Ep\nETF0KccNAa4C7iuhTqksZs2Cr34VvvY1o5CSNFiljCy0AZellK5OKc0ERgNvAQcu5bhLgWuBR0p4\nTWmZLFgAJ5wAG24IM2bAzTcbhZSkwSqqWYiIFYAW4P6ebSmlRDZasOUAx40C1gbGlVamVJquLpg8\nObsuYdIkOO207L4Je+wBEXlXJ0n1odiRhaHA8sDcXtvnAqv1dUBEfAY4E9gvpdRVdIVSiXpHIWfO\nhFNOMQopScWq6E2ZImI5sqmH01NKz/RsHuzxbW1tDBky5D3bWltbaW1tLV+RajgvvphduHjVVbDx\nxvDb38LWW+ddlSSVX3t7O+3t7e/ZNn/+/LK/TmSzCIPcOZuGeAvYM6V0a8H2ycCQlNIevfYfArwG\nvMuSJmG57j+/C+yQUnqgj9cZDnR0dHQwfPjwYt6PmtiiRXDBBTB+PLz//XDmmXDQQSYcJDWXzs5O\nWlpaAFpSSmVJHxY1DZFSWgx0ANv1bIuI6P56ah+HLAA+C2wMbNT9uBSY2f3nR0uqWuqlMAp54IFZ\nFPLQQ20UJKkcSpmGOBeYHBEdwGNk6YiVgMkAETEB+ERKaWT3xY9PFR4cES8Db6eUZixL4RJkUci2\nNrjrLthuO/jFL2CDDfKuSpIaS9HNQkrpxu57KowHVgWmAzumlOZ177Ia4I1yVVELFsD3vpdNO6y+\nehaF3H13Ew6SVAklXeCYUpoETOrne6OWcuw4jFCqRIWrQr7+Opx+Ohx3HKy4Yt6VSVLjcm0I1Y3C\nKOSXvpRNQXz3uzYKklRpNguqeS++CCNHZqtCLlqURSGvuw7WWCPvyiSpOdgsqGa98w6cfXZ298U7\n7oDLLoPHH/eeCZJUbRW9KZNUqjvugGOOgeeegyOPhDPOcLEnScqLIwuqKYWrQn7qU/Dkk1niwUZB\nkvJjs6CasGABHH98dmOlwlUhvWeCJOXPaQjlqqsrW8Nh7NgsCnnGGUYhJanWOLKg3DzySJZwOPBA\no5CSVMtsFlR1PVHILbeExYuNQkpSrbNZUNW88w6cdVYWhbzzTqOQklQvvGZBVVEYhfz2t7PbNJtw\nkKT64MiCKqowCrnWWlkU8vzzbRQkqZ7YLKgiCqOQM2dmS0ffc49RSEmqR05DqKyMQkpS43FkQWVT\nGIXcbjujkJLUKGwWtMwKo5DvvgsPPgjXXmsUUpIahc2CStY7Cnn55TBtGnzhC3lXJkkqJ69ZUNFS\nyqKQbW1GISWpGTiyoKL0RCF32cUopCQ1C5sFDcr8+UuikLNmGYWUpGbiNIQG1NUFkydnUcg33jAK\nKUnNyJEF9asnCnnQQfDlLxuFlKRmZbOgf/HCC7D//kYhJUkZmwX9U08Ucr314K67jEJKkjJesyBS\ngttvh2OPNQopSfpXjiw0uZkzsyjkrrtmUcjf/94opCTpvWwWmlRPFHLDDd8bhVx//bwrkyTVGqch\nmkzvKOS4cdn0gwkHSVJ/HFloIn1FIU8+2UZBkjQwm4UmUBiF/Mc/4He/MwopSRo8m4UG1lcU8rHH\nYMSIvCuTJNUTr1loQL2jkEcdlUUh//3f865MklSPHFloMIVRyLXXzqKQ551noyBJKp3NQoOYPz9b\n4KknCnnLLTBlilFISdKycxqizhmFlCRVmiMLdezhh2HzzY1CSpIqy2ahDvVEIbfaKhtZMAopSaok\nm4U68s478IMfwLrrGoWUJFWP1yzUgZ4oZFsbPP+8UUhJUnU5slDjZs6EnXbKopDrrGMUUpJUfTYL\nNaowCjlnjlFISVJ+nIaoMUYhJUm1xpGFGlIYhdx+e5g92yikJCl/Ngs1oK8o5DXXwOqr512ZJEk2\nC7kqjELefTf8+MdGISVJtcdrFnJQGIX84x/h2982CilJql2OLFRZYRTy0582CilJqn02C1XSVxTy\n7rth2LC8K5MkaWBOQ1RYVxdceWWWanjzTRg/Ppt+MOEgSaoXjixU0NSpsNlmcPDBWRRy1qzs/gk2\nCpKkemKzUAEvvADf+laWakjJKKQkqb6V1CxExJER8VxELIyIRyJi0wH23SMi7omIlyNifkRMjYgd\nSi+5dhVGIadMMQopSWoMRTcLEbE3cA5wOvB54ElgSkQM7eeQbYB7gJ2A4cCvgdsiYqOSKq5BKcGt\nt8IGG8Cpp8Ihh2R3Xzz4YFh++byrkyRp2ZQystAGXJZSujqlNBMYDbwFHNjXzimltpTSj1JKHSml\nZ1JK3wXmALuUXHUNmTEDvvIV2G03o5CSpMZUVLMQESsALcD9PdtSSgm4D9hykM8RwIeAvxXz2rVm\n/vxsgafPfQ6eftoopCSpcRUbnRwKLA/M7bV9LrDeIJ/jBGBl4MYiX7sm9EQhx46Ft94yCilJanxV\nvc9CROwLnArsmlJ6ZWn7t7W1MWTIkPdsa21tpbW1tUIVDmzqVDj6aOjogP32g7POMuEgScpPe3s7\n7e3t79k2f/78sr9OZLMIg9w5m4Z4C9gzpXRrwfbJwJCU0h4DHLsP8L/A11NKdy/ldYYDHR0dHQwf\nPnzQ9VXKCy/AiSdm8ceWFpg4MVshUpKkWtPZ2UlLSwtAS0qpsxzPWdQ1CymlxUAHsF3Ptu5rELYD\npvZ3XES0AlcA+yytUaglfUUhH33URkGS1FxKmYY4F5gcER3AY2TpiJWAyQARMQH4REppZPfX+3Z/\n72hgWkSs2v08C1NKC5ap+gpJCW67LbuA8Y9/hKOOgtNOM+EgSWpORUcnU0o3AscD44EngM8BO6aU\n5nXvshqwZsEhh5BdFHkx8ELB4/zSy66cvqKQ555royBJal4lXeCYUpoETOrne6N6fb1tKa9RbfPn\nw7hxcOGF8MlPwi9/CbvsAhF5VyZJUr6aftVJo5CSJA2sqReSKlwVcscdXRVSkqS+NG2zcOWVSxZ4\neugh+OlPvWeCJEl9acppiEWL4PTTYa+94PrrYbmmbZkkSVq6pmwWrr0W/vxnuOsuGwVJkpam6T4q\n//GP7EZLu+2WLSktSZIG1nQjC7/4BcyeDVdfnXclkiTVh6YaWUgJzjwTttsONt8872okSaoPTTWy\nMGUKPPEE3H9/3pVIklQ/mmpk4cwzsxGFbevinpKSJNWGphlZ+N3v4MEH4ZZbvIWzJEnFaJqRhQkT\nsvTDLrvkXYkkSfWlKUYWpk+HO++Ea67xvgqSJBWrKT46J0yAtdeGvffOuxJJkupPw48szJ4NN90E\nl1wC72v4dytJUvk1/MjCWWfBqqvCyJF5VyJJUn1q6Gbhz3/OVpM87jiXnZYkqVQN3Syccw588INw\n2GF5VyJJUv1q2GZh3jy4/HI4+mj40IfyrkaSpPrVsM3CBRdkMcmjjsq7EkmS6ltDNgsLFsBFF2XT\nDx/7WN7VSJJU3xqyWbjkEli4EI49Nu9KJEmqfw3XLCxcCOeeCwccAKuvnnc1kiTVv4ZrFn7yE3jl\nFRgzJu9KJElqDA3VLCxeDGefDfvsA5/+dN7VSJLUGBqqWWhvhz/9CU46Ke9KJElqHA3TLHR1ZQtG\n7bILbLhh3tVIktQ4GmZppVtugZkz4cor865EkqTG0hAjCynBmWfCttvCFlvkXY0kSY2lIUYW7r0X\nOjqy/0qSpPJqiJGFCRNgk01gu+3yrkSSpMZT9yMLU6fCAw/AzTdDRN7VSJLUeOp+ZGHCBBg2DHbb\nLe9KJElqTHU9svDkk3D77XD11dkKk5Ikqfzq+iP2Bz+AtdbK7tgoSZIqo25HFp5+Gm68ES68EFZY\nIe9qJElqXHU7snD22bDKKjBqVN6VSJLU2OqyWfjrX2HyZDj2WPjAB/KuRpKkxlaXzcI558DKK8Po\n0XlXIklS46u7ZuGVV+Cyy+Coo+DDH867GkmSGl/dNQsXXpj99+ij861DkqRmUVfNwuuvw8SJcOih\nMHRo3tVIktQc6qpZuPRSePNNOO64vCuRJKl51E2z8Pbb2YWNI0fCGmvkXY0kSc2jbpqFK6+EefNg\nzJi8K5EkqbnURbPw7rvZTZj22gs+85m8q5EkqbnUxe2er78enn8ebrkl70okSWo+NT+y0NWVLUO9\n886w0UZ5VyNJUvOp+ZGFW2+Fp56CH/8470okSWpONT2ykBKceSZ88Yuw1VZ5VyNJUnOq6WZh2rTs\nMXZs3pU0h/b29rxLaDqe8+rznFef57z+ldQsRMSREfFcRCyMiEciYtOl7P9fEdEREW9HxOyIGDmY\n1/nJT2D4cNhhh1KqVLH8C119nvPq85xXn+e8/hXdLETE3sA5wOnA54EngSkR0ecNmCNiLeB24H5g\nI+AC4H8jYvulvda0aXDyyRBRbJWSJKlcShlZaAMuSyldnVKaCYwG3gIO7Gf/w4FnU0pjUkqzUkoX\nAz/rfp4BrbUW7LFHCRVKkqSyKapZiIgVgBayUQIAUkoJuA/Ysp/Dtuj+fqEpA+z/TwccAMvV9FUV\nkiQ1vmKjk0OB5YG5vbbPBdbr55jV+tn/wxHx/pTSO30csyLA2mvPoLOzyApVsvnz59PpCa8qz3n1\nec6rz3MFGx6cAAAFUklEQVReXTNmzOj544rles5avc/CWgAjR34z5zKaT0tLS94lNB3PefV5zqvP\nc56LtYCp5XiiYpuFV4B/AKv22r4q8FI/x7zUz/4L+hlVgGyaYj/geeDtImuUJKmZrUjWKEwp1xMW\n1SyklBZHRAewHXArQERE99cT+znsYWCnXtt26N7e3+u8ClxXTG2SJOmfyjKi0KOUywfPBQ6JiP0j\n4j+BS4GVgMkAETEhIq4q2P9SYJ2IOCsi1ouII4Cvdz+PJEmqcUVfs5BSurH7ngrjyaYTpgM7ppTm\nde+yGrBmwf7PR8TOwHnA0cBfgINSSr0TEpIkqQZFlnyUJEnqm3cxkCRJA7JZkCRJA8qlWajWQlRa\nophzHhF7RMQ9EfFyRMyPiKkR4XJeRSr257zguBERsTgivItNkUr43fJvEfH9iHi++/fLsxFxQJXK\nbQglnPP9ImJ6RLwZES9ExBUR8dFq1VvvImLriLg1Iv4aEV0Rsesgjlnmz9CqNwvVXIhKmWLPObAN\ncA9Z5HU48GvgtojYqArlNoQSznnPcUOAq/jXW6RrKUo85zcB2wKjgHWBVmBWhUttGCX8Ph9B9vP9\nY2B9smTcZsDlVSm4MaxMFiw4AljqRYdl+wxNKVX1ATwCXFDwdZAlJMb0s/9ZwO97bWsH7qx27fX6\nKPac9/McfwBOyfu91Muj1HPe/bM9juyXb2fe76OeHiX8bvkK8Dfg3/OuvV4fJZzz44A5vbZ9G/hT\n3u+lHh9AF7DrUvYpy2doVUcWqr0QlUo+572fI4APkf1i1VKUes4jYhSwNlmzoCKUeM53AR4HToyI\nv0TErIj4YUSU7X76jazEc/4wsGZE7NT9HKsCewF3VLbaplaWz9BqT0MMtBDVav0cM+BCVOUtryGV\ncs57O4Fs6OvGMtbVyIo+5xHxGeBMYL+UUldly2tIpfycrwNsDWwA7A58h2xY/OIK1dhoij7nKaWp\nwDeBGyJiEfAi8BrZ6IIqoyyfoaYhNKCI2Bc4FdgrpfRK3vU0oohYDrgWOD2l9EzP5hxLahbLkQ3j\n7ptSejyldDdwLDDSf4hURkSsTzZnfgbZ9VA7ko2mXZZjWRqEaq86Wa2FqLREKeccgIjYh+zCo6+n\nlH5dmfIaUrHn/EPAJsDGEdHzr9rlyGaAFgE7pJQeqFCtjaKUn/MXgb+mlN4o2DaDrFFbA3imz6PU\no5RzfhLwUEqp53b/f+heAuDBiPhuSqn3v4C17MryGVrVkYWU0mKgZyEq4D0LUfW36MXDhft3G3Ah\nKi1R4jknIlqBK4B9uv/FpUEq4ZwvAD4LbEx2tfJGZGuqzOz+86MVLrnulfhz/hDwiYhYqWDbemSj\nDX+pUKkNo8RzvhLwbq9tXWRX9TuaVhnl+QzN4erNbwBvAfsD/0k2/PQqsEr39ycAVxXsvxbwOtkV\nneuRxUUWAV/O+0rUenmUcM737T7Ho8k60J7Hh/N+L/XyKPac93G8aYgKn3Oy63D+CNwADCOLDM8C\nLs37vdTLo4RzPhJ4p/t3y9rACOAxYGre76VeHt0/txuR/eOiCzim++s1+znnZfkMzevNHgE8Dywk\n6242KfjelcCveu2/DVkHuxCYA3wr7/9h9fYo5pyT3VfhH308fpL3+6inR7E/572OtVmowjknu7fC\nFOCN7sbhbOD9eb+PenqUcM6PBP5f9zn/C9l9Fz6e9/uolwfwxe4moc/fz5X6DHUhKUmSNCDTEJIk\naUA2C5IkaUA2C5IkaUA2C5IkaUA2C5IkaUA2C5IkaUA2C5IkaUA2C5IkaUA2C5IkaUA2C5IkaUA2\nC5IkaUD/B5hrgopdJYP6AAAAAElFTkSuQmCC\n",
      "text/plain": [
       "<matplotlib.figure.Figure at 0x115223d10>"
=======
      "image/png": "iVBORw0KGgoAAAANSUhEUgAAAXkAAAEACAYAAABWLgY0AAAABHNCSVQICAgIfAhkiAAAAAlwSFlz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\n7P8DUZLG8pVKia8AAAAASUVORK5CYII=\n",
      "text/plain": [
       "<matplotlib.figure.Figure at 0x1173f7750>"
>>>>>>> 7f86e45cb4beee57ae36f2ea9cc7a5c17929745f
      ]
     },
     "metadata": {},
     "output_type": "display_data"
    }
   ],
   "source": [
    "plt.plot(roc_curve(df[['admit']], actuals)[0], roc_curve(df[['admit']], actuals)[1])"
   ]
  },
  {
<<<<<<< HEAD
=======
   "cell_type": "code",
   "execution_count": null,
   "metadata": {
    "collapsed": true
   },
   "outputs": [],
   "source": []
  },
  {
>>>>>>> 7f86e45cb4beee57ae36f2ea9cc7a5c17929745f
   "cell_type": "markdown",
   "metadata": {},
   "source": [
    "Finally, you can use the `roc_auc_score` function to calculate the area under these curves (AUC)."
   ]
  },
  {
   "cell_type": "code",
<<<<<<< HEAD
   "execution_count": 23,
=======
   "execution_count": 36,
>>>>>>> 7f86e45cb4beee57ae36f2ea9cc7a5c17929745f
   "metadata": {
    "collapsed": false
   },
   "outputs": [
    {
<<<<<<< HEAD
     "ename": "SyntaxError",
     "evalue": "unexpected EOF while parsing (<ipython-input-23-882ee074c267>, line 1)",
     "output_type": "error",
     "traceback": [
      "\u001b[0;36m  File \u001b[0;32m\"<ipython-input-23-882ee074c267>\"\u001b[0;36m, line \u001b[0;32m1\u001b[0m\n\u001b[0;31m    roc_auc_score(df['admit'], lm.predict(feature_set)\u001b[0m\n\u001b[0m                                                      ^\u001b[0m\n\u001b[0;31mSyntaxError\u001b[0m\u001b[0;31m:\u001b[0m unexpected EOF while parsing\n"
     ]
    }
   ],
   "source": [
    "roc_auc_score(df['admit'], lm.predict(feature_set)"
=======
     "data": {
      "text/plain": [
       "0.55914164575581893"
      ]
     },
     "execution_count": 36,
     "metadata": {},
     "output_type": "execute_result"
    }
   ],
   "source": [
    "roc_auc_score(df['admit'], lm.predict(feature_set))"
>>>>>>> 7f86e45cb4beee57ae36f2ea9cc7a5c17929745f
   ]
  },
  {
   "cell_type": "markdown",
   "metadata": {},
   "source": [
    "### Titanic Problem"
   ]
  },
  {
   "cell_type": "markdown",
   "metadata": {},
   "source": [
    "** Goals **\n",
    "\n",
    "1. Spend a few minutes determining which data would be most important to use in the prediction problem. You may need to create new features based on the data available. Consider using a feature selection aide in sklearn. But a worst case scenario; identify one or two strong features that would be useful to include in the model.\n",
    "2. Spend 1-2 minutes considering which _metric_ makes the most sense to optimize. Accuracy? FPR or TPR? AUC? Given the business problem (understanding survival rate aboard the Titanic), why should you use this metric?\n",
    "3. Build a tuned Logistic model. Be prepared to explain your design (including regularization), metric, and feature set in predicting survival using the tools necessary (such as a fit chart)."
   ]
  },
  {
   "cell_type": "code",
<<<<<<< HEAD
   "execution_count": 9,
   "metadata": {
    "collapsed": true
   },
   "outputs": [],
   "source": [
    "import pandas as pd\n",
    "import statsmodels.api as sm\n",
    "import pylab as pl\n",
    "import numpy as np\n",
    "from sklearn.linear_model import LogisticRegression\n",
    "import seaborn as sns\n"
   ]
  },
  {
   "cell_type": "code",
   "execution_count": 10,
=======
   "execution_count": 37,
>>>>>>> 7f86e45cb4beee57ae36f2ea9cc7a5c17929745f
   "metadata": {
    "collapsed": true
   },
   "outputs": [],
   "source": [
<<<<<<< HEAD
    "dftt = pd.read_csv('../../assets/dataset/titanic.csv')"
   ]
  },
  {
   "cell_type": "code",
   "execution_count": 11,
   "metadata": {
    "collapsed": false
   },
   "outputs": [
    {
     "data": {
      "text/html": [
       "<div>\n",
       "<table border=\"1\" class=\"dataframe\">\n",
       "  <thead>\n",
       "    <tr style=\"text-align: right;\">\n",
       "      <th></th>\n",
       "      <th>PassengerId</th>\n",
       "      <th>Survived</th>\n",
       "      <th>Pclass</th>\n",
       "      <th>Name</th>\n",
       "      <th>Sex</th>\n",
       "      <th>Age</th>\n",
       "      <th>SibSp</th>\n",
       "      <th>Parch</th>\n",
       "      <th>Ticket</th>\n",
       "      <th>Fare</th>\n",
       "      <th>Cabin</th>\n",
       "      <th>Embarked</th>\n",
       "    </tr>\n",
       "  </thead>\n",
       "  <tbody>\n",
       "    <tr>\n",
       "      <th>0</th>\n",
       "      <td>1</td>\n",
       "      <td>0</td>\n",
       "      <td>3</td>\n",
       "      <td>Braund, Mr. Owen Harris</td>\n",
       "      <td>male</td>\n",
       "      <td>22.0</td>\n",
       "      <td>1</td>\n",
       "      <td>0</td>\n",
       "      <td>A/5 21171</td>\n",
       "      <td>7.2500</td>\n",
       "      <td>NaN</td>\n",
       "      <td>S</td>\n",
       "    </tr>\n",
       "    <tr>\n",
       "      <th>1</th>\n",
       "      <td>2</td>\n",
       "      <td>1</td>\n",
       "      <td>1</td>\n",
       "      <td>Cumings, Mrs. John Bradley (Florence Briggs Th...</td>\n",
       "      <td>female</td>\n",
       "      <td>38.0</td>\n",
       "      <td>1</td>\n",
       "      <td>0</td>\n",
       "      <td>PC 17599</td>\n",
       "      <td>71.2833</td>\n",
       "      <td>C85</td>\n",
       "      <td>C</td>\n",
       "    </tr>\n",
       "    <tr>\n",
       "      <th>2</th>\n",
       "      <td>3</td>\n",
       "      <td>1</td>\n",
       "      <td>3</td>\n",
       "      <td>Heikkinen, Miss. Laina</td>\n",
       "      <td>female</td>\n",
       "      <td>26.0</td>\n",
       "      <td>0</td>\n",
       "      <td>0</td>\n",
       "      <td>STON/O2. 3101282</td>\n",
       "      <td>7.9250</td>\n",
       "      <td>NaN</td>\n",
       "      <td>S</td>\n",
       "    </tr>\n",
       "    <tr>\n",
       "      <th>3</th>\n",
       "      <td>4</td>\n",
       "      <td>1</td>\n",
       "      <td>1</td>\n",
       "      <td>Futrelle, Mrs. Jacques Heath (Lily May Peel)</td>\n",
       "      <td>female</td>\n",
       "      <td>35.0</td>\n",
       "      <td>1</td>\n",
       "      <td>0</td>\n",
       "      <td>113803</td>\n",
       "      <td>53.1000</td>\n",
       "      <td>C123</td>\n",
       "      <td>S</td>\n",
       "    </tr>\n",
       "    <tr>\n",
       "      <th>4</th>\n",
       "      <td>5</td>\n",
       "      <td>0</td>\n",
       "      <td>3</td>\n",
       "      <td>Allen, Mr. William Henry</td>\n",
       "      <td>male</td>\n",
       "      <td>35.0</td>\n",
       "      <td>0</td>\n",
       "      <td>0</td>\n",
       "      <td>373450</td>\n",
       "      <td>8.0500</td>\n",
       "      <td>NaN</td>\n",
       "      <td>S</td>\n",
       "    </tr>\n",
       "  </tbody>\n",
       "</table>\n",
       "</div>"
      ],
      "text/plain": [
       "   PassengerId  Survived  Pclass  \\\n",
       "0            1         0       3   \n",
       "1            2         1       1   \n",
       "2            3         1       3   \n",
       "3            4         1       1   \n",
       "4            5         0       3   \n",
       "\n",
       "                                                Name     Sex   Age  SibSp  \\\n",
       "0                            Braund, Mr. Owen Harris    male  22.0      1   \n",
       "1  Cumings, Mrs. John Bradley (Florence Briggs Th...  female  38.0      1   \n",
       "2                             Heikkinen, Miss. Laina  female  26.0      0   \n",
       "3       Futrelle, Mrs. Jacques Heath (Lily May Peel)  female  35.0      1   \n",
       "4                           Allen, Mr. William Henry    male  35.0      0   \n",
       "\n",
       "   Parch            Ticket     Fare Cabin Embarked  \n",
       "0      0         A/5 21171   7.2500   NaN        S  \n",
       "1      0          PC 17599  71.2833   C85        C  \n",
       "2      0  STON/O2. 3101282   7.9250   NaN        S  \n",
       "3      0            113803  53.1000  C123        S  \n",
       "4      0            373450   8.0500   NaN        S  "
      ]
     },
     "execution_count": 11,
     "metadata": {},
     "output_type": "execute_result"
    }
   ],
   "source": [
    "dftt.head()"
=======
    "import statsmodels.api as sm"
>>>>>>> 7f86e45cb4beee57ae36f2ea9cc7a5c17929745f
   ]
  },
  {
   "cell_type": "code",
<<<<<<< HEAD
   "execution_count": 12,
   "metadata": {
    "collapsed": false
   },
   "outputs": [
    {
     "data": {
      "text/html": [
       "<div>\n",
       "<table border=\"1\" class=\"dataframe\">\n",
       "  <thead>\n",
       "    <tr style=\"text-align: right;\">\n",
       "      <th></th>\n",
       "      <th>PassengerId</th>\n",
       "      <th>Survived</th>\n",
       "      <th>Pclass</th>\n",
       "      <th>Age</th>\n",
       "      <th>SibSp</th>\n",
       "      <th>Parch</th>\n",
       "      <th>Fare</th>\n",
       "    </tr>\n",
       "  </thead>\n",
       "  <tbody>\n",
       "    <tr>\n",
       "      <th>count</th>\n",
       "      <td>891.000000</td>\n",
       "      <td>891.000000</td>\n",
       "      <td>891.000000</td>\n",
       "      <td>714.000000</td>\n",
       "      <td>891.000000</td>\n",
       "      <td>891.000000</td>\n",
       "      <td>891.000000</td>\n",
       "    </tr>\n",
       "    <tr>\n",
       "      <th>mean</th>\n",
       "      <td>446.000000</td>\n",
       "      <td>0.383838</td>\n",
       "      <td>2.308642</td>\n",
       "      <td>29.699118</td>\n",
       "      <td>0.523008</td>\n",
       "      <td>0.381594</td>\n",
       "      <td>32.204208</td>\n",
       "    </tr>\n",
       "    <tr>\n",
       "      <th>std</th>\n",
       "      <td>257.353842</td>\n",
       "      <td>0.486592</td>\n",
       "      <td>0.836071</td>\n",
       "      <td>14.526497</td>\n",
       "      <td>1.102743</td>\n",
       "      <td>0.806057</td>\n",
       "      <td>49.693429</td>\n",
       "    </tr>\n",
       "    <tr>\n",
       "      <th>min</th>\n",
       "      <td>1.000000</td>\n",
       "      <td>0.000000</td>\n",
       "      <td>1.000000</td>\n",
       "      <td>0.420000</td>\n",
       "      <td>0.000000</td>\n",
       "      <td>0.000000</td>\n",
       "      <td>0.000000</td>\n",
       "    </tr>\n",
       "    <tr>\n",
       "      <th>25%</th>\n",
       "      <td>223.500000</td>\n",
       "      <td>0.000000</td>\n",
       "      <td>2.000000</td>\n",
       "      <td>NaN</td>\n",
       "      <td>0.000000</td>\n",
       "      <td>0.000000</td>\n",
       "      <td>7.910400</td>\n",
       "    </tr>\n",
       "    <tr>\n",
       "      <th>50%</th>\n",
       "      <td>446.000000</td>\n",
       "      <td>0.000000</td>\n",
       "      <td>3.000000</td>\n",
       "      <td>NaN</td>\n",
       "      <td>0.000000</td>\n",
       "      <td>0.000000</td>\n",
       "      <td>14.454200</td>\n",
       "    </tr>\n",
       "    <tr>\n",
       "      <th>75%</th>\n",
       "      <td>668.500000</td>\n",
       "      <td>1.000000</td>\n",
       "      <td>3.000000</td>\n",
       "      <td>NaN</td>\n",
       "      <td>1.000000</td>\n",
       "      <td>0.000000</td>\n",
       "      <td>31.000000</td>\n",
       "    </tr>\n",
       "    <tr>\n",
       "      <th>max</th>\n",
       "      <td>891.000000</td>\n",
       "      <td>1.000000</td>\n",
       "      <td>3.000000</td>\n",
       "      <td>80.000000</td>\n",
       "      <td>8.000000</td>\n",
       "      <td>6.000000</td>\n",
       "      <td>512.329200</td>\n",
       "    </tr>\n",
       "  </tbody>\n",
       "</table>\n",
       "</div>"
      ],
      "text/plain": [
       "       PassengerId    Survived      Pclass         Age       SibSp  \\\n",
       "count   891.000000  891.000000  891.000000  714.000000  891.000000   \n",
       "mean    446.000000    0.383838    2.308642   29.699118    0.523008   \n",
       "std     257.353842    0.486592    0.836071   14.526497    1.102743   \n",
       "min       1.000000    0.000000    1.000000    0.420000    0.000000   \n",
       "25%     223.500000    0.000000    2.000000         NaN    0.000000   \n",
       "50%     446.000000    0.000000    3.000000         NaN    0.000000   \n",
       "75%     668.500000    1.000000    3.000000         NaN    1.000000   \n",
       "max     891.000000    1.000000    3.000000   80.000000    8.000000   \n",
       "\n",
       "            Parch        Fare  \n",
       "count  891.000000  891.000000  \n",
       "mean     0.381594   32.204208  \n",
       "std      0.806057   49.693429  \n",
       "min      0.000000    0.000000  \n",
       "25%      0.000000    7.910400  \n",
       "50%      0.000000   14.454200  \n",
       "75%      0.000000   31.000000  \n",
       "max      6.000000  512.329200  "
      ]
     },
     "execution_count": 12,
     "metadata": {},
     "output_type": "execute_result"
    }
   ],
   "source": [
    "dftt.describe()"
   ]
  },
  {
   "cell_type": "code",
   "execution_count": 33,
=======
   "execution_count": 40,
>>>>>>> 7f86e45cb4beee57ae36f2ea9cc7a5c17929745f
   "metadata": {
    "collapsed": false
   },
   "outputs": [
    {
     "name": "stdout",
     "output_type": "stream",
     "text": [
<<<<<<< HEAD
      "Age       0.42   0.67   0.75   0.83   0.92   1.00   2.00   3.00   4.00   \\\n",
      "Survived                                                                  \n",
      "0             0      0      0      0      0      2      7      1      3   \n",
      "1             1      1      2      2      1      5      3      5      7   \n",
      "\n",
      "Age       5.00   ...    62.00  63.00  64.00  65.00  66.00  70.00  70.50  \\\n",
      "Survived         ...                                                      \n",
      "0             0  ...        2      0      2      3      1      2      1   \n",
      "1             4  ...        2      2      0      0      0      0      0   \n",
      "\n",
      "Age       71.00  74.00  80.00  \n",
      "Survived                       \n",
      "0             2      1      0  \n",
      "1             0      0      1  \n",
      "\n",
      "[2 rows x 88 columns]\n"
=======
      "Optimization terminated successfully.\n",
      "         Current function value: 0.606023\n",
      "         Iterations 5\n"
>>>>>>> 7f86e45cb4beee57ae36f2ea9cc7a5c17929745f
     ]
    }
   ],
   "source": [
<<<<<<< HEAD
    "print pd.crosstab(dftt['Survived'], dftt['Age'], rownames=['Survived'])\n",
    "\n",
    "#print pd.crosstab(df['admit'], df['prestige'], rownames=['admit'])"
=======
    "logit = sm.Logit(df['admit'], df[['gre', 'gpa', 1, 2, 3,]])\n",
    "\n",
    "# fit the model\n",
    "result = logit.fit()"
>>>>>>> 7f86e45cb4beee57ae36f2ea9cc7a5c17929745f
   ]
  },
  {
   "cell_type": "code",
<<<<<<< HEAD
   "execution_count": 34,
   "metadata": {
    "collapsed": false
   },
   "outputs": [
    {
     "data": {
      "image/png": "iVBORw0KGgoAAAANSUhEUgAAAeQAAAHmCAYAAACiZv3yAAAABHNCSVQICAgIfAhkiAAAAAlwSFlz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\nyERERCrAhExERKQCTMhEREQq8H/uMa9EKz24SwAAAABJRU5ErkJggg==\n",
      "text/plain": [
       "<matplotlib.figure.Figure at 0x1149b5b90>"
      ]
     },
     "metadata": {},
     "output_type": "display_data"
    }
   ],
   "source": [
    "#this didn't work out too well\n",
    "\n",
    "sns.lmplot(x='Age', y='Survived', data=dftt)\n",
    "\n",
    "sns.plt.show()"
   ]
  },
  {
   "cell_type": "code",
   "execution_count": 35,
=======
   "execution_count": 42,
>>>>>>> 7f86e45cb4beee57ae36f2ea9cc7a5c17929745f
   "metadata": {
    "collapsed": false
   },
   "outputs": [
    {
     "name": "stdout",
     "output_type": "stream",
     "text": [
<<<<<<< HEAD
      "Optimization terminated successfully.\n",
      "         Current function value: nan\n",
      "         Iterations 1\n",
      "                           Logit Regression Results                           \n",
      "==============================================================================\n",
      "Dep. Variable:               Survived   No. Observations:                  891\n",
      "Model:                          Logit   Df Residuals:                      891\n",
      "Method:                           MLE   Df Model:                           -1\n",
      "Date:                Thu, 08 Dec 2016   Pseudo R-squ.:                     nan\n",
      "Time:                        18:21:03   Log-Likelihood:                    nan\n",
      "converged:                       True   LL-Null:                       -593.33\n",
      "                                        LLR p-value:                       nan\n",
      "==============================================================================\n",
      "                 coef    std err          z      P>|z|      [95.0% Conf. Int.]\n",
      "------------------------------------------------------------------------------\n",
      "Age               nan        nan        nan        nan           nan       nan\n",
=======
      "                           Logit Regression Results                           \n",
      "==============================================================================\n",
      "Dep. Variable:                  admit   No. Observations:                  400\n",
      "Model:                          Logit   Df Residuals:                      395\n",
      "Method:                           MLE   Df Model:                            4\n",
      "Date:                Wed, 07 Dec 2016   Pseudo R-squ.:                 0.03032\n",
      "Time:                        21:23:00   Log-Likelihood:                -242.41\n",
      "converged:                       True   LL-Null:                       -249.99\n",
      "                                        LLR p-value:                  0.004385\n",
      "==============================================================================\n",
      "                 coef    std err          z      P>|z|      [95.0% Conf. Int.]\n",
      "------------------------------------------------------------------------------\n",
      "gre            0.0011      0.001      1.065      0.287        -0.001     0.003\n",
      "gpa           -0.5167      0.192     -2.688      0.007        -0.894    -0.140\n",
      "1              1.2834      0.385      3.337      0.001         0.529     2.037\n",
      "2              0.4964      0.325      1.528      0.127        -0.140     1.133\n",
      "3             -0.0611      0.354     -0.173      0.863        -0.754     0.632\n",
>>>>>>> 7f86e45cb4beee57ae36f2ea9cc7a5c17929745f
      "==============================================================================\n"
     ]
    }
   ],
   "source": [
<<<<<<< HEAD
    "# Now in logistic regression using statsmodels\n",
    "\n",
    "age_col = dftt.columns[5]\n",
    "logit = sm.Logit(dftt['Survived'], dftt[age_col])\n",
    "result = logit.fit()\n",
    "\n",
    "print result.summary()\n"
   ]
  },
  {
   "cell_type": "code",
   "execution_count": 1,
   "metadata": {
    "collapsed": false
   },
   "outputs": [
    {
     "name": "stdout",
     "output_type": "stream",
     "text": [
      "Object `sm.Logit` not found.\n"
     ]
    }
   ],
   "source": [
    "sm.Logit?"
   ]
  },
  {
   "cell_type": "code",
   "execution_count": 36,
   "metadata": {
    "collapsed": true
   },
   "outputs": [],
   "source": [
    "# Something didn't work above because of the \"nan\"s. Will ask about this."
   ]
  },
  {
   "cell_type": "code",
   "execution_count": 37,
   "metadata": {
    "collapsed": false
   },
   "outputs": [
    {
     "data": {
      "text/html": [
       "<div>\n",
       "<table border=\"1\" class=\"dataframe\">\n",
       "  <thead>\n",
       "    <tr style=\"text-align: right;\">\n",
       "      <th></th>\n",
       "      <th>PassengerId</th>\n",
       "      <th>Survived</th>\n",
       "      <th>Pclass</th>\n",
       "      <th>Name</th>\n",
       "      <th>Sex</th>\n",
       "      <th>Age</th>\n",
       "      <th>SibSp</th>\n",
       "      <th>Parch</th>\n",
       "      <th>Ticket</th>\n",
       "      <th>Fare</th>\n",
       "      <th>Cabin</th>\n",
       "      <th>Embarked</th>\n",
       "    </tr>\n",
       "  </thead>\n",
       "  <tbody>\n",
       "    <tr>\n",
       "      <th>0</th>\n",
       "      <td>1</td>\n",
       "      <td>0</td>\n",
       "      <td>3</td>\n",
       "      <td>Braund, Mr. Owen Harris</td>\n",
       "      <td>0</td>\n",
       "      <td>22.0</td>\n",
       "      <td>1</td>\n",
       "      <td>0</td>\n",
       "      <td>A/5 21171</td>\n",
       "      <td>7.2500</td>\n",
       "      <td>NaN</td>\n",
       "      <td>S</td>\n",
       "    </tr>\n",
       "    <tr>\n",
       "      <th>1</th>\n",
       "      <td>2</td>\n",
       "      <td>1</td>\n",
       "      <td>1</td>\n",
       "      <td>Cumings, Mrs. John Bradley (Florence Briggs Th...</td>\n",
       "      <td>1</td>\n",
       "      <td>38.0</td>\n",
       "      <td>1</td>\n",
       "      <td>0</td>\n",
       "      <td>PC 17599</td>\n",
       "      <td>71.2833</td>\n",
       "      <td>C85</td>\n",
       "      <td>C</td>\n",
       "    </tr>\n",
       "    <tr>\n",
       "      <th>2</th>\n",
       "      <td>3</td>\n",
       "      <td>1</td>\n",
       "      <td>3</td>\n",
       "      <td>Heikkinen, Miss. Laina</td>\n",
       "      <td>1</td>\n",
       "      <td>26.0</td>\n",
       "      <td>0</td>\n",
       "      <td>0</td>\n",
       "      <td>STON/O2. 3101282</td>\n",
       "      <td>7.9250</td>\n",
       "      <td>NaN</td>\n",
       "      <td>S</td>\n",
       "    </tr>\n",
       "    <tr>\n",
       "      <th>3</th>\n",
       "      <td>4</td>\n",
       "      <td>1</td>\n",
       "      <td>1</td>\n",
       "      <td>Futrelle, Mrs. Jacques Heath (Lily May Peel)</td>\n",
       "      <td>1</td>\n",
       "      <td>35.0</td>\n",
       "      <td>1</td>\n",
       "      <td>0</td>\n",
       "      <td>113803</td>\n",
       "      <td>53.1000</td>\n",
       "      <td>C123</td>\n",
       "      <td>S</td>\n",
       "    </tr>\n",
       "    <tr>\n",
       "      <th>4</th>\n",
       "      <td>5</td>\n",
       "      <td>0</td>\n",
       "      <td>3</td>\n",
       "      <td>Allen, Mr. William Henry</td>\n",
       "      <td>0</td>\n",
       "      <td>35.0</td>\n",
       "      <td>0</td>\n",
       "      <td>0</td>\n",
       "      <td>373450</td>\n",
       "      <td>8.0500</td>\n",
       "      <td>NaN</td>\n",
       "      <td>S</td>\n",
       "    </tr>\n",
       "  </tbody>\n",
       "</table>\n",
       "</div>"
      ],
      "text/plain": [
       "   PassengerId  Survived  Pclass  \\\n",
       "0            1         0       3   \n",
       "1            2         1       1   \n",
       "2            3         1       3   \n",
       "3            4         1       1   \n",
       "4            5         0       3   \n",
       "\n",
       "                                                Name  Sex   Age  SibSp  Parch  \\\n",
       "0                            Braund, Mr. Owen Harris    0  22.0      1      0   \n",
       "1  Cumings, Mrs. John Bradley (Florence Briggs Th...    1  38.0      1      0   \n",
       "2                             Heikkinen, Miss. Laina    1  26.0      0      0   \n",
       "3       Futrelle, Mrs. Jacques Heath (Lily May Peel)    1  35.0      1      0   \n",
       "4                           Allen, Mr. William Henry    0  35.0      0      0   \n",
       "\n",
       "             Ticket     Fare Cabin Embarked  \n",
       "0         A/5 21171   7.2500   NaN        S  \n",
       "1          PC 17599  71.2833   C85        C  \n",
       "2  STON/O2. 3101282   7.9250   NaN        S  \n",
       "3            113803  53.1000  C123        S  \n",
       "4            373450   8.0500   NaN        S  "
      ]
     },
     "execution_count": 37,
     "metadata": {},
     "output_type": "execute_result"
    }
   ],
   "source": [
    "#dftt['Sex'].replace(['male', 'female'], [0,1], inplace=True)\n",
    "\n",
    "dftt['Sex'].replace('female', 0,inplace=True)\n",
    "dftt['Sex'].replace('male', 1,inplace=True)\n",
    "dftt.head()"
   ]
  },
  {
   "cell_type": "code",
   "execution_count": 38,
   "metadata": {
    "collapsed": false
   },
   "outputs": [
    {
     "name": "stdout",
     "output_type": "stream",
     "text": [
      "   Pclass_1  Pclass_2  Pclass_3\n",
      "0       0.0       0.0       1.0\n",
      "1       1.0       0.0       0.0\n",
      "2       0.0       0.0       1.0\n",
      "3       1.0       0.0       0.0\n",
      "4       0.0       0.0       1.0\n"
     ]
    }
   ],
   "source": [
    "dummy_Pclass = pd.get_dummies(dftt['Pclass'], prefix='Pclass')\n",
    "print dummy_Pclass.head()\n"
   ]
  },
  {
   "cell_type": "code",
   "execution_count": 42,
   "metadata": {
    "collapsed": false
   },
   "outputs": [
    {
     "data": {
      "text/html": [
       "<div>\n",
       "<table border=\"1\" class=\"dataframe\">\n",
       "  <thead>\n",
       "    <tr style=\"text-align: right;\">\n",
       "      <th></th>\n",
       "      <th>Survived</th>\n",
       "      <th>Sex</th>\n",
       "      <th>Age</th>\n",
       "      <th>Pclass_2</th>\n",
       "      <th>Pclass_3</th>\n",
       "    </tr>\n",
       "  </thead>\n",
       "  <tbody>\n",
       "    <tr>\n",
       "      <th>0</th>\n",
       "      <td>0</td>\n",
       "      <td>0</td>\n",
       "      <td>22.0</td>\n",
       "      <td>0.0</td>\n",
       "      <td>1.0</td>\n",
       "    </tr>\n",
       "    <tr>\n",
       "      <th>1</th>\n",
       "      <td>1</td>\n",
       "      <td>1</td>\n",
       "      <td>38.0</td>\n",
       "      <td>0.0</td>\n",
       "      <td>0.0</td>\n",
       "    </tr>\n",
       "    <tr>\n",
       "      <th>2</th>\n",
       "      <td>1</td>\n",
       "      <td>1</td>\n",
       "      <td>26.0</td>\n",
       "      <td>0.0</td>\n",
       "      <td>1.0</td>\n",
       "    </tr>\n",
       "    <tr>\n",
       "      <th>3</th>\n",
       "      <td>1</td>\n",
       "      <td>1</td>\n",
       "      <td>35.0</td>\n",
       "      <td>0.0</td>\n",
       "      <td>0.0</td>\n",
       "    </tr>\n",
       "    <tr>\n",
       "      <th>4</th>\n",
       "      <td>0</td>\n",
       "      <td>0</td>\n",
       "      <td>35.0</td>\n",
       "      <td>0.0</td>\n",
       "      <td>1.0</td>\n",
       "    </tr>\n",
       "  </tbody>\n",
       "</table>\n",
       "</div>"
      ],
      "text/plain": [
       "   Survived  Sex   Age  Pclass_2  Pclass_3\n",
       "0         0    0  22.0       0.0       1.0\n",
       "1         1    1  38.0       0.0       0.0\n",
       "2         1    1  26.0       0.0       1.0\n",
       "3         1    1  35.0       0.0       0.0\n",
       "4         0    0  35.0       0.0       1.0"
      ]
     },
     "execution_count": 42,
     "metadata": {},
     "output_type": "execute_result"
    }
   ],
   "source": [
    "# new dataframe marrying dummy columns to selected columsn\n",
    "cols_to_keep = ['Survived', 'Sex', 'Age']\n",
    "data = dftt[cols_to_keep].join(dummy_Pclass.ix[:, 'Pclass_2':])\n",
    "data.head()\n"
   ]
  },
  {
   "cell_type": "code",
   "execution_count": 49,
   "metadata": {
    "collapsed": true
   },
   "outputs": [],
   "source": [
    "data['intercept'] = 1.0"
   ]
  },
  {
   "cell_type": "code",
   "execution_count": 46,
   "metadata": {
    "collapsed": false
   },
   "outputs": [],
   "source": [
    "def cartesian(arrays, out=None):\n",
    "    arrays = [np.asarray(x) for x in arrays]\n",
    "    dtype = arrays[0].dtype\n",
    "\n",
    "    n = np.prod([x.size for x in arrays])\n",
    "    if out is None:\n",
    "        out = np.zeros([n, len(arrays)], dtype=dtype)\n",
    "\n",
    "    m = n / arrays[0].size\n",
    "    out[:,0] = np.repeat(arrays[0], m)\n",
    "    if arrays[1:]:\n",
    "        cartesian(arrays[1:], out=out[0:m,1:])\n",
    "        for j in xrange(1, arrays[0].size):\n",
    "            out[j*m:(j+1)*m,1:] = out[0:m,1:]\n",
    "    return out"
   ]
  },
  {
   "cell_type": "code",
   "execution_count": 47,
   "metadata": {
    "collapsed": false
   },
   "outputs": [
    {
     "name": "stdout",
     "output_type": "stream",
     "text": [
      "[  0.42         9.26222222  18.10444444  26.94666667  35.78888889\n",
      "  44.63111111  53.47333333  62.31555556  71.15777778  80.        ]\n"
     ]
    }
   ],
   "source": [
    "# for age, I'm going to create an evenly spaced range of 10 values\n",
    "\n",
    "ages = np.linspace(data['Age'].min(), data['Age'].max(), 10)\n",
    "print ages"
   ]
  },
  {
   "cell_type": "code",
   "execution_count": 51,
   "metadata": {
    "collapsed": false
   },
   "outputs": [
    {
     "ename": "TypeError",
     "evalue": "'DataFrame' object is not callable",
     "output_type": "error",
     "traceback": [
      "\u001b[0;31m---------------------------------------------------------------------------\u001b[0m",
      "\u001b[0;31mTypeError\u001b[0m                                 Traceback (most recent call last)",
      "\u001b[0;32m<ipython-input-51-424709b82d1f>\u001b[0m in \u001b[0;36m<module>\u001b[0;34m()\u001b[0m\n\u001b[1;32m      1\u001b[0m \u001b[0;31m# enumerate all possibilities\u001b[0m\u001b[0;34m\u001b[0m\u001b[0;34m\u001b[0m\u001b[0m\n\u001b[0;32m----> 2\u001b[0;31m \u001b[0mall_poss\u001b[0m \u001b[0;34m=\u001b[0m \u001b[0mdftt\u001b[0m\u001b[0;34m(\u001b[0m\u001b[0mcartesian\u001b[0m\u001b[0;34m(\u001b[0m\u001b[0;34m[\u001b[0m\u001b[0mages\u001b[0m\u001b[0;34m,\u001b[0m \u001b[0;34m[\u001b[0m\u001b[0;36m1\u001b[0m\u001b[0;34m,\u001b[0m \u001b[0;36m2\u001b[0m\u001b[0;34m,\u001b[0m \u001b[0;36m3\u001b[0m\u001b[0;34m,\u001b[0m \u001b[0;36m4\u001b[0m\u001b[0;34m,\u001b[0m \u001b[0;36m5\u001b[0m\u001b[0;34m,\u001b[0m \u001b[0;36m6\u001b[0m\u001b[0;34m,\u001b[0m \u001b[0;36m7\u001b[0m\u001b[0;34m,\u001b[0m \u001b[0;36m8\u001b[0m\u001b[0;34m]\u001b[0m\u001b[0;34m,\u001b[0m \u001b[0;34m[\u001b[0m\u001b[0;36m1.\u001b[0m\u001b[0;34m]\u001b[0m\u001b[0;34m]\u001b[0m\u001b[0;34m)\u001b[0m\u001b[0;34m)\u001b[0m\u001b[0;34m\u001b[0m\u001b[0m\n\u001b[0m\u001b[1;32m      3\u001b[0m \u001b[0;34m\u001b[0m\u001b[0m\n\u001b[1;32m      4\u001b[0m \u001b[0;31m# recreate the dummy variables\u001b[0m\u001b[0;34m\u001b[0m\u001b[0;34m\u001b[0m\u001b[0m\n\u001b[1;32m      5\u001b[0m \u001b[0mall_poss\u001b[0m\u001b[0;34m.\u001b[0m\u001b[0mcolumns\u001b[0m \u001b[0;34m=\u001b[0m \u001b[0;34m[\u001b[0m\u001b[0;34m'ages'\u001b[0m\u001b[0;34m,\u001b[0m \u001b[0;34m'Sex'\u001b[0m\u001b[0;34m,\u001b[0m \u001b[0;34m'Pclass'\u001b[0m\u001b[0;34m,\u001b[0m \u001b[0;34m'intercept'\u001b[0m\u001b[0;34m]\u001b[0m\u001b[0;34m\u001b[0m\u001b[0m\n",
      "\u001b[0;31mTypeError\u001b[0m: 'DataFrame' object is not callable"
     ]
    }
   ],
   "source": [
    "# enumerate all possibilities\n",
    "all_poss = data(cartesian([ages, [1, 2, 3, 4, 5, 6, 7, 8], [1.]]))\n",
    "\n",
    "# recreate the dummy variables\n",
    "all_poss.columns = ['ages', 'Sex', 'Pclass', 'intercept']\n",
    "dummy_pclass = pd.get_dummies(all_poss['Pclass'], prefix='pclass')\n",
    "dummy_pclass.columns = ['pclass_1', 'pclass_2', 'pclass_3']\n",
    "\n",
    "# keep only what we need for making predictions\n",
    "cols_to_keep = ['ages', 'Sex', 'pclass', 'intercept']\n",
    "all_poss = all_poss[cols_to_keep].join(dummy_pclass.ix[:, 'pclass_2':])\n",
    "\n",
    "# make predictions on the enumerated dataset\n",
    "all_poss['admit_pred'] = result.predict(all_poss[train_cols])\n",
    "\n",
    "print all_poss.head()"
=======
    "print result.summary()"
>>>>>>> 7f86e45cb4beee57ae36f2ea9cc7a5c17929745f
   ]
  },
  {
   "cell_type": "code",
   "execution_count": null,
   "metadata": {
    "collapsed": true
   },
   "outputs": [],
   "source": []
  }
 ],
 "metadata": {
<<<<<<< HEAD
  "anaconda-cloud": {},
  "kernelspec": {
   "display_name": "Python [conda root]",
   "language": "python",
   "name": "conda-root-py"
=======
  "kernelspec": {
   "display_name": "Python 2",
   "language": "python",
   "name": "python2"
>>>>>>> 7f86e45cb4beee57ae36f2ea9cc7a5c17929745f
  },
  "language_info": {
   "codemirror_mode": {
    "name": "ipython",
    "version": 2
   },
   "file_extension": ".py",
   "mimetype": "text/x-python",
   "name": "python",
   "nbconvert_exporter": "python",
   "pygments_lexer": "ipython2",
   "version": "2.7.12"
  }
 },
 "nbformat": 4,
 "nbformat_minor": 0
}
